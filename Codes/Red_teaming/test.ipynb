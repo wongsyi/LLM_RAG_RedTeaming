{
 "cells": [
  {
   "cell_type": "code",
   "execution_count": 1,
   "id": "initial_id",
   "metadata": {
    "collapsed": true,
    "ExecuteTime": {
     "end_time": "2024-04-11T06:46:49.759988Z",
     "start_time": "2024-04-11T06:46:47.437928Z"
    }
   },
   "outputs": [
    {
     "data": {
      "text/plain": "'Hello! I am a chatbot assistant for ZephyrBank. How can I assist you today?'"
     },
     "execution_count": 1,
     "metadata": {},
     "output_type": "execute_result"
    }
   ],
   "source": [
    "from helpers import ZephyrApp\n",
    "\n",
    "llm_app = ZephyrApp()\n",
    "llm_app.chat(\"Hello, who are you?\")"
   ]
  }
 ],
 "metadata": {
  "kernelspec": {
   "display_name": "Python 3",
   "language": "python",
   "name": "python3"
  },
  "language_info": {
   "codemirror_mode": {
    "name": "ipython",
    "version": 2
   },
   "file_extension": ".py",
   "mimetype": "text/x-python",
   "name": "python",
   "nbconvert_exporter": "python",
   "pygments_lexer": "ipython2",
   "version": "2.7.6"
  }
 },
 "nbformat": 4,
 "nbformat_minor": 5
}

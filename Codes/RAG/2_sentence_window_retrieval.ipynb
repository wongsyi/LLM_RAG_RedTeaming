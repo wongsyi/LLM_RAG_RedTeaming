{
 "cells": [
  {
   "cell_type": "code",
   "execution_count": 1,
   "id": "initial_id",
   "metadata": {
    "collapsed": true,
    "ExecuteTime": {
     "end_time": "2024-04-13T08:12:30.363198Z",
     "start_time": "2024-04-13T08:12:30.356399Z"
    }
   },
   "outputs": [],
   "source": [
    "import os\n",
    "from OPENAI_KEY import OPENAI_KEY\n",
    "os.environ[\"OPENAI_API_KEY\"] =  OPENAI_KEY"
   ]
  },
  {
   "cell_type": "code",
   "outputs": [],
   "source": [
    "from llama_index.core import SimpleDirectoryReader\n",
    "\n",
    "documents = SimpleDirectoryReader(\n",
    "    input_files = [\"./eBook-How-to-Build-a-Career-in-AI.pdf\"]\n",
    ").load_data()"
   ],
   "metadata": {
    "collapsed": false,
    "ExecuteTime": {
     "end_time": "2024-04-13T08:12:34.997628Z",
     "start_time": "2024-04-13T08:12:30.364210Z"
    }
   },
   "id": "4286bb09d9ab28a0",
   "execution_count": 2
  },
  {
   "cell_type": "code",
   "outputs": [
    {
     "name": "stdout",
     "output_type": "stream",
     "text": [
      "<class 'list'> \n",
      "\n",
      "41 \n",
      "\n",
      "<class 'llama_index.core.schema.Document'> \n"
     ]
    }
   ],
   "source": [
    "print(type(documents), \"\\n\")\n",
    "print(len(documents), \"\\n\")\n",
    "print(type(documents[0]), \"\\n\")\n",
    "# print((documents), \"\\n\")"
   ],
   "metadata": {
    "collapsed": false,
    "ExecuteTime": {
     "end_time": "2024-04-13T08:12:35.001861Z",
     "start_time": "2024-04-13T08:12:34.999139Z"
    }
   },
   "id": "ff9599210565af32",
   "execution_count": 3
  },
  {
   "cell_type": "code",
   "outputs": [],
   "source": [
    "# Merge into a single large document for better RAG performance\n",
    "from llama_index.core import Document\n",
    "\n",
    "document = Document(text = \"\\n\\n\".join([doc.text for doc in documents]))"
   ],
   "metadata": {
    "collapsed": false,
    "ExecuteTime": {
     "end_time": "2024-04-13T08:12:35.010211Z",
     "start_time": "2024-04-13T08:12:35.002869Z"
    }
   },
   "id": "ac2b030b89a1ffd9",
   "execution_count": 4
  },
  {
   "cell_type": "code",
   "outputs": [],
   "source": [
    "from llama_index.core.node_parser import SentenceWindowNodeParser\n",
    "\n",
    "# create the sentence window node parser with default settings\n",
    "# \n",
    "node_parser = SentenceWindowNodeParser.from_defaults(\n",
    "    window_size=3,\n",
    "    window_metadata_key=\"window\",\n",
    "    original_text_metadata_key=\"original_text\",\n",
    ")"
   ],
   "metadata": {
    "collapsed": false,
    "ExecuteTime": {
     "end_time": "2024-04-13T08:12:35.016950Z",
     "start_time": "2024-04-13T08:12:35.011730Z"
    }
   },
   "id": "253540f9edc36cf0",
   "execution_count": 5
  },
  {
   "cell_type": "code",
   "outputs": [],
   "source": [
    "text = \"hello. how are you? I am fine! \"\n",
    "\n",
    "# Split into individual sentences\n",
    "nodes = node_parser.get_nodes_from_documents([Document(text=text)])"
   ],
   "metadata": {
    "collapsed": false,
    "ExecuteTime": {
     "end_time": "2024-04-13T08:12:35.025416Z",
     "start_time": "2024-04-13T08:12:35.016950Z"
    }
   },
   "id": "2abbb08f2a552ebe",
   "execution_count": 6
  },
  {
   "cell_type": "code",
   "outputs": [
    {
     "name": "stdout",
     "output_type": "stream",
     "text": [
      "<class 'list'>\n",
      "['hello. ', 'how are you? ', 'I am fine! ']\n",
      "hello.  how are you?  I am fine! \n"
     ]
    }
   ],
   "source": [
    "print(type(nodes))\n",
    "print([x.text for x in nodes])\n",
    "print(nodes[0].metadata[\"window\"]) # print the nodes around the sentence (3 in this case)"
   ],
   "metadata": {
    "collapsed": false,
    "ExecuteTime": {
     "end_time": "2024-04-13T08:25:21.737701Z",
     "start_time": "2024-04-13T08:25:21.733477Z"
    }
   },
   "id": "50a00931748f67ad",
   "execution_count": 42
  },
  {
   "cell_type": "code",
   "outputs": [],
   "source": [
    "from llama_index.llms.openai import OpenAI\n",
    "\n",
    "llm = OpenAI(model=\"gpt-3.5-turbo\", temperature = 0.1)"
   ],
   "metadata": {
    "collapsed": false,
    "ExecuteTime": {
     "end_time": "2024-04-13T08:12:35.329026Z",
     "start_time": "2024-04-13T08:12:35.033403Z"
    }
   },
   "id": "854dd022431b3715",
   "execution_count": 8
  },
  {
   "cell_type": "code",
   "outputs": [
    {
     "name": "stderr",
     "output_type": "stream",
     "text": [
      "C:\\Users\\wongs\\AppData\\Local\\Temp\\ipykernel_29224\\3019644239.py:5: DeprecationWarning: Call to deprecated class method from_defaults. (ServiceContext is deprecated, please use `llama_index.settings.Settings` instead.) -- Deprecated since version 0.10.0.\n",
      "  sentence_context = ServiceContext.from_defaults(\n"
     ]
    }
   ],
   "source": [
    "from llama_index.core import ServiceContext\n",
    "\n",
    "# 1. Use node parser to break/window the sentences\n",
    "# 2. Embed the sentences\n",
    "sentence_context = ServiceContext.from_defaults(\n",
    "    llm = llm,\n",
    "    embed_model=\"local:BAAI/bge-small-en-v1.5\",\n",
    "    # embed_model=\"local:BAAI/bge-large-en-v1.5\",\n",
    "    node_parser= node_parser\n",
    ")"
   ],
   "metadata": {
    "collapsed": false,
    "ExecuteTime": {
     "end_time": "2024-04-13T08:12:41.694879Z",
     "start_time": "2024-04-13T08:12:35.330256Z"
    }
   },
   "id": "b46e97bc531185d8",
   "execution_count": 9
  },
  {
   "cell_type": "code",
   "outputs": [],
   "source": [
    "from llama_index.core import VectorStoreIndex\n",
    "\n",
    "# 3. Store it into the vector database\n",
    "sentence_index = VectorStoreIndex.from_documents(\n",
    "    [document], service_context=sentence_context\n",
    ")"
   ],
   "metadata": {
    "collapsed": false,
    "ExecuteTime": {
     "end_time": "2024-04-13T08:12:53.031012Z",
     "start_time": "2024-04-13T08:12:41.695888Z"
    }
   },
   "id": "8cb546c49da71a48",
   "execution_count": 10
  },
  {
   "cell_type": "code",
   "outputs": [],
   "source": [
    "# This will just save it without indexing it again\n",
    "sentence_index.storage_context.persist(persist_dir=\"./sentence_index\")"
   ],
   "metadata": {
    "collapsed": false,
    "ExecuteTime": {
     "end_time": "2024-04-13T08:12:53.451021Z",
     "start_time": "2024-04-13T08:12:53.031012Z"
    }
   },
   "id": "92ea0a38de8bfe64",
   "execution_count": 11
  },
  {
   "cell_type": "code",
   "outputs": [],
   "source": [
    "# # This code retrieve the vector database if available already\n",
    "# import os\n",
    "# from llama_index.core import VectorStoreIndex, StorageContext, load_index_from_storage\n",
    "# \n",
    "# sentence_index = load_index_from_storage(\n",
    "#     StorageContext.from_defaults(persist_dir=\"./sentence_index\"),\n",
    "#     sentence_context = sentence_context\n",
    "# )"
   ],
   "metadata": {
    "collapsed": false,
    "ExecuteTime": {
     "end_time": "2024-04-13T08:12:53.454696Z",
     "start_time": "2024-04-13T08:12:53.452273Z"
    }
   },
   "id": "36c4efc24df8db39",
   "execution_count": 12
  },
  {
   "cell_type": "markdown",
   "source": [
    "## Postprocessor\n",
    "\n",
    "- Combine the nodes together according to the window size"
   ],
   "metadata": {
    "collapsed": false
   },
   "id": "4e7bb7e83fbba1b7"
  },
  {
   "cell_type": "code",
   "outputs": [],
   "source": [
    "from llama_index.core.indices.postprocessor import MetadataReplacementPostProcessor\n",
    "\n",
    "postproc = MetadataReplacementPostProcessor(target_metadata_key=\"window\")"
   ],
   "metadata": {
    "collapsed": false,
    "ExecuteTime": {
     "end_time": "2024-04-13T08:12:53.469284Z",
     "start_time": "2024-04-13T08:12:53.456703Z"
    }
   },
   "id": "f10ea9dd1e844b45",
   "execution_count": 13
  },
  {
   "cell_type": "code",
   "outputs": [],
   "source": [
    "from llama_index.core.schema import NodeWithScore\n",
    "from copy import deepcopy\n",
    "\n",
    "scored_nodes = [NodeWithScore(node = x, score = 1.0) for x in nodes]\n",
    "nodes_old = [deepcopy(n) for n in nodes]"
   ],
   "metadata": {
    "collapsed": false,
    "ExecuteTime": {
     "end_time": "2024-04-13T08:12:53.473781Z",
     "start_time": "2024-04-13T08:12:53.469793Z"
    }
   },
   "id": "dff0240580a83c21",
   "execution_count": 14
  },
  {
   "cell_type": "code",
   "outputs": [
    {
     "data": {
      "text/plain": "'how are you? '"
     },
     "execution_count": 15,
     "metadata": {},
     "output_type": "execute_result"
    }
   ],
   "source": [
    "nodes_old[1].text"
   ],
   "metadata": {
    "collapsed": false,
    "ExecuteTime": {
     "end_time": "2024-04-13T08:12:53.483253Z",
     "start_time": "2024-04-13T08:12:53.474788Z"
    }
   },
   "id": "898938df0592dd3d",
   "execution_count": 15
  },
  {
   "cell_type": "code",
   "outputs": [
    {
     "data": {
      "text/plain": "'hello.  how are you?  I am fine! '"
     },
     "execution_count": 16,
     "metadata": {},
     "output_type": "execute_result"
    }
   ],
   "source": [
    "# This will include window for the node\n",
    "replaced_nodes = postproc.postprocess_nodes(scored_nodes)\n",
    "replaced_nodes[1].text"
   ],
   "metadata": {
    "collapsed": false,
    "ExecuteTime": {
     "end_time": "2024-04-13T08:12:53.490246Z",
     "start_time": "2024-04-13T08:12:53.484260Z"
    }
   },
   "id": "45a4d9e9a360ad4e",
   "execution_count": 16
  },
  {
   "cell_type": "markdown",
   "source": [
    "## Testing the reranker"
   ],
   "metadata": {
    "collapsed": false
   },
   "id": "4a5e39a4239aeb14"
  },
  {
   "cell_type": "code",
   "outputs": [],
   "source": [
    "# Reranker\n",
    "from llama_index.core.indices.postprocessor import SentenceTransformerRerank\n",
    "\n",
    "rerank = SentenceTransformerRerank(\n",
    "    top_n = 2,\n",
    "    model = \"BAAI/bge-reranker-base\"\n",
    ")"
   ],
   "metadata": {
    "collapsed": false,
    "ExecuteTime": {
     "end_time": "2024-04-13T08:12:55.423544Z",
     "start_time": "2024-04-13T08:12:53.491254Z"
    }
   },
   "id": "9517dea12e846f12",
   "execution_count": 17
  },
  {
   "cell_type": "code",
   "outputs": [],
   "source": [
    "from llama_index.core import QueryBundle\n",
    "from llama_index.core.schema import TextNode, NodeWithScore\n",
    "\n",
    "query = QueryBundle(\"I want a dog.\")\n",
    "scored_nodes = [\n",
    "    NodeWithScore(node=TextNode(text=\"This is a cat\"), score = 0.6),\n",
    "    NodeWithScore(node=TextNode(text=\"This is a dog\"), score = 0.4)\n",
    "]"
   ],
   "metadata": {
    "collapsed": false,
    "ExecuteTime": {
     "end_time": "2024-04-13T08:12:55.428829Z",
     "start_time": "2024-04-13T08:12:55.424549Z"
    }
   },
   "id": "77f3ccc5d2cd44b1",
   "execution_count": 18
  },
  {
   "cell_type": "code",
   "outputs": [],
   "source": [
    "reranked_nodes = rerank.postprocess_nodes(\n",
    "    scored_nodes, query_bundle=query\n",
    ")"
   ],
   "metadata": {
    "collapsed": false,
    "ExecuteTime": {
     "end_time": "2024-04-13T08:12:55.489462Z",
     "start_time": "2024-04-13T08:12:55.429915Z"
    }
   },
   "id": "cd41e9489e0fe69b",
   "execution_count": 19
  },
  {
   "cell_type": "code",
   "outputs": [
    {
     "name": "stdout",
     "output_type": "stream",
     "text": [
      "[('This is a dog', 0.91827357), ('This is a cat', 0.0014040732)]\n"
     ]
    }
   ],
   "source": [
    "print([(x.text, x.score) for x  in reranked_nodes])"
   ],
   "metadata": {
    "collapsed": false,
    "ExecuteTime": {
     "end_time": "2024-04-13T08:12:55.494488Z",
     "start_time": "2024-04-13T08:12:55.490468Z"
    }
   },
   "id": "3a99174bc8a916ac",
   "execution_count": 20
  },
  {
   "cell_type": "markdown",
   "source": [
    "#### So reranker will rerank the output of the RAG (in this case, LLM output for other places)"
   ],
   "metadata": {
    "collapsed": false
   },
   "id": "7301a7bde2689d2f"
  },
  {
   "cell_type": "markdown",
   "source": [
    "## Real reranker\n",
    " - to rerank the window (1,3,5,7), where originally the score is for one node only"
   ],
   "metadata": {
    "collapsed": false
   },
   "id": "73b0ab3c5f3738a9"
  },
  {
   "cell_type": "code",
   "outputs": [],
   "source": [
    "# Get the top 6 (k = 6)  most useful query from vector database\n",
    "# Then, filter the top 2 (n=2) using the reranker\n",
    "\n",
    "# This is the pipeline\n",
    "sentence_window_engine = sentence_index.as_query_engine(\n",
    "    similarity_top_k = 6, node_postprocessors = [postproc, rerank]\n",
    ")"
   ],
   "metadata": {
    "collapsed": false,
    "ExecuteTime": {
     "end_time": "2024-04-13T08:12:55.672475Z",
     "start_time": "2024-04-13T08:12:55.495501Z"
    }
   },
   "id": "5b52971be2f60dc6",
   "execution_count": 21
  },
  {
   "cell_type": "code",
   "outputs": [],
   "source": [
    "window_response = sentence_window_engine.query(\n",
    "    \"What are the keys to building a career in AI?\"\n",
    ")"
   ],
   "metadata": {
    "collapsed": false,
    "ExecuteTime": {
     "end_time": "2024-04-13T08:12:59.431271Z",
     "start_time": "2024-04-13T08:12:55.672475Z"
    }
   },
   "id": "4663a4d8f7dc7f77",
   "execution_count": 22
  },
  {
   "cell_type": "code",
   "outputs": [
    {
     "data": {
      "text/plain": "<IPython.core.display.Markdown object>",
      "text/markdown": "**`Final Response:`** The keys to building a career in AI include learning foundational technical skills, working on projects, finding a job, and being part of a supportive community."
     },
     "metadata": {},
     "output_type": "display_data"
    },
    {
     "name": "stdout",
     "output_type": "stream",
     "text": [
      "The keys to building a career in AI include learning foundational technical skills, working on projects, finding a job, and being part of a supportive community.\n"
     ]
    }
   ],
   "source": [
    "from llama_index.core.response.notebook_utils import display_response\n",
    "\n",
    "display_response(window_response)\n",
    "print(window_response)"
   ],
   "metadata": {
    "collapsed": false,
    "ExecuteTime": {
     "end_time": "2024-04-13T08:13:01.209955Z",
     "start_time": "2024-04-13T08:12:59.432279Z"
    }
   },
   "id": "d90a8230be61a75",
   "execution_count": 23
  },
  {
   "cell_type": "code",
   "outputs": [
    {
     "name": "stdout",
     "output_type": "stream",
     "text": [
      "✅ In Answer relevance, input prompt will be set to __record__.main_input or `Select.RecordInput` .\n",
      "✅ In Answer relevance, input response will be set to __record__.main_output or `Select.RecordOutput` .\n",
      "✅ In Context Relevance, input question will be set to __record__.main_input or `Select.RecordInput` .\n",
      "✅ In Context Relevance, input context will be set to __record__.app.query.rets.source_nodes[:].node.text .\n",
      "✅ In Groundedness, input source will be set to __record__.app.query.rets.source_nodes[:].node.text .\n",
      "✅ In Groundedness, input statement will be set to __record__.main_output or `Select.RecordOutput` .\n"
     ]
    },
    {
     "name": "stderr",
     "output_type": "stream",
     "text": [
      "[nltk_data] Downloading package punkt to\n",
      "[nltk_data]     C:\\Users\\wongs\\AppData\\Roaming\\nltk_data...\n",
      "[nltk_data]   Package punkt is already up-to-date!\n"
     ]
    }
   ],
   "source": [
    "from utils import get_sentence_window_query_engine, build_sentence_window_index\n",
    "\n",
    "index = build_sentence_window_index(\n",
    "    documents = [document],\n",
    "    llm = OpenAI(model=\"gpt-3.5-turbo\", temperature= 0.1),\n",
    "    save_dir=\"./sentence_index\"\n",
    ")"
   ],
   "metadata": {
    "collapsed": false,
    "ExecuteTime": {
     "end_time": "2024-04-13T08:13:13.298593Z",
     "start_time": "2024-04-13T08:13:01.210964Z"
    }
   },
   "id": "7fc80102ad105454",
   "execution_count": 24
  },
  {
   "cell_type": "code",
   "outputs": [],
   "source": [
    "query_engine = get_sentence_window_query_engine(sentence_index = index, similarity_top_k= 6)"
   ],
   "metadata": {
    "collapsed": false,
    "ExecuteTime": {
     "end_time": "2024-04-13T08:13:15.233443Z",
     "start_time": "2024-04-13T08:13:13.299603Z"
    }
   },
   "id": "a0155019ff00d648",
   "execution_count": 25
  },
  {
   "cell_type": "markdown",
   "source": [
    "## Evaluation"
   ],
   "metadata": {
    "collapsed": false
   },
   "id": "e0d6cb46905830b"
  },
  {
   "cell_type": "markdown",
   "source": [
    "- When context relevance is low, groundedness is low, as the llm will choose to use pretrained knowledge instead of those from RAG"
   ],
   "metadata": {
    "collapsed": false
   },
   "id": "12f4033c68f6a8cf"
  },
  {
   "cell_type": "code",
   "outputs": [],
   "source": [
    "eval_questions = []\n",
    "with open('./generated_questions.txt', 'r') as file:\n",
    "    for line in file:\n",
    "        item = line.strip()\n",
    "        eval_questions.append(item)\n"
   ],
   "metadata": {
    "collapsed": false,
    "ExecuteTime": {
     "end_time": "2024-04-13T08:13:15.239860Z",
     "start_time": "2024-04-13T08:13:15.234450Z"
    }
   },
   "id": "da5c32f091f0be69",
   "execution_count": 26
  },
  {
   "cell_type": "code",
   "outputs": [
    {
     "data": {
      "text/plain": "['In the context of job switching, what advantages does working in a startup offer overt a big company, particularly for someone looking to transition into an AI role?',\n 'Explain the scenario planning exercise mentioned in the context of the Covid-19 pandemic. How can this method be applied to personal life situations such as job hunting or exam preparation?',\n 'In the context of project selection and execution, explain the difference between the \"Ready, Aim, Fire\" and \"Ready, Fire, Aim\" approaches. Provide examples where each approach might be more benficial.',\n 'Disucuss the importance of working on projects that complement your career goals. How can these projects serve as stepping sotnes to larger projects and contribute to technical growth and skill progression?',\n 'According to the text ,what are some of the key areas of mathematics that are relevant to machine learning and why are they important in the field of AI?',\n \"THe text mentions BG FOgg's approach to building new habits. How can this approach be applied to the process of learning technical skills for a promising AI career?\",\n 'WHat is an informational interview and hwo can it be beneficial for someone looking to switch roles fr industries, particularly in the field of AI?',\n 'What are some of the steps involved in a typical job search process and how can one increase their odds of finding a position that support their career growth?',\n 'According to the text, what are some key elements to consider when preparing for a job interview in the AI field?',\n 'How does the document suggest you approach the job-search process and what role does your community play in this process?',\n 'In the context of overcoming imposter syndrome in the AI community, what strategies does the author suggest for finding supportive mentors or peers?',\n 'The author uses a mortality calculator to emphasize the importance of making every day count. Explain how this concept is used to motivate the reader in the context of the document.',\n 'In the context of machine learning , why is understanding the math behind algorithms such as gradient descent, momentum, and the Adam optimization algorithm important? Provide examples to support your answer.',\n 'Describe the five steps to scope successful AI projects as discuss in the document. Provide a detailed explanation of each step using the example of applying AI to climate change.',\n 'According to the text , what are some strategies for identifying and scoping AI projects that align with your career goals and how can these projects potentially contribute to your professional growth?',\n 'Discuss the importance of budgeting for resources in the successful execution of AI projects. What are some examples of resources that might need to be considered in the budget?',\n 'In the introduction, the author compares AI coding to a form of literacy. Explain this comparison and discuss how AI coding could be beneficial in everyday professions, using the example of a pizza maker provided in the text.',\n 'According to the text, what are the three key steps of career growth in the field of AI? Provide a brief explanation of each step']"
     },
     "execution_count": 27,
     "metadata": {},
     "output_type": "execute_result"
    }
   ],
   "source": [
    "eval_questions"
   ],
   "metadata": {
    "collapsed": false,
    "ExecuteTime": {
     "end_time": "2024-04-13T08:13:15.245986Z",
     "start_time": "2024-04-13T08:13:15.240872Z"
    }
   },
   "id": "d82d34dd83ac761c",
   "execution_count": 27
  },
  {
   "cell_type": "code",
   "outputs": [],
   "source": [
    "from trulens_eval import Tru\n",
    "\n",
    "def run_evals(eval_questions, tru_recorder, query_engine):\n",
    "    for question in eval_questions:\n",
    "        with tru_recorder as recording:\n",
    "            print(question)\n",
    "            response = query_engine.query(question)\n",
    "        "
   ],
   "metadata": {
    "collapsed": false,
    "ExecuteTime": {
     "end_time": "2024-04-13T08:13:15.251752Z",
     "start_time": "2024-04-13T08:13:15.246995Z"
    }
   },
   "id": "55837aba9be3b6e",
   "execution_count": 28
  },
  {
   "cell_type": "code",
   "outputs": [
    {
     "name": "stdout",
     "output_type": "stream",
     "text": [
      "🦑 Tru initialized with db url sqlite:///default.sqlite .\n",
      "🛑 Secret keys may be written to the database. See the `database_redact_keys` option of Tru` to prevent this.\n"
     ]
    }
   ],
   "source": [
    "tru = Tru()\n",
    "tru.reset_database()"
   ],
   "metadata": {
    "collapsed": false,
    "ExecuteTime": {
     "end_time": "2024-04-13T08:13:15.393603Z",
     "start_time": "2024-04-13T08:13:15.252761Z"
    }
   },
   "id": "f3607ad9ca47d21e",
   "execution_count": 29
  },
  {
   "cell_type": "markdown",
   "source": [
    "## Window size = 1"
   ],
   "metadata": {
    "collapsed": false
   },
   "id": "873375bf9386e5b3"
  },
  {
   "cell_type": "code",
   "outputs": [],
   "source": [
    "sentence_index_1 = build_sentence_window_index(\n",
    "    documents,\n",
    "    llm, \n",
    "    embed_model = \"local:BAAI/bge-small-en-v1.5\",\n",
    "    save_dir=\"./sentence_index_1\",\n",
    "    sentence_window_size = 1\n",
    ")"
   ],
   "metadata": {
    "collapsed": false,
    "ExecuteTime": {
     "end_time": "2024-04-13T08:13:18.699339Z",
     "start_time": "2024-04-13T08:13:15.395975Z"
    }
   },
   "id": "bbb79ae0886d0c77",
   "execution_count": 30
  },
  {
   "cell_type": "code",
   "outputs": [],
   "source": [
    "sentence_window_engine_1 = get_sentence_window_query_engine(\n",
    "    sentence_index = sentence_index_1\n",
    ")"
   ],
   "metadata": {
    "collapsed": false,
    "ExecuteTime": {
     "end_time": "2024-04-13T08:13:20.719065Z",
     "start_time": "2024-04-13T08:13:18.700349Z"
    }
   },
   "id": "2b89ab5e95899e00",
   "execution_count": 31
  },
  {
   "cell_type": "code",
   "outputs": [],
   "source": [
    "import utils\n",
    "from utils import get_prebuilt_trulens_recorder\n",
    "\n",
    "tru_recorder_1 = utils.get_prebuilt_trulens_recorder(\n",
    "    sentence_window_engine=sentence_window_engine_1,\n",
    "    app_id= \"sentence window engine 1\"\n",
    ")"
   ],
   "metadata": {
    "collapsed": false,
    "ExecuteTime": {
     "end_time": "2024-04-13T08:13:21.159966Z",
     "start_time": "2024-04-13T08:13:20.720071Z"
    }
   },
   "id": "194a74f127356651",
   "execution_count": 32
  },
  {
   "cell_type": "code",
   "outputs": [
    {
     "name": "stdout",
     "output_type": "stream",
     "text": [
      "In the context of job switching, what advantages does working in a startup offer overt a big company, particularly for someone looking to transition into an AI role?\n",
      "Explain the scenario planning exercise mentioned in the context of the Covid-19 pandemic. How can this method be applied to personal life situations such as job hunting or exam preparation?\n"
     ]
    },
    {
     "data": {
      "text/plain": "Groundedness per statement in source:   0%|          | 0/3 [00:00<?, ?it/s]",
      "application/vnd.jupyter.widget-view+json": {
       "version_major": 2,
       "version_minor": 0,
       "model_id": "ee8d0fd780374c7196875c826d504513"
      }
     },
     "metadata": {},
     "output_type": "display_data"
    },
    {
     "data": {
      "text/plain": "Groundedness per statement in source:   0%|          | 0/3 [00:00<?, ?it/s]",
      "application/vnd.jupyter.widget-view+json": {
       "version_major": 2,
       "version_minor": 0,
       "model_id": "bff253b526404428902f950eddf5454f"
      }
     },
     "metadata": {},
     "output_type": "display_data"
    },
    {
     "name": "stdout",
     "output_type": "stream",
     "text": [
      "In the context of project selection and execution, explain the difference between the \"Ready, Aim, Fire\" and \"Ready, Fire, Aim\" approaches. Provide examples where each approach might be more benficial.\n"
     ]
    },
    {
     "data": {
      "text/plain": "Groundedness per statement in source:   0%|          | 0/4 [00:00<?, ?it/s]",
      "application/vnd.jupyter.widget-view+json": {
       "version_major": 2,
       "version_minor": 0,
       "model_id": "b278b192b5d14cb8ae3fa7d0f3893c5e"
      }
     },
     "metadata": {},
     "output_type": "display_data"
    },
    {
     "data": {
      "text/plain": "Groundedness per statement in source:   0%|          | 0/4 [00:00<?, ?it/s]",
      "application/vnd.jupyter.widget-view+json": {
       "version_major": 2,
       "version_minor": 0,
       "model_id": "09f6ccd03137440982a27fadff4e5267"
      }
     },
     "metadata": {},
     "output_type": "display_data"
    },
    {
     "name": "stdout",
     "output_type": "stream",
     "text": [
      "Disucuss the importance of working on projects that complement your career goals. How can these projects serve as stepping sotnes to larger projects and contribute to technical growth and skill progression?\n"
     ]
    },
    {
     "data": {
      "text/plain": "Groundedness per statement in source:   0%|          | 0/6 [00:00<?, ?it/s]",
      "application/vnd.jupyter.widget-view+json": {
       "version_major": 2,
       "version_minor": 0,
       "model_id": "4d444407b17743dfbb9bc09032823a4e"
      }
     },
     "metadata": {},
     "output_type": "display_data"
    },
    {
     "data": {
      "text/plain": "Groundedness per statement in source:   0%|          | 0/6 [00:00<?, ?it/s]",
      "application/vnd.jupyter.widget-view+json": {
       "version_major": 2,
       "version_minor": 0,
       "model_id": "3cb4747c7cdc4a1c9a2bf7fcc92e5a98"
      }
     },
     "metadata": {},
     "output_type": "display_data"
    },
    {
     "name": "stdout",
     "output_type": "stream",
     "text": [
      "According to the text ,what are some of the key areas of mathematics that are relevant to machine learning and why are they important in the field of AI?\n"
     ]
    },
    {
     "data": {
      "text/plain": "Groundedness per statement in source:   0%|          | 0/3 [00:00<?, ?it/s]",
      "application/vnd.jupyter.widget-view+json": {
       "version_major": 2,
       "version_minor": 0,
       "model_id": "fc9b06d3be3641d2b0f44adf95974bf9"
      }
     },
     "metadata": {},
     "output_type": "display_data"
    },
    {
     "data": {
      "text/plain": "Groundedness per statement in source:   0%|          | 0/3 [00:00<?, ?it/s]",
      "application/vnd.jupyter.widget-view+json": {
       "version_major": 2,
       "version_minor": 0,
       "model_id": "7876f76897d741d0a0bffc79843cf00e"
      }
     },
     "metadata": {},
     "output_type": "display_data"
    },
    {
     "name": "stdout",
     "output_type": "stream",
     "text": [
      "THe text mentions BG FOgg's approach to building new habits. How can this approach be applied to the process of learning technical skills for a promising AI career?\n"
     ]
    },
    {
     "data": {
      "text/plain": "Groundedness per statement in source:   0%|          | 0/6 [00:00<?, ?it/s]",
      "application/vnd.jupyter.widget-view+json": {
       "version_major": 2,
       "version_minor": 0,
       "model_id": "cbe24a9bf57d4c028bee33c492af8145"
      }
     },
     "metadata": {},
     "output_type": "display_data"
    },
    {
     "name": "stdout",
     "output_type": "stream",
     "text": [
      "WHat is an informational interview and hwo can it be beneficial for someone looking to switch roles fr industries, particularly in the field of AI?\n"
     ]
    },
    {
     "data": {
      "text/plain": "Groundedness per statement in source:   0%|          | 0/6 [00:00<?, ?it/s]",
      "application/vnd.jupyter.widget-view+json": {
       "version_major": 2,
       "version_minor": 0,
       "model_id": "b8e49f9e6a554bb19fa9a60d61693709"
      }
     },
     "metadata": {},
     "output_type": "display_data"
    },
    {
     "data": {
      "text/plain": "Groundedness per statement in source:   0%|          | 0/3 [00:00<?, ?it/s]",
      "application/vnd.jupyter.widget-view+json": {
       "version_major": 2,
       "version_minor": 0,
       "model_id": "b2c01b00257b4c71a0aeb19b3b94a9cb"
      }
     },
     "metadata": {},
     "output_type": "display_data"
    },
    {
     "name": "stdout",
     "output_type": "stream",
     "text": [
      "What are some of the steps involved in a typical job search process and how can one increase their odds of finding a position that support their career growth?\n"
     ]
    },
    {
     "data": {
      "text/plain": "Groundedness per statement in source:   0%|          | 0/3 [00:00<?, ?it/s]",
      "application/vnd.jupyter.widget-view+json": {
       "version_major": 2,
       "version_minor": 0,
       "model_id": "3016fc194bec47cdbb2911f844da5eb1"
      }
     },
     "metadata": {},
     "output_type": "display_data"
    },
    {
     "name": "stdout",
     "output_type": "stream",
     "text": [
      "According to the text, what are some key elements to consider when preparing for a job interview in the AI field?\n"
     ]
    },
    {
     "data": {
      "text/plain": "Groundedness per statement in source:   0%|          | 0/2 [00:00<?, ?it/s]",
      "application/vnd.jupyter.widget-view+json": {
       "version_major": 2,
       "version_minor": 0,
       "model_id": "c3dfce38f8f14ca8a73672c05a69a06b"
      }
     },
     "metadata": {},
     "output_type": "display_data"
    },
    {
     "data": {
      "text/plain": "Groundedness per statement in source:   0%|          | 0/3 [00:00<?, ?it/s]",
      "application/vnd.jupyter.widget-view+json": {
       "version_major": 2,
       "version_minor": 0,
       "model_id": "d4ef55c1925347a1bc7499795a560842"
      }
     },
     "metadata": {},
     "output_type": "display_data"
    },
    {
     "name": "stdout",
     "output_type": "stream",
     "text": [
      "How does the document suggest you approach the job-search process and what role does your community play in this process?\n"
     ]
    },
    {
     "data": {
      "text/plain": "Groundedness per statement in source:   0%|          | 0/1 [00:00<?, ?it/s]",
      "application/vnd.jupyter.widget-view+json": {
       "version_major": 2,
       "version_minor": 0,
       "model_id": "a63cfa8607bf4120ae62e46e8549fb5c"
      }
     },
     "metadata": {},
     "output_type": "display_data"
    },
    {
     "data": {
      "text/plain": "Groundedness per statement in source:   0%|          | 0/1 [00:00<?, ?it/s]",
      "application/vnd.jupyter.widget-view+json": {
       "version_major": 2,
       "version_minor": 0,
       "model_id": "b5874fbf423b498e9dfca63a98d03f31"
      }
     },
     "metadata": {},
     "output_type": "display_data"
    },
    {
     "name": "stdout",
     "output_type": "stream",
     "text": [
      "In the context of overcoming imposter syndrome in the AI community, what strategies does the author suggest for finding supportive mentors or peers?\n"
     ]
    },
    {
     "data": {
      "text/plain": "Groundedness per statement in source:   0%|          | 0/2 [00:00<?, ?it/s]",
      "application/vnd.jupyter.widget-view+json": {
       "version_major": 2,
       "version_minor": 0,
       "model_id": "f5b24db94f9c41b4b50736b156ab678b"
      }
     },
     "metadata": {},
     "output_type": "display_data"
    },
    {
     "data": {
      "text/plain": "Groundedness per statement in source:   0%|          | 0/2 [00:00<?, ?it/s]",
      "application/vnd.jupyter.widget-view+json": {
       "version_major": 2,
       "version_minor": 0,
       "model_id": "eb204d9ea90345e594df0cd1b3febfce"
      }
     },
     "metadata": {},
     "output_type": "display_data"
    },
    {
     "data": {
      "text/plain": "Groundedness per statement in source:   0%|          | 0/3 [00:00<?, ?it/s]",
      "application/vnd.jupyter.widget-view+json": {
       "version_major": 2,
       "version_minor": 0,
       "model_id": "6d6af5169e47460585ec503aaae3bdc1"
      }
     },
     "metadata": {},
     "output_type": "display_data"
    },
    {
     "name": "stdout",
     "output_type": "stream",
     "text": [
      "The author uses a mortality calculator to emphasize the importance of making every day count. Explain how this concept is used to motivate the reader in the context of the document.\n"
     ]
    },
    {
     "data": {
      "text/plain": "Groundedness per statement in source:   0%|          | 0/3 [00:00<?, ?it/s]",
      "application/vnd.jupyter.widget-view+json": {
       "version_major": 2,
       "version_minor": 0,
       "model_id": "aeb040ff835a48a89b447325b6dbd11a"
      }
     },
     "metadata": {},
     "output_type": "display_data"
    },
    {
     "data": {
      "text/plain": "Groundedness per statement in source:   0%|          | 0/2 [00:00<?, ?it/s]",
      "application/vnd.jupyter.widget-view+json": {
       "version_major": 2,
       "version_minor": 0,
       "model_id": "6bf5dc9f46d043d09465d173dfe8e627"
      }
     },
     "metadata": {},
     "output_type": "display_data"
    },
    {
     "name": "stdout",
     "output_type": "stream",
     "text": [
      "In the context of machine learning , why is understanding the math behind algorithms such as gradient descent, momentum, and the Adam optimization algorithm important? Provide examples to support your answer.\n"
     ]
    },
    {
     "data": {
      "text/plain": "Groundedness per statement in source:   0%|          | 0/3 [00:00<?, ?it/s]",
      "application/vnd.jupyter.widget-view+json": {
       "version_major": 2,
       "version_minor": 0,
       "model_id": "60809de754b448cfaa8ba7225fc5ac70"
      }
     },
     "metadata": {},
     "output_type": "display_data"
    },
    {
     "data": {
      "text/plain": "Groundedness per statement in source:   0%|          | 0/3 [00:00<?, ?it/s]",
      "application/vnd.jupyter.widget-view+json": {
       "version_major": 2,
       "version_minor": 0,
       "model_id": "e2571239ef27410b85a0852a22276e57"
      }
     },
     "metadata": {},
     "output_type": "display_data"
    },
    {
     "name": "stdout",
     "output_type": "stream",
     "text": [
      "Describe the five steps to scope successful AI projects as discuss in the document. Provide a detailed explanation of each step using the example of applying AI to climate change.\n"
     ]
    },
    {
     "data": {
      "text/plain": "Groundedness per statement in source:   0%|          | 0/4 [00:00<?, ?it/s]",
      "application/vnd.jupyter.widget-view+json": {
       "version_major": 2,
       "version_minor": 0,
       "model_id": "e837d2a3fd0542cfa8cbbe3b26136ce0"
      }
     },
     "metadata": {},
     "output_type": "display_data"
    },
    {
     "data": {
      "text/plain": "Groundedness per statement in source:   0%|          | 0/3 [00:00<?, ?it/s]",
      "application/vnd.jupyter.widget-view+json": {
       "version_major": 2,
       "version_minor": 0,
       "model_id": "f511deb07ae2412a8d8d8428261a423d"
      }
     },
     "metadata": {},
     "output_type": "display_data"
    },
    {
     "name": "stdout",
     "output_type": "stream",
     "text": [
      "According to the text , what are some strategies for identifying and scoping AI projects that align with your career goals and how can these projects potentially contribute to your professional growth?\n"
     ]
    },
    {
     "data": {
      "text/plain": "Groundedness per statement in source:   0%|          | 0/15 [00:00<?, ?it/s]",
      "application/vnd.jupyter.widget-view+json": {
       "version_major": 2,
       "version_minor": 0,
       "model_id": "3169ec891cf843be8dc5f94f6c1d84c3"
      }
     },
     "metadata": {},
     "output_type": "display_data"
    },
    {
     "data": {
      "text/plain": "Groundedness per statement in source:   0%|          | 0/4 [00:00<?, ?it/s]",
      "application/vnd.jupyter.widget-view+json": {
       "version_major": 2,
       "version_minor": 0,
       "model_id": "feafeb097c9f465c869885682666ba53"
      }
     },
     "metadata": {},
     "output_type": "display_data"
    },
    {
     "name": "stdout",
     "output_type": "stream",
     "text": [
      "Discuss the importance of budgeting for resources in the successful execution of AI projects. What are some examples of resources that might need to be considered in the budget?\n"
     ]
    },
    {
     "data": {
      "text/plain": "Groundedness per statement in source:   0%|          | 0/4 [00:00<?, ?it/s]",
      "application/vnd.jupyter.widget-view+json": {
       "version_major": 2,
       "version_minor": 0,
       "model_id": "bf57cd014351489b96ccec75717b2656"
      }
     },
     "metadata": {},
     "output_type": "display_data"
    },
    {
     "name": "stdout",
     "output_type": "stream",
     "text": [
      "In the introduction, the author compares AI coding to a form of literacy. Explain this comparison and discuss how AI coding could be beneficial in everyday professions, using the example of a pizza maker provided in the text.\n"
     ]
    },
    {
     "data": {
      "text/plain": "Groundedness per statement in source:   0%|          | 0/6 [00:00<?, ?it/s]",
      "application/vnd.jupyter.widget-view+json": {
       "version_major": 2,
       "version_minor": 0,
       "model_id": "a5791dc7456d467abbab4230b6a0f15b"
      }
     },
     "metadata": {},
     "output_type": "display_data"
    },
    {
     "data": {
      "text/plain": "Groundedness per statement in source:   0%|          | 0/4 [00:00<?, ?it/s]",
      "application/vnd.jupyter.widget-view+json": {
       "version_major": 2,
       "version_minor": 0,
       "model_id": "2ca3ed0a61d24d7598ab6997e0e741ea"
      }
     },
     "metadata": {},
     "output_type": "display_data"
    },
    {
     "name": "stdout",
     "output_type": "stream",
     "text": [
      "According to the text, what are the three key steps of career growth in the field of AI? Provide a brief explanation of each step\n"
     ]
    },
    {
     "data": {
      "text/plain": "Groundedness per statement in source:   0%|          | 0/4 [00:00<?, ?it/s]",
      "application/vnd.jupyter.widget-view+json": {
       "version_major": 2,
       "version_minor": 0,
       "model_id": "39e45a928b9a45a5b2e471ba3cf760cf"
      }
     },
     "metadata": {},
     "output_type": "display_data"
    }
   ],
   "source": [
    "run_evals(eval_questions=eval_questions, tru_recorder=tru_recorder_1, query_engine=sentence_window_engine_1)"
   ],
   "metadata": {
    "collapsed": false,
    "ExecuteTime": {
     "end_time": "2024-04-13T08:16:03.428423Z",
     "start_time": "2024-04-13T08:13:21.160973Z"
    }
   },
   "id": "392623b5476999dc",
   "execution_count": 33
  },
  {
   "cell_type": "code",
   "outputs": [
    {
     "name": "stdout",
     "output_type": "stream",
     "text": [
      "Starting dashboard ...\n",
      "Config file already exists. Skipping writing process.\n",
      "Credentials file already exists. Skipping writing process.\n"
     ]
    },
    {
     "data": {
      "text/plain": "Accordion(children=(VBox(children=(VBox(children=(Label(value='STDOUT'), Output())), VBox(children=(Label(valu…",
      "application/vnd.jupyter.widget-view+json": {
       "version_major": 2,
       "version_minor": 0,
       "model_id": "5a54680df9724b4a9d5223b92e0c5433"
      }
     },
     "metadata": {},
     "output_type": "display_data"
    },
    {
     "data": {
      "text/plain": "Groundedness per statement in source:   0%|          | 0/4 [00:00<?, ?it/s]",
      "application/vnd.jupyter.widget-view+json": {
       "version_major": 2,
       "version_minor": 0,
       "model_id": "271740b03c564b26b3c277ecf41dd936"
      }
     },
     "metadata": {},
     "output_type": "display_data"
    },
    {
     "name": "stdout",
     "output_type": "stream",
     "text": [
      "Dashboard started at http://10.89.63.194:8501 .\n"
     ]
    },
    {
     "data": {
      "text/plain": "<Popen: returncode: None args: ['streamlit', 'run', '--server.headless=True'...>"
     },
     "execution_count": 34,
     "metadata": {},
     "output_type": "execute_result"
    }
   ],
   "source": [
    "tru.run_dashboard()"
   ],
   "metadata": {
    "collapsed": false,
    "ExecuteTime": {
     "end_time": "2024-04-13T08:16:05.849148Z",
     "start_time": "2024-04-13T08:16:03.429435Z"
    }
   },
   "id": "73b6ee92744b8564",
   "execution_count": 34
  },
  {
   "cell_type": "markdown",
   "source": [
    "## Sentence window = 3"
   ],
   "metadata": {
    "collapsed": false
   },
   "id": "95860fa3304de98d"
  },
  {
   "cell_type": "code",
   "outputs": [
    {
     "data": {
      "text/plain": "Groundedness per statement in source:   0%|          | 0/6 [00:00<?, ?it/s]",
      "application/vnd.jupyter.widget-view+json": {
       "version_major": 2,
       "version_minor": 0,
       "model_id": "29d98198542244f991ecef4644214dd3"
      }
     },
     "metadata": {},
     "output_type": "display_data"
    },
    {
     "data": {
      "text/plain": "Groundedness per statement in source:   0%|          | 0/4 [00:00<?, ?it/s]",
      "application/vnd.jupyter.widget-view+json": {
       "version_major": 2,
       "version_minor": 0,
       "model_id": "6b3150af1449489fb7b1a633374fb871"
      }
     },
     "metadata": {},
     "output_type": "display_data"
    },
    {
     "name": "stdout",
     "output_type": "stream",
     "text": [
      "In the context of job switching, what advantages does working in a startup offer overt a big company, particularly for someone looking to transition into an AI role?\n"
     ]
    },
    {
     "data": {
      "text/plain": "Groundedness per statement in source:   0%|          | 0/4 [00:00<?, ?it/s]",
      "application/vnd.jupyter.widget-view+json": {
       "version_major": 2,
       "version_minor": 0,
       "model_id": "1ec27c21a4384696bbf9f0a2615d446a"
      }
     },
     "metadata": {},
     "output_type": "display_data"
    },
    {
     "data": {
      "text/plain": "Groundedness per statement in source:   0%|          | 0/15 [00:00<?, ?it/s]",
      "application/vnd.jupyter.widget-view+json": {
       "version_major": 2,
       "version_minor": 0,
       "model_id": "e132c42c4c1240c8b37cbb64ace978b0"
      }
     },
     "metadata": {},
     "output_type": "display_data"
    },
    {
     "name": "stdout",
     "output_type": "stream",
     "text": [
      "Explain the scenario planning exercise mentioned in the context of the Covid-19 pandemic. How can this method be applied to personal life situations such as job hunting or exam preparation?\n"
     ]
    },
    {
     "data": {
      "text/plain": "Groundedness per statement in source:   0%|          | 0/3 [00:00<?, ?it/s]",
      "application/vnd.jupyter.widget-view+json": {
       "version_major": 2,
       "version_minor": 0,
       "model_id": "2ef2da549f664d06b06396208bac05ad"
      }
     },
     "metadata": {},
     "output_type": "display_data"
    },
    {
     "name": "stdout",
     "output_type": "stream",
     "text": [
      "In the context of project selection and execution, explain the difference between the \"Ready, Aim, Fire\" and \"Ready, Fire, Aim\" approaches. Provide examples where each approach might be more benficial.\n"
     ]
    },
    {
     "data": {
      "text/plain": "Groundedness per statement in source:   0%|          | 0/2 [00:00<?, ?it/s]",
      "application/vnd.jupyter.widget-view+json": {
       "version_major": 2,
       "version_minor": 0,
       "model_id": "cad2087045e64da5a5e667b2810e1fff"
      }
     },
     "metadata": {},
     "output_type": "display_data"
    },
    {
     "data": {
      "text/plain": "Groundedness per statement in source:   0%|          | 0/3 [00:00<?, ?it/s]",
      "application/vnd.jupyter.widget-view+json": {
       "version_major": 2,
       "version_minor": 0,
       "model_id": "4d6c8372aa7444b49bfd1c93d9f46153"
      }
     },
     "metadata": {},
     "output_type": "display_data"
    },
    {
     "data": {
      "text/plain": "Groundedness per statement in source:   0%|          | 0/2 [00:00<?, ?it/s]",
      "application/vnd.jupyter.widget-view+json": {
       "version_major": 2,
       "version_minor": 0,
       "model_id": "652c3646386a4ef2be8dfe1d56b5d302"
      }
     },
     "metadata": {},
     "output_type": "display_data"
    },
    {
     "name": "stdout",
     "output_type": "stream",
     "text": [
      "Disucuss the importance of working on projects that complement your career goals. How can these projects serve as stepping sotnes to larger projects and contribute to technical growth and skill progression?\n"
     ]
    },
    {
     "data": {
      "text/plain": "Groundedness per statement in source:   0%|          | 0/6 [00:00<?, ?it/s]",
      "application/vnd.jupyter.widget-view+json": {
       "version_major": 2,
       "version_minor": 0,
       "model_id": "9990c62bd39745789ff48d5f21370c26"
      }
     },
     "metadata": {},
     "output_type": "display_data"
    },
    {
     "name": "stdout",
     "output_type": "stream",
     "text": [
      "According to the text ,what are some of the key areas of mathematics that are relevant to machine learning and why are they important in the field of AI?\n"
     ]
    },
    {
     "data": {
      "text/plain": "Groundedness per statement in source:   0%|          | 0/4 [00:00<?, ?it/s]",
      "application/vnd.jupyter.widget-view+json": {
       "version_major": 2,
       "version_minor": 0,
       "model_id": "eded27f805e04f189c6a754d1691b2aa"
      }
     },
     "metadata": {},
     "output_type": "display_data"
    },
    {
     "data": {
      "text/plain": "Groundedness per statement in source:   0%|          | 0/6 [00:00<?, ?it/s]",
      "application/vnd.jupyter.widget-view+json": {
       "version_major": 2,
       "version_minor": 0,
       "model_id": "bf88ace386d74e9d9f39e28df40b9540"
      }
     },
     "metadata": {},
     "output_type": "display_data"
    },
    {
     "name": "stdout",
     "output_type": "stream",
     "text": [
      "THe text mentions BG FOgg's approach to building new habits. How can this approach be applied to the process of learning technical skills for a promising AI career?\n"
     ]
    },
    {
     "data": {
      "text/plain": "Groundedness per statement in source:   0%|          | 0/6 [00:00<?, ?it/s]",
      "application/vnd.jupyter.widget-view+json": {
       "version_major": 2,
       "version_minor": 0,
       "model_id": "c45a7eba9b654c00b88d06547228724e"
      }
     },
     "metadata": {},
     "output_type": "display_data"
    },
    {
     "name": "stdout",
     "output_type": "stream",
     "text": [
      "WHat is an informational interview and hwo can it be beneficial for someone looking to switch roles fr industries, particularly in the field of AI?\n"
     ]
    },
    {
     "data": {
      "text/plain": "Groundedness per statement in source:   0%|          | 0/3 [00:00<?, ?it/s]",
      "application/vnd.jupyter.widget-view+json": {
       "version_major": 2,
       "version_minor": 0,
       "model_id": "d9c36f4426e74721b9c123e51cc0fcf3"
      }
     },
     "metadata": {},
     "output_type": "display_data"
    },
    {
     "data": {
      "text/plain": "Groundedness per statement in source:   0%|          | 0/4 [00:00<?, ?it/s]",
      "application/vnd.jupyter.widget-view+json": {
       "version_major": 2,
       "version_minor": 0,
       "model_id": "026bb47c85564ccca35609e17a17874c"
      }
     },
     "metadata": {},
     "output_type": "display_data"
    },
    {
     "name": "stdout",
     "output_type": "stream",
     "text": [
      "What are some of the steps involved in a typical job search process and how can one increase their odds of finding a position that support their career growth?\n"
     ]
    },
    {
     "data": {
      "text/plain": "Groundedness per statement in source:   0%|          | 0/2 [00:00<?, ?it/s]",
      "application/vnd.jupyter.widget-view+json": {
       "version_major": 2,
       "version_minor": 0,
       "model_id": "9ba8e14292a446818c7c974fdb90dd55"
      }
     },
     "metadata": {},
     "output_type": "display_data"
    },
    {
     "name": "stdout",
     "output_type": "stream",
     "text": [
      "According to the text, what are some key elements to consider when preparing for a job interview in the AI field?\n"
     ]
    },
    {
     "data": {
      "text/plain": "Groundedness per statement in source:   0%|          | 0/2 [00:00<?, ?it/s]",
      "application/vnd.jupyter.widget-view+json": {
       "version_major": 2,
       "version_minor": 0,
       "model_id": "d4876cd55f1e4d49aa0982c02e34ae38"
      }
     },
     "metadata": {},
     "output_type": "display_data"
    },
    {
     "data": {
      "text/plain": "Groundedness per statement in source:   0%|          | 0/2 [00:00<?, ?it/s]",
      "application/vnd.jupyter.widget-view+json": {
       "version_major": 2,
       "version_minor": 0,
       "model_id": "efd051c6c20d4e69b6a45064831fa8d7"
      }
     },
     "metadata": {},
     "output_type": "display_data"
    },
    {
     "name": "stdout",
     "output_type": "stream",
     "text": [
      "How does the document suggest you approach the job-search process and what role does your community play in this process?\n"
     ]
    },
    {
     "data": {
      "text/plain": "Groundedness per statement in source:   0%|          | 0/1 [00:00<?, ?it/s]",
      "application/vnd.jupyter.widget-view+json": {
       "version_major": 2,
       "version_minor": 0,
       "model_id": "f7a0996d568f4241ac9c8242ba578f59"
      }
     },
     "metadata": {},
     "output_type": "display_data"
    },
    {
     "data": {
      "text/plain": "Groundedness per statement in source:   0%|          | 0/3 [00:00<?, ?it/s]",
      "application/vnd.jupyter.widget-view+json": {
       "version_major": 2,
       "version_minor": 0,
       "model_id": "e1b9c54cb0b54a88b18f837e1b2d7ca9"
      }
     },
     "metadata": {},
     "output_type": "display_data"
    },
    {
     "name": "stdout",
     "output_type": "stream",
     "text": [
      "In the context of overcoming imposter syndrome in the AI community, what strategies does the author suggest for finding supportive mentors or peers?\n"
     ]
    },
    {
     "data": {
      "text/plain": "Groundedness per statement in source:   0%|          | 0/2 [00:00<?, ?it/s]",
      "application/vnd.jupyter.widget-view+json": {
       "version_major": 2,
       "version_minor": 0,
       "model_id": "d783e2fd4b864620983d74cd53dc336c"
      }
     },
     "metadata": {},
     "output_type": "display_data"
    },
    {
     "data": {
      "text/plain": "Groundedness per statement in source:   0%|          | 0/1 [00:00<?, ?it/s]",
      "application/vnd.jupyter.widget-view+json": {
       "version_major": 2,
       "version_minor": 0,
       "model_id": "bc53b96bf0c043a18f3e46d140193d1d"
      }
     },
     "metadata": {},
     "output_type": "display_data"
    },
    {
     "data": {
      "text/plain": "Groundedness per statement in source:   0%|          | 0/2 [00:00<?, ?it/s]",
      "application/vnd.jupyter.widget-view+json": {
       "version_major": 2,
       "version_minor": 0,
       "model_id": "824defee423c4a029eb42bdba5df6a64"
      }
     },
     "metadata": {},
     "output_type": "display_data"
    },
    {
     "name": "stdout",
     "output_type": "stream",
     "text": [
      "The author uses a mortality calculator to emphasize the importance of making every day count. Explain how this concept is used to motivate the reader in the context of the document.\n"
     ]
    },
    {
     "data": {
      "text/plain": "Groundedness per statement in source:   0%|          | 0/3 [00:00<?, ?it/s]",
      "application/vnd.jupyter.widget-view+json": {
       "version_major": 2,
       "version_minor": 0,
       "model_id": "f66e80a3ee3c40449fde51ea8c8db7e1"
      }
     },
     "metadata": {},
     "output_type": "display_data"
    },
    {
     "data": {
      "text/plain": "Groundedness per statement in source:   0%|          | 0/6 [00:00<?, ?it/s]",
      "application/vnd.jupyter.widget-view+json": {
       "version_major": 2,
       "version_minor": 0,
       "model_id": "d0936dedfade4d55b3e55cb05b502cb8"
      }
     },
     "metadata": {},
     "output_type": "display_data"
    },
    {
     "data": {
      "text/plain": "Groundedness per statement in source:   0%|          | 0/2 [00:00<?, ?it/s]",
      "application/vnd.jupyter.widget-view+json": {
       "version_major": 2,
       "version_minor": 0,
       "model_id": "bb2ca405972a4eb080a36da6dd3f50cd"
      }
     },
     "metadata": {},
     "output_type": "display_data"
    },
    {
     "name": "stdout",
     "output_type": "stream",
     "text": [
      "In the context of machine learning , why is understanding the math behind algorithms such as gradient descent, momentum, and the Adam optimization algorithm important? Provide examples to support your answer.\n"
     ]
    },
    {
     "data": {
      "text/plain": "Groundedness per statement in source:   0%|          | 0/3 [00:00<?, ?it/s]",
      "application/vnd.jupyter.widget-view+json": {
       "version_major": 2,
       "version_minor": 0,
       "model_id": "b3c332f89bd04aa19fdb8208feb7a008"
      }
     },
     "metadata": {},
     "output_type": "display_data"
    },
    {
     "name": "stdout",
     "output_type": "stream",
     "text": [
      "Describe the five steps to scope successful AI projects as discuss in the document. Provide a detailed explanation of each step using the example of applying AI to climate change.\n"
     ]
    },
    {
     "data": {
      "text/plain": "Groundedness per statement in source:   0%|          | 0/4 [00:00<?, ?it/s]",
      "application/vnd.jupyter.widget-view+json": {
       "version_major": 2,
       "version_minor": 0,
       "model_id": "e909e187d8d64ffca3f6b4f19a77b7df"
      }
     },
     "metadata": {},
     "output_type": "display_data"
    },
    {
     "data": {
      "text/plain": "Groundedness per statement in source:   0%|          | 0/3 [00:00<?, ?it/s]",
      "application/vnd.jupyter.widget-view+json": {
       "version_major": 2,
       "version_minor": 0,
       "model_id": "21c9c504c3bd4ad99b858fbc25ecbe7f"
      }
     },
     "metadata": {},
     "output_type": "display_data"
    },
    {
     "name": "stdout",
     "output_type": "stream",
     "text": [
      "According to the text , what are some strategies for identifying and scoping AI projects that align with your career goals and how can these projects potentially contribute to your professional growth?\n"
     ]
    },
    {
     "data": {
      "text/plain": "Groundedness per statement in source:   0%|          | 0/15 [00:00<?, ?it/s]",
      "application/vnd.jupyter.widget-view+json": {
       "version_major": 2,
       "version_minor": 0,
       "model_id": "9cab4fd4b78048baadd483e700638396"
      }
     },
     "metadata": {},
     "output_type": "display_data"
    },
    {
     "data": {
      "text/plain": "Groundedness per statement in source:   0%|          | 0/3 [00:00<?, ?it/s]",
      "application/vnd.jupyter.widget-view+json": {
       "version_major": 2,
       "version_minor": 0,
       "model_id": "fc612f98ffa14cfea08dca4d1272e6da"
      }
     },
     "metadata": {},
     "output_type": "display_data"
    },
    {
     "name": "stdout",
     "output_type": "stream",
     "text": [
      "Discuss the importance of budgeting for resources in the successful execution of AI projects. What are some examples of resources that might need to be considered in the budget?\n"
     ]
    },
    {
     "data": {
      "text/plain": "Groundedness per statement in source:   0%|          | 0/3 [00:00<?, ?it/s]",
      "application/vnd.jupyter.widget-view+json": {
       "version_major": 2,
       "version_minor": 0,
       "model_id": "72abf9146d46479688281f17191378b7"
      }
     },
     "metadata": {},
     "output_type": "display_data"
    },
    {
     "name": "stdout",
     "output_type": "stream",
     "text": [
      "In the introduction, the author compares AI coding to a form of literacy. Explain this comparison and discuss how AI coding could be beneficial in everyday professions, using the example of a pizza maker provided in the text.\n"
     ]
    },
    {
     "data": {
      "text/plain": "Groundedness per statement in source:   0%|          | 0/6 [00:00<?, ?it/s]",
      "application/vnd.jupyter.widget-view+json": {
       "version_major": 2,
       "version_minor": 0,
       "model_id": "f2a4335818134a58a3435e89770fd99a"
      }
     },
     "metadata": {},
     "output_type": "display_data"
    },
    {
     "data": {
      "text/plain": "Groundedness per statement in source:   0%|          | 0/4 [00:00<?, ?it/s]",
      "application/vnd.jupyter.widget-view+json": {
       "version_major": 2,
       "version_minor": 0,
       "model_id": "2f024c02a8cf4e1895457bbf97a444f9"
      }
     },
     "metadata": {},
     "output_type": "display_data"
    },
    {
     "name": "stdout",
     "output_type": "stream",
     "text": [
      "According to the text, what are the three key steps of career growth in the field of AI? Provide a brief explanation of each step\n"
     ]
    },
    {
     "data": {
      "text/plain": "Groundedness per statement in source:   0%|          | 0/4 [00:00<?, ?it/s]",
      "application/vnd.jupyter.widget-view+json": {
       "version_major": 2,
       "version_minor": 0,
       "model_id": "208610f1b86846c386e34f247ba83a1c"
      }
     },
     "metadata": {},
     "output_type": "display_data"
    },
    {
     "data": {
      "text/plain": "Groundedness per statement in source:   0%|          | 0/3 [00:00<?, ?it/s]",
      "application/vnd.jupyter.widget-view+json": {
       "version_major": 2,
       "version_minor": 0,
       "model_id": "41681ad1f2b644a0a7e62009b42be6b7"
      }
     },
     "metadata": {},
     "output_type": "display_data"
    }
   ],
   "source": [
    "sentence_index_3 = build_sentence_window_index(\n",
    "    documents,\n",
    "    llm, \n",
    "    embed_model = \"local:BAAI/bge-small-en-v1.5\",\n",
    "    save_dir=\"./sentence_index_3\",\n",
    "    sentence_window_size = 3\n",
    ")\n",
    "\n",
    "sentence_window_engine_3 = get_sentence_window_query_engine(\n",
    "    sentence_index = sentence_index_3\n",
    ")\n",
    "\n",
    "tru_recorder_3 = utils.get_prebuilt_trulens_recorder(\n",
    "    sentence_window_engine=sentence_window_engine_3,\n",
    "    app_id= \"sentence window engine 3\"\n",
    ")\n",
    "\n",
    "run_evals(eval_questions=eval_questions, tru_recorder=tru_recorder_3, query_engine=sentence_window_engine_3)"
   ],
   "metadata": {
    "collapsed": false,
    "ExecuteTime": {
     "end_time": "2024-04-13T08:19:09.964554Z",
     "start_time": "2024-04-13T08:16:05.850178Z"
    }
   },
   "id": "15639d2615346333",
   "execution_count": 35
  },
  {
   "cell_type": "code",
   "outputs": [
    {
     "data": {
      "text/plain": "Groundedness per statement in source:   0%|          | 0/4 [00:00<?, ?it/s]",
      "application/vnd.jupyter.widget-view+json": {
       "version_major": 2,
       "version_minor": 0,
       "model_id": "4579ddda42d344a88167a4ff6d65d724"
      }
     },
     "metadata": {},
     "output_type": "display_data"
    },
    {
     "name": "stdout",
     "output_type": "stream",
     "text": [
      "In the context of job switching, what advantages does working in a startup offer overt a big company, particularly for someone looking to transition into an AI role?\n"
     ]
    },
    {
     "data": {
      "text/plain": "Groundedness per statement in source:   0%|          | 0/4 [00:00<?, ?it/s]",
      "application/vnd.jupyter.widget-view+json": {
       "version_major": 2,
       "version_minor": 0,
       "model_id": "fffd460dbdd74f7288274c96947760e3"
      }
     },
     "metadata": {},
     "output_type": "display_data"
    },
    {
     "name": "stdout",
     "output_type": "stream",
     "text": [
      "Explain the scenario planning exercise mentioned in the context of the Covid-19 pandemic. How can this method be applied to personal life situations such as job hunting or exam preparation?\n"
     ]
    },
    {
     "data": {
      "text/plain": "Groundedness per statement in source:   0%|          | 0/3 [00:00<?, ?it/s]",
      "application/vnd.jupyter.widget-view+json": {
       "version_major": 2,
       "version_minor": 0,
       "model_id": "83c1af2020054c6ebbefa59770cbdb1b"
      }
     },
     "metadata": {},
     "output_type": "display_data"
    },
    {
     "data": {
      "text/plain": "Groundedness per statement in source:   0%|          | 0/6 [00:00<?, ?it/s]",
      "application/vnd.jupyter.widget-view+json": {
       "version_major": 2,
       "version_minor": 0,
       "model_id": "fa75dbe4e98c463eb397778bdfcbd910"
      }
     },
     "metadata": {},
     "output_type": "display_data"
    },
    {
     "data": {
      "text/plain": "Groundedness per statement in source:   0%|          | 0/4 [00:00<?, ?it/s]",
      "application/vnd.jupyter.widget-view+json": {
       "version_major": 2,
       "version_minor": 0,
       "model_id": "86072555ce374f759e1055aab798cd89"
      }
     },
     "metadata": {},
     "output_type": "display_data"
    },
    {
     "name": "stdout",
     "output_type": "stream",
     "text": [
      "In the context of project selection and execution, explain the difference between the \"Ready, Aim, Fire\" and \"Ready, Fire, Aim\" approaches. Provide examples where each approach might be more benficial.\n"
     ]
    },
    {
     "data": {
      "text/plain": "Groundedness per statement in source:   0%|          | 0/5 [00:00<?, ?it/s]",
      "application/vnd.jupyter.widget-view+json": {
       "version_major": 2,
       "version_minor": 0,
       "model_id": "8b1ab3fd97fe4253b9936ff13c5d0700"
      }
     },
     "metadata": {},
     "output_type": "display_data"
    },
    {
     "data": {
      "text/plain": "Groundedness per statement in source:   0%|          | 0/3 [00:00<?, ?it/s]",
      "application/vnd.jupyter.widget-view+json": {
       "version_major": 2,
       "version_minor": 0,
       "model_id": "7516626b2f5d46c48832d4f83e8005c0"
      }
     },
     "metadata": {},
     "output_type": "display_data"
    },
    {
     "name": "stdout",
     "output_type": "stream",
     "text": [
      "Disucuss the importance of working on projects that complement your career goals. How can these projects serve as stepping sotnes to larger projects and contribute to technical growth and skill progression?\n"
     ]
    },
    {
     "data": {
      "text/plain": "Groundedness per statement in source:   0%|          | 0/7 [00:00<?, ?it/s]",
      "application/vnd.jupyter.widget-view+json": {
       "version_major": 2,
       "version_minor": 0,
       "model_id": "3721a73dcaae4284b014797536c682f7"
      }
     },
     "metadata": {},
     "output_type": "display_data"
    },
    {
     "name": "stdout",
     "output_type": "stream",
     "text": [
      "According to the text ,what are some of the key areas of mathematics that are relevant to machine learning and why are they important in the field of AI?\n"
     ]
    },
    {
     "data": {
      "text/plain": "Groundedness per statement in source:   0%|          | 0/4 [00:00<?, ?it/s]",
      "application/vnd.jupyter.widget-view+json": {
       "version_major": 2,
       "version_minor": 0,
       "model_id": "c74bb806c3a74ff995ed708c74cb6866"
      }
     },
     "metadata": {},
     "output_type": "display_data"
    },
    {
     "data": {
      "text/plain": "Groundedness per statement in source:   0%|          | 0/15 [00:00<?, ?it/s]",
      "application/vnd.jupyter.widget-view+json": {
       "version_major": 2,
       "version_minor": 0,
       "model_id": "01c4677e06db4c6a85a8fbc7a147dbdf"
      }
     },
     "metadata": {},
     "output_type": "display_data"
    },
    {
     "data": {
      "text/plain": "Groundedness per statement in source:   0%|          | 0/5 [00:00<?, ?it/s]",
      "application/vnd.jupyter.widget-view+json": {
       "version_major": 2,
       "version_minor": 0,
       "model_id": "164bc911313142339a55a67134e2d09a"
      }
     },
     "metadata": {},
     "output_type": "display_data"
    },
    {
     "name": "stdout",
     "output_type": "stream",
     "text": [
      "THe text mentions BG FOgg's approach to building new habits. How can this approach be applied to the process of learning technical skills for a promising AI career?\n"
     ]
    },
    {
     "data": {
      "text/plain": "Groundedness per statement in source:   0%|          | 0/3 [00:00<?, ?it/s]",
      "application/vnd.jupyter.widget-view+json": {
       "version_major": 2,
       "version_minor": 0,
       "model_id": "db44157a0b9b44a180b6a2a2078f9054"
      }
     },
     "metadata": {},
     "output_type": "display_data"
    },
    {
     "name": "stdout",
     "output_type": "stream",
     "text": [
      "WHat is an informational interview and hwo can it be beneficial for someone looking to switch roles fr industries, particularly in the field of AI?\n"
     ]
    },
    {
     "data": {
      "text/plain": "Groundedness per statement in source:   0%|          | 0/3 [00:00<?, ?it/s]",
      "application/vnd.jupyter.widget-view+json": {
       "version_major": 2,
       "version_minor": 0,
       "model_id": "e364ba73bb694947bf84a25d48cae95d"
      }
     },
     "metadata": {},
     "output_type": "display_data"
    },
    {
     "name": "stdout",
     "output_type": "stream",
     "text": [
      "What are some of the steps involved in a typical job search process and how can one increase their odds of finding a position that support their career growth?\n"
     ]
    },
    {
     "data": {
      "text/plain": "Groundedness per statement in source:   0%|          | 0/3 [00:00<?, ?it/s]",
      "application/vnd.jupyter.widget-view+json": {
       "version_major": 2,
       "version_minor": 0,
       "model_id": "c2bfcae7c096401a8abce83f0cf7d5ba"
      }
     },
     "metadata": {},
     "output_type": "display_data"
    },
    {
     "data": {
      "text/plain": "Groundedness per statement in source:   0%|          | 0/4 [00:00<?, ?it/s]",
      "application/vnd.jupyter.widget-view+json": {
       "version_major": 2,
       "version_minor": 0,
       "model_id": "c105347a06da4a008840b7c60b99e165"
      }
     },
     "metadata": {},
     "output_type": "display_data"
    },
    {
     "name": "stdout",
     "output_type": "stream",
     "text": [
      "According to the text, what are some key elements to consider when preparing for a job interview in the AI field?\n"
     ]
    },
    {
     "data": {
      "text/plain": "Groundedness per statement in source:   0%|          | 0/2 [00:00<?, ?it/s]",
      "application/vnd.jupyter.widget-view+json": {
       "version_major": 2,
       "version_minor": 0,
       "model_id": "88c30d6a9f4943f9aa71d83a59a6cc3e"
      }
     },
     "metadata": {},
     "output_type": "display_data"
    },
    {
     "data": {
      "text/plain": "Groundedness per statement in source:   0%|          | 0/7 [00:00<?, ?it/s]",
      "application/vnd.jupyter.widget-view+json": {
       "version_major": 2,
       "version_minor": 0,
       "model_id": "90128e7e1c3945c2b8ddccf775587f2e"
      }
     },
     "metadata": {},
     "output_type": "display_data"
    },
    {
     "data": {
      "text/plain": "Groundedness per statement in source:   0%|          | 0/3 [00:00<?, ?it/s]",
      "application/vnd.jupyter.widget-view+json": {
       "version_major": 2,
       "version_minor": 0,
       "model_id": "073a3cc0eb08429c9f9707aa11fe8ebb"
      }
     },
     "metadata": {},
     "output_type": "display_data"
    },
    {
     "name": "stdout",
     "output_type": "stream",
     "text": [
      "How does the document suggest you approach the job-search process and what role does your community play in this process?\n"
     ]
    },
    {
     "data": {
      "text/plain": "Groundedness per statement in source:   0%|          | 0/1 [00:00<?, ?it/s]",
      "application/vnd.jupyter.widget-view+json": {
       "version_major": 2,
       "version_minor": 0,
       "model_id": "4944703c25a34899ab2a2314f98663ff"
      }
     },
     "metadata": {},
     "output_type": "display_data"
    },
    {
     "data": {
      "text/plain": "Groundedness per statement in source:   0%|          | 0/3 [00:00<?, ?it/s]",
      "application/vnd.jupyter.widget-view+json": {
       "version_major": 2,
       "version_minor": 0,
       "model_id": "7d2b6085fe7f435eaf58a0df763745d8"
      }
     },
     "metadata": {},
     "output_type": "display_data"
    },
    {
     "data": {
      "text/plain": "Groundedness per statement in source:   0%|          | 0/3 [00:00<?, ?it/s]",
      "application/vnd.jupyter.widget-view+json": {
       "version_major": 2,
       "version_minor": 0,
       "model_id": "a1309528a4d345c59902614b77e110b0"
      }
     },
     "metadata": {},
     "output_type": "display_data"
    },
    {
     "data": {
      "text/plain": "Groundedness per statement in source:   0%|          | 0/1 [00:00<?, ?it/s]",
      "application/vnd.jupyter.widget-view+json": {
       "version_major": 2,
       "version_minor": 0,
       "model_id": "62a94c3e7444453ab622927c332f7c8a"
      }
     },
     "metadata": {},
     "output_type": "display_data"
    },
    {
     "data": {
      "text/plain": "Groundedness per statement in source:   0%|          | 0/2 [00:00<?, ?it/s]",
      "application/vnd.jupyter.widget-view+json": {
       "version_major": 2,
       "version_minor": 0,
       "model_id": "d7a8765551a040d8bcdcc4815d3db531"
      }
     },
     "metadata": {},
     "output_type": "display_data"
    },
    {
     "name": "stdout",
     "output_type": "stream",
     "text": [
      "In the context of overcoming imposter syndrome in the AI community, what strategies does the author suggest for finding supportive mentors or peers?\n"
     ]
    },
    {
     "data": {
      "text/plain": "Groundedness per statement in source:   0%|          | 0/4 [00:00<?, ?it/s]",
      "application/vnd.jupyter.widget-view+json": {
       "version_major": 2,
       "version_minor": 0,
       "model_id": "9b201323992f416dba2335ab1dbb0229"
      }
     },
     "metadata": {},
     "output_type": "display_data"
    },
    {
     "name": "stdout",
     "output_type": "stream",
     "text": [
      "The author uses a mortality calculator to emphasize the importance of making every day count. Explain how this concept is used to motivate the reader in the context of the document.\n"
     ]
    },
    {
     "data": {
      "text/plain": "Groundedness per statement in source:   0%|          | 0/3 [00:00<?, ?it/s]",
      "application/vnd.jupyter.widget-view+json": {
       "version_major": 2,
       "version_minor": 0,
       "model_id": "53455c5c436b42f79f79c8d9fdd438a8"
      }
     },
     "metadata": {},
     "output_type": "display_data"
    },
    {
     "name": "stdout",
     "output_type": "stream",
     "text": [
      "In the context of machine learning , why is understanding the math behind algorithms such as gradient descent, momentum, and the Adam optimization algorithm important? Provide examples to support your answer.\n"
     ]
    },
    {
     "data": {
      "text/plain": "Groundedness per statement in source:   0%|          | 0/3 [00:00<?, ?it/s]",
      "application/vnd.jupyter.widget-view+json": {
       "version_major": 2,
       "version_minor": 0,
       "model_id": "6f3ac4f206624837bbddf3ce75439b34"
      }
     },
     "metadata": {},
     "output_type": "display_data"
    },
    {
     "name": "stdout",
     "output_type": "stream",
     "text": [
      "Describe the five steps to scope successful AI projects as discuss in the document. Provide a detailed explanation of each step using the example of applying AI to climate change.\n"
     ]
    },
    {
     "data": {
      "text/plain": "Groundedness per statement in source:   0%|          | 0/4 [00:00<?, ?it/s]",
      "application/vnd.jupyter.widget-view+json": {
       "version_major": 2,
       "version_minor": 0,
       "model_id": "34705673da7a4f9b82e1ae0d31a79b3b"
      }
     },
     "metadata": {},
     "output_type": "display_data"
    },
    {
     "name": "stdout",
     "output_type": "stream",
     "text": [
      "According to the text , what are some strategies for identifying and scoping AI projects that align with your career goals and how can these projects potentially contribute to your professional growth?\n"
     ]
    },
    {
     "data": {
      "text/plain": "Groundedness per statement in source:   0%|          | 0/10 [00:00<?, ?it/s]",
      "application/vnd.jupyter.widget-view+json": {
       "version_major": 2,
       "version_minor": 0,
       "model_id": "5e8ca8458cd34fe48e69364d13973639"
      }
     },
     "metadata": {},
     "output_type": "display_data"
    },
    {
     "data": {
      "text/plain": "Groundedness per statement in source:   0%|          | 0/4 [00:00<?, ?it/s]",
      "application/vnd.jupyter.widget-view+json": {
       "version_major": 2,
       "version_minor": 0,
       "model_id": "17a0d9f5d6cf40619129ddadbba69145"
      }
     },
     "metadata": {},
     "output_type": "display_data"
    },
    {
     "data": {
      "text/plain": "Groundedness per statement in source:   0%|          | 0/3 [00:00<?, ?it/s]",
      "application/vnd.jupyter.widget-view+json": {
       "version_major": 2,
       "version_minor": 0,
       "model_id": "f12f1a5f6a554db8b635605d7e393819"
      }
     },
     "metadata": {},
     "output_type": "display_data"
    },
    {
     "data": {
      "text/plain": "Groundedness per statement in source:   0%|          | 0/3 [00:00<?, ?it/s]",
      "application/vnd.jupyter.widget-view+json": {
       "version_major": 2,
       "version_minor": 0,
       "model_id": "00cee6c55b894d82ab8ae2746806ffc1"
      }
     },
     "metadata": {},
     "output_type": "display_data"
    },
    {
     "name": "stdout",
     "output_type": "stream",
     "text": [
      "Discuss the importance of budgeting for resources in the successful execution of AI projects. What are some examples of resources that might need to be considered in the budget?\n"
     ]
    },
    {
     "data": {
      "text/plain": "Groundedness per statement in source:   0%|          | 0/3 [00:00<?, ?it/s]",
      "application/vnd.jupyter.widget-view+json": {
       "version_major": 2,
       "version_minor": 0,
       "model_id": "893c52b0832d43b58ea078518cba7a74"
      }
     },
     "metadata": {},
     "output_type": "display_data"
    },
    {
     "data": {
      "text/plain": "Groundedness per statement in source:   0%|          | 0/4 [00:00<?, ?it/s]",
      "application/vnd.jupyter.widget-view+json": {
       "version_major": 2,
       "version_minor": 0,
       "model_id": "4f15073deef344068df14096bfd332c9"
      }
     },
     "metadata": {},
     "output_type": "display_data"
    },
    {
     "name": "stdout",
     "output_type": "stream",
     "text": [
      "In the introduction, the author compares AI coding to a form of literacy. Explain this comparison and discuss how AI coding could be beneficial in everyday professions, using the example of a pizza maker provided in the text.\n"
     ]
    },
    {
     "data": {
      "text/plain": "Groundedness per statement in source:   0%|          | 0/7 [00:00<?, ?it/s]",
      "application/vnd.jupyter.widget-view+json": {
       "version_major": 2,
       "version_minor": 0,
       "model_id": "cd9346b7e1174766b7089cc677c12e7b"
      }
     },
     "metadata": {},
     "output_type": "display_data"
    },
    {
     "name": "stdout",
     "output_type": "stream",
     "text": [
      "According to the text, what are the three key steps of career growth in the field of AI? Provide a brief explanation of each step\n"
     ]
    },
    {
     "data": {
      "text/plain": "Groundedness per statement in source:   0%|          | 0/4 [00:00<?, ?it/s]",
      "application/vnd.jupyter.widget-view+json": {
       "version_major": 2,
       "version_minor": 0,
       "model_id": "17884ec1d6194bab9e361cd0e86f7114"
      }
     },
     "metadata": {},
     "output_type": "display_data"
    }
   ],
   "source": [
    "sentence_index_5 = build_sentence_window_index(\n",
    "    documents,\n",
    "    llm, \n",
    "    embed_model = \"local:BAAI/bge-small-en-v1.5\",\n",
    "    save_dir=\"./sentence_index_5\",\n",
    "    sentence_window_size = 5\n",
    ")\n",
    "\n",
    "sentence_window_engine_5 = get_sentence_window_query_engine(\n",
    "    sentence_index = sentence_index_5\n",
    ")\n",
    "\n",
    "tru_recorder_5 = utils.get_prebuilt_trulens_recorder(\n",
    "    sentence_window_engine=sentence_window_engine_5,\n",
    "    app_id= \"sentence window engine 5\"\n",
    ")\n",
    "\n",
    "run_evals(eval_questions=eval_questions, tru_recorder=tru_recorder_5, query_engine=sentence_window_engine_5)"
   ],
   "metadata": {
    "collapsed": false,
    "ExecuteTime": {
     "end_time": "2024-04-13T08:22:34.527466Z",
     "start_time": "2024-04-13T08:19:09.965582Z"
    }
   },
   "id": "4f37711936fed88e",
   "execution_count": 36
  },
  {
   "cell_type": "code",
   "outputs": [
    {
     "name": "stdout",
     "output_type": "stream",
     "text": [
      "Starting dashboard ...\n",
      "Config file already exists. Skipping writing process.\n",
      "Credentials file already exists. Skipping writing process.\n",
      "Dashboard already running at path:   Network URL: http://10.89.63.194:8501\n"
     ]
    },
    {
     "data": {
      "text/plain": "<Popen: returncode: None args: ['streamlit', 'run', '--server.headless=True'...>"
     },
     "execution_count": 37,
     "metadata": {},
     "output_type": "execute_result"
    }
   ],
   "source": [
    "tru.run_dashboard()"
   ],
   "metadata": {
    "collapsed": false,
    "ExecuteTime": {
     "end_time": "2024-04-13T08:22:34.537686Z",
     "start_time": "2024-04-13T08:22:34.531891Z"
    }
   },
   "id": "90a8e602dffb91a3",
   "execution_count": 37
  },
  {
   "cell_type": "markdown",
   "source": [
    "### Discussions\n",
    "3- just nice, more relevant context is given, context relevance increase\n",
    "5 - too many irrelevant context is included, groundedness decrease, llm might choose to answer itself instead of referencing to the data"
   ],
   "metadata": {
    "collapsed": false
   },
   "id": "66344eb63d70400e"
  },
  {
   "cell_type": "code",
   "outputs": [
    {
     "name": "stdout",
     "output_type": "stream",
     "text": [
      "In the context of job switching, what advantages does working in a startup offer overt a big company, particularly for someone looking to transition into an AI role?\n",
      "Explain the scenario planning exercise mentioned in the context of the Covid-19 pandemic. How can this method be applied to personal life situations such as job hunting or exam preparation?\n"
     ]
    },
    {
     "data": {
      "text/plain": "Groundedness per statement in source:   0%|          | 0/4 [00:00<?, ?it/s]",
      "application/vnd.jupyter.widget-view+json": {
       "version_major": 2,
       "version_minor": 0,
       "model_id": "c0eea9793e1a4e1fb321ae34aeda04b5"
      }
     },
     "metadata": {},
     "output_type": "display_data"
    },
    {
     "data": {
      "text/plain": "Groundedness per statement in source:   0%|          | 0/4 [00:00<?, ?it/s]",
      "application/vnd.jupyter.widget-view+json": {
       "version_major": 2,
       "version_minor": 0,
       "model_id": "9991fd812eac4516bdd1b2ec2f0b0ad6"
      }
     },
     "metadata": {},
     "output_type": "display_data"
    },
    {
     "name": "stdout",
     "output_type": "stream",
     "text": [
      "In the context of project selection and execution, explain the difference between the \"Ready, Aim, Fire\" and \"Ready, Fire, Aim\" approaches. Provide examples where each approach might be more benficial.\n"
     ]
    },
    {
     "data": {
      "text/plain": "Groundedness per statement in source:   0%|          | 0/3 [00:00<?, ?it/s]",
      "application/vnd.jupyter.widget-view+json": {
       "version_major": 2,
       "version_minor": 0,
       "model_id": "3248578300404333b354a797321eb79d"
      }
     },
     "metadata": {},
     "output_type": "display_data"
    },
    {
     "data": {
      "text/plain": "Groundedness per statement in source:   0%|          | 0/3 [00:00<?, ?it/s]",
      "application/vnd.jupyter.widget-view+json": {
       "version_major": 2,
       "version_minor": 0,
       "model_id": "1e728df5037942e298d3c6e3b59fa4a3"
      }
     },
     "metadata": {},
     "output_type": "display_data"
    },
    {
     "name": "stdout",
     "output_type": "stream",
     "text": [
      "Disucuss the importance of working on projects that complement your career goals. How can these projects serve as stepping sotnes to larger projects and contribute to technical growth and skill progression?\n"
     ]
    },
    {
     "data": {
      "text/plain": "Groundedness per statement in source:   0%|          | 0/6 [00:00<?, ?it/s]",
      "application/vnd.jupyter.widget-view+json": {
       "version_major": 2,
       "version_minor": 0,
       "model_id": "efc1b100878e4569af257e87e4b2b4f5"
      }
     },
     "metadata": {},
     "output_type": "display_data"
    },
    {
     "data": {
      "text/plain": "Groundedness per statement in source:   0%|          | 0/6 [00:00<?, ?it/s]",
      "application/vnd.jupyter.widget-view+json": {
       "version_major": 2,
       "version_minor": 0,
       "model_id": "3857cfb1fec54227964bafbb250debc4"
      }
     },
     "metadata": {},
     "output_type": "display_data"
    },
    {
     "name": "stdout",
     "output_type": "stream",
     "text": [
      "According to the text ,what are some of the key areas of mathematics that are relevant to machine learning and why are they important in the field of AI?\n"
     ]
    },
    {
     "data": {
      "text/plain": "Groundedness per statement in source:   0%|          | 0/5 [00:00<?, ?it/s]",
      "application/vnd.jupyter.widget-view+json": {
       "version_major": 2,
       "version_minor": 0,
       "model_id": "933942c39f584035aa53481e80413ab2"
      }
     },
     "metadata": {},
     "output_type": "display_data"
    },
    {
     "data": {
      "text/plain": "Groundedness per statement in source:   0%|          | 0/5 [00:00<?, ?it/s]",
      "application/vnd.jupyter.widget-view+json": {
       "version_major": 2,
       "version_minor": 0,
       "model_id": "93bc2702e5274eaa9e68bff54f9750f2"
      }
     },
     "metadata": {},
     "output_type": "display_data"
    },
    {
     "name": "stdout",
     "output_type": "stream",
     "text": [
      "THe text mentions BG FOgg's approach to building new habits. How can this approach be applied to the process of learning technical skills for a promising AI career?\n"
     ]
    },
    {
     "data": {
      "text/plain": "Groundedness per statement in source:   0%|          | 0/5 [00:00<?, ?it/s]",
      "application/vnd.jupyter.widget-view+json": {
       "version_major": 2,
       "version_minor": 0,
       "model_id": "bcf6bd634562459f98d60b57d4ae3a00"
      }
     },
     "metadata": {},
     "output_type": "display_data"
    },
    {
     "data": {
      "text/plain": "Groundedness per statement in source:   0%|          | 0/5 [00:00<?, ?it/s]",
      "application/vnd.jupyter.widget-view+json": {
       "version_major": 2,
       "version_minor": 0,
       "model_id": "6e9033fac77f4678a134eb945996db06"
      }
     },
     "metadata": {},
     "output_type": "display_data"
    },
    {
     "name": "stdout",
     "output_type": "stream",
     "text": [
      "WHat is an informational interview and hwo can it be beneficial for someone looking to switch roles fr industries, particularly in the field of AI?\n"
     ]
    },
    {
     "data": {
      "text/plain": "Groundedness per statement in source:   0%|          | 0/3 [00:00<?, ?it/s]",
      "application/vnd.jupyter.widget-view+json": {
       "version_major": 2,
       "version_minor": 0,
       "model_id": "47714c8a13284f2da1581b699b8555c7"
      }
     },
     "metadata": {},
     "output_type": "display_data"
    },
    {
     "data": {
      "text/plain": "Groundedness per statement in source:   0%|          | 0/3 [00:00<?, ?it/s]",
      "application/vnd.jupyter.widget-view+json": {
       "version_major": 2,
       "version_minor": 0,
       "model_id": "9354870aac694574a2ca12a5aca97d87"
      }
     },
     "metadata": {},
     "output_type": "display_data"
    },
    {
     "name": "stdout",
     "output_type": "stream",
     "text": [
      "What are some of the steps involved in a typical job search process and how can one increase their odds of finding a position that support their career growth?\n"
     ]
    },
    {
     "data": {
      "text/plain": "Groundedness per statement in source:   0%|          | 0/3 [00:00<?, ?it/s]",
      "application/vnd.jupyter.widget-view+json": {
       "version_major": 2,
       "version_minor": 0,
       "model_id": "a0c06a544b3b42709f62f1d4b3ba68db"
      }
     },
     "metadata": {},
     "output_type": "display_data"
    },
    {
     "data": {
      "text/plain": "Groundedness per statement in source:   0%|          | 0/3 [00:00<?, ?it/s]",
      "application/vnd.jupyter.widget-view+json": {
       "version_major": 2,
       "version_minor": 0,
       "model_id": "3343f1dbd11c45f0a4d5c225c702a481"
      }
     },
     "metadata": {},
     "output_type": "display_data"
    },
    {
     "name": "stdout",
     "output_type": "stream",
     "text": [
      "According to the text, what are some key elements to consider when preparing for a job interview in the AI field?\n"
     ]
    },
    {
     "data": {
      "text/plain": "Groundedness per statement in source:   0%|          | 0/3 [00:00<?, ?it/s]",
      "application/vnd.jupyter.widget-view+json": {
       "version_major": 2,
       "version_minor": 0,
       "model_id": "df4c031bdd3b4434a2c88906e918ae4c"
      }
     },
     "metadata": {},
     "output_type": "display_data"
    },
    {
     "data": {
      "text/plain": "Groundedness per statement in source:   0%|          | 0/3 [00:00<?, ?it/s]",
      "application/vnd.jupyter.widget-view+json": {
       "version_major": 2,
       "version_minor": 0,
       "model_id": "d279249c75124626911dc90922cc5c7f"
      }
     },
     "metadata": {},
     "output_type": "display_data"
    },
    {
     "name": "stdout",
     "output_type": "stream",
     "text": [
      "How does the document suggest you approach the job-search process and what role does your community play in this process?\n"
     ]
    },
    {
     "data": {
      "text/plain": "Groundedness per statement in source:   0%|          | 0/3 [00:00<?, ?it/s]",
      "application/vnd.jupyter.widget-view+json": {
       "version_major": 2,
       "version_minor": 0,
       "model_id": "882bb7097059473c9fd0e34eebdac0b9"
      }
     },
     "metadata": {},
     "output_type": "display_data"
    },
    {
     "data": {
      "text/plain": "Groundedness per statement in source:   0%|          | 0/3 [00:00<?, ?it/s]",
      "application/vnd.jupyter.widget-view+json": {
       "version_major": 2,
       "version_minor": 0,
       "model_id": "6504d2d352b3489f80475a0716fae226"
      }
     },
     "metadata": {},
     "output_type": "display_data"
    },
    {
     "name": "stdout",
     "output_type": "stream",
     "text": [
      "In the context of overcoming imposter syndrome in the AI community, what strategies does the author suggest for finding supportive mentors or peers?\n"
     ]
    },
    {
     "data": {
      "text/plain": "Groundedness per statement in source:   0%|          | 0/5 [00:00<?, ?it/s]",
      "application/vnd.jupyter.widget-view+json": {
       "version_major": 2,
       "version_minor": 0,
       "model_id": "46adfafc258943079f3573f1d1f34db5"
      }
     },
     "metadata": {},
     "output_type": "display_data"
    },
    {
     "data": {
      "text/plain": "Groundedness per statement in source:   0%|          | 0/5 [00:00<?, ?it/s]",
      "application/vnd.jupyter.widget-view+json": {
       "version_major": 2,
       "version_minor": 0,
       "model_id": "31de3dfd4b7246e1910918c533ee22a3"
      }
     },
     "metadata": {},
     "output_type": "display_data"
    },
    {
     "name": "stdout",
     "output_type": "stream",
     "text": [
      "The author uses a mortality calculator to emphasize the importance of making every day count. Explain how this concept is used to motivate the reader in the context of the document.\n"
     ]
    },
    {
     "data": {
      "text/plain": "Groundedness per statement in source:   0%|          | 0/1 [00:00<?, ?it/s]",
      "application/vnd.jupyter.widget-view+json": {
       "version_major": 2,
       "version_minor": 0,
       "model_id": "1e4cf2f2199b45fdb51989fd32316c40"
      }
     },
     "metadata": {},
     "output_type": "display_data"
    },
    {
     "data": {
      "text/plain": "Groundedness per statement in source:   0%|          | 0/1 [00:00<?, ?it/s]",
      "application/vnd.jupyter.widget-view+json": {
       "version_major": 2,
       "version_minor": 0,
       "model_id": "ad73c574a5ad4e68b33e6cff72158241"
      }
     },
     "metadata": {},
     "output_type": "display_data"
    },
    {
     "name": "stdout",
     "output_type": "stream",
     "text": [
      "In the context of machine learning , why is understanding the math behind algorithms such as gradient descent, momentum, and the Adam optimization algorithm important? Provide examples to support your answer.\n"
     ]
    },
    {
     "data": {
      "text/plain": "Groundedness per statement in source:   0%|          | 0/3 [00:00<?, ?it/s]",
      "application/vnd.jupyter.widget-view+json": {
       "version_major": 2,
       "version_minor": 0,
       "model_id": "13d4c0984b8449c4acf8b5322deb000e"
      }
     },
     "metadata": {},
     "output_type": "display_data"
    },
    {
     "data": {
      "text/plain": "Groundedness per statement in source:   0%|          | 0/3 [00:00<?, ?it/s]",
      "application/vnd.jupyter.widget-view+json": {
       "version_major": 2,
       "version_minor": 0,
       "model_id": "453c3eb84ba44a4e84c0d1db4691f80e"
      }
     },
     "metadata": {},
     "output_type": "display_data"
    },
    {
     "name": "stdout",
     "output_type": "stream",
     "text": [
      "Describe the five steps to scope successful AI projects as discuss in the document. Provide a detailed explanation of each step using the example of applying AI to climate change.\n"
     ]
    },
    {
     "data": {
      "text/plain": "Groundedness per statement in source:   0%|          | 0/3 [00:00<?, ?it/s]",
      "application/vnd.jupyter.widget-view+json": {
       "version_major": 2,
       "version_minor": 0,
       "model_id": "949ee2e4f99046ce88f3f2b3e0abe14f"
      }
     },
     "metadata": {},
     "output_type": "display_data"
    },
    {
     "data": {
      "text/plain": "Groundedness per statement in source:   0%|          | 0/3 [00:00<?, ?it/s]",
      "application/vnd.jupyter.widget-view+json": {
       "version_major": 2,
       "version_minor": 0,
       "model_id": "7e2be9c49dc34a77986af0e4d3b6aaeb"
      }
     },
     "metadata": {},
     "output_type": "display_data"
    },
    {
     "name": "stdout",
     "output_type": "stream",
     "text": [
      "According to the text , what are some strategies for identifying and scoping AI projects that align with your career goals and how can these projects potentially contribute to your professional growth?\n"
     ]
    },
    {
     "data": {
      "text/plain": "Groundedness per statement in source:   0%|          | 0/10 [00:00<?, ?it/s]",
      "application/vnd.jupyter.widget-view+json": {
       "version_major": 2,
       "version_minor": 0,
       "model_id": "ec68c2e5b1ac427da2d805c5e588afc1"
      }
     },
     "metadata": {},
     "output_type": "display_data"
    },
    {
     "name": "stdout",
     "output_type": "stream",
     "text": [
      "Discuss the importance of budgeting for resources in the successful execution of AI projects. What are some examples of resources that might need to be considered in the budget?\n"
     ]
    },
    {
     "data": {
      "text/plain": "Groundedness per statement in source:   0%|          | 0/2 [00:00<?, ?it/s]",
      "application/vnd.jupyter.widget-view+json": {
       "version_major": 2,
       "version_minor": 0,
       "model_id": "cc8f661250d446a0b62156c7b29e70aa"
      }
     },
     "metadata": {},
     "output_type": "display_data"
    },
    {
     "data": {
      "text/plain": "Groundedness per statement in source:   0%|          | 0/2 [00:00<?, ?it/s]",
      "application/vnd.jupyter.widget-view+json": {
       "version_major": 2,
       "version_minor": 0,
       "model_id": "1ecd84eb600144d5b01d3b71bf6fdf4e"
      }
     },
     "metadata": {},
     "output_type": "display_data"
    },
    {
     "data": {
      "text/plain": "Groundedness per statement in source:   0%|          | 0/10 [00:00<?, ?it/s]",
      "application/vnd.jupyter.widget-view+json": {
       "version_major": 2,
       "version_minor": 0,
       "model_id": "2bb204dd894f4bd39fe8ab16ff033fcc"
      }
     },
     "metadata": {},
     "output_type": "display_data"
    },
    {
     "name": "stdout",
     "output_type": "stream",
     "text": [
      "In the introduction, the author compares AI coding to a form of literacy. Explain this comparison and discuss how AI coding could be beneficial in everyday professions, using the example of a pizza maker provided in the text.\n"
     ]
    },
    {
     "data": {
      "text/plain": "Groundedness per statement in source:   0%|          | 0/4 [00:00<?, ?it/s]",
      "application/vnd.jupyter.widget-view+json": {
       "version_major": 2,
       "version_minor": 0,
       "model_id": "be98a3a3183b44bf84c8ea9c5b5700cd"
      }
     },
     "metadata": {},
     "output_type": "display_data"
    },
    {
     "data": {
      "text/plain": "Groundedness per statement in source:   0%|          | 0/4 [00:00<?, ?it/s]",
      "application/vnd.jupyter.widget-view+json": {
       "version_major": 2,
       "version_minor": 0,
       "model_id": "779e5718e43c47ad831232410c4375ad"
      }
     },
     "metadata": {},
     "output_type": "display_data"
    },
    {
     "name": "stdout",
     "output_type": "stream",
     "text": [
      "According to the text, what are the three key steps of career growth in the field of AI? Provide a brief explanation of each step\n"
     ]
    },
    {
     "data": {
      "text/plain": "Groundedness per statement in source:   0%|          | 0/4 [00:00<?, ?it/s]",
      "application/vnd.jupyter.widget-view+json": {
       "version_major": 2,
       "version_minor": 0,
       "model_id": "a66f677deeeb43999498bdafd2dc0bbc"
      }
     },
     "metadata": {},
     "output_type": "display_data"
    }
   ],
   "source": [
    "sentence_index_7 = build_sentence_window_index(\n",
    "    documents,\n",
    "    llm, \n",
    "    embed_model = \"local:BAAI/bge-small-en-v1.5\",\n",
    "    save_dir=\"./sentence_index_7\",\n",
    "    sentence_window_size = 7\n",
    ")\n",
    "\n",
    "sentence_window_engine_7 = get_sentence_window_query_engine(\n",
    "    sentence_index = sentence_index_7\n",
    ")\n",
    "\n",
    "tru_recorder_7 = utils.get_prebuilt_trulens_recorder(\n",
    "    sentence_window_engine=sentence_window_engine_7,\n",
    "    app_id= \"sentence window engine 7\"\n",
    ")\n",
    "\n",
    "run_evals(eval_questions=eval_questions, tru_recorder=tru_recorder_7, query_engine=sentence_window_engine_7)"
   ],
   "metadata": {
    "collapsed": false,
    "ExecuteTime": {
     "end_time": "2024-04-13T08:31:31.391019Z",
     "start_time": "2024-04-13T08:27:48.325903Z"
    }
   },
   "id": "24e345ad272b5b9a",
   "execution_count": 43
  }
 ],
 "metadata": {
  "kernelspec": {
   "display_name": "Python 3",
   "language": "python",
   "name": "python3"
  },
  "language_info": {
   "codemirror_mode": {
    "name": "ipython",
    "version": 2
   },
   "file_extension": ".py",
   "mimetype": "text/x-python",
   "name": "python",
   "nbconvert_exporter": "python",
   "pygments_lexer": "ipython2",
   "version": "2.7.6"
  }
 },
 "nbformat": 4,
 "nbformat_minor": 5
}

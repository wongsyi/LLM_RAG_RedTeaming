{
 "cells": [
  {
   "cell_type": "code",
   "execution_count": 2,
   "id": "initial_id",
   "metadata": {
    "collapsed": true,
    "ExecuteTime": {
     "end_time": "2024-04-13T02:27:56.178475Z",
     "start_time": "2024-04-13T02:27:56.175080Z"
    }
   },
   "outputs": [],
   "source": [
    "# !pip install trulens_eval\n",
    "# !pip install llama-index\n",
    "# !pip install llama-index-embeddings-huggingface\n",
    "# !pip install llama-index-embeddings-instructor"
   ]
  },
  {
   "cell_type": "code",
   "outputs": [],
   "source": [
    "import os\n",
    "from OPENAI_KEY import OPENAI_KEY\n",
    "os.environ[\"OPENAI_API_KEY\"] =  OPENAI_KEY"
   ],
   "metadata": {
    "collapsed": false,
    "ExecuteTime": {
     "end_time": "2024-04-13T02:27:56.189218Z",
     "start_time": "2024-04-13T02:27:56.178983Z"
    }
   },
   "id": "3cab61d40978b68",
   "execution_count": 3
  },
  {
   "cell_type": "code",
   "outputs": [
    {
     "name": "stdout",
     "output_type": "stream",
     "text": [
      "🦑 Tru initialized with db url sqlite:///default.sqlite .\n",
      "🛑 Secret keys may be written to the database. See the `database_redact_keys` option of Tru` to prevent this.\n"
     ]
    }
   ],
   "source": [
    "from trulens_eval import Tru\n",
    "\n",
    "tru = Tru()\n",
    "tru.reset_database()"
   ],
   "metadata": {
    "collapsed": false,
    "ExecuteTime": {
     "end_time": "2024-04-13T02:28:06.861109Z",
     "start_time": "2024-04-13T02:27:56.189336Z"
    }
   },
   "id": "ed655785c277b86a",
   "execution_count": 4
  },
  {
   "cell_type": "code",
   "outputs": [],
   "source": [
    "from llama_index.core import SimpleDirectoryReader\n",
    "\n",
    "documents = SimpleDirectoryReader(\n",
    "    input_files = [\"./eBook-How-to-Build-a-Career-in-AI.pdf\"]\n",
    ").load_data()"
   ],
   "metadata": {
    "collapsed": false,
    "ExecuteTime": {
     "end_time": "2024-04-13T02:28:07.894050Z",
     "start_time": "2024-04-13T02:28:06.862116Z"
    }
   },
   "id": "6707d200fbc855c9",
   "execution_count": 5
  },
  {
   "cell_type": "code",
   "outputs": [],
   "source": [
    "from llama_index.core import Document\n",
    "\n",
    "document = Document(text = \"\\n\\n\".join([doc.text for doc in documents]))"
   ],
   "metadata": {
    "collapsed": false,
    "ExecuteTime": {
     "end_time": "2024-04-13T02:28:07.898534Z",
     "start_time": "2024-04-13T02:28:07.895571Z"
    }
   },
   "id": "94d8e71030e193ae",
   "execution_count": 6
  },
  {
   "cell_type": "code",
   "outputs": [],
   "source": [
    "from llama_index.llms.openai import OpenAI\n",
    "from utils import build_sentence_window_index,get_sentence_window_query_engine\n",
    "\n",
    "llm = OpenAI(model=\"gpt-3.5-turbo\", temperature = 0.1)\n",
    "\n",
    "sentence_index = build_sentence_window_index(\n",
    "    document,\n",
    "    llm, \n",
    "    embed_model = \"local:BAAI/bge-small-en-v1.5\",\n",
    "    save_dir=\"sentence_index\"\n",
    ")\n",
    "\n",
    "sentence_window_engine = get_sentence_window_query_engine(sentence_index=sentence_index)"
   ],
   "metadata": {
    "collapsed": false,
    "ExecuteTime": {
     "end_time": "2024-04-13T02:29:28.083533Z",
     "start_time": "2024-04-13T02:29:21.976733Z"
    }
   },
   "id": "503496cb41ebf0db",
   "execution_count": 9
  },
  {
   "cell_type": "code",
   "outputs": [
    {
     "data": {
      "text/plain": "'You create your AI portfolio by building a collection of projects that demonstrate a progression of skills in the field. This can involve working on various AI projects that showcase your abilities and growth in areas such as coding, problem-solving, and data analysis.'"
     },
     "execution_count": 15,
     "metadata": {},
     "output_type": "execute_result"
    }
   ],
   "source": [
    "output = sentence_window_engine.query(\"How do you create your AI portfolio?\")\n",
    "output.response"
   ],
   "metadata": {
    "collapsed": false,
    "ExecuteTime": {
     "end_time": "2024-04-13T02:31:12.440666Z",
     "start_time": "2024-04-13T02:31:08.236958Z"
    }
   },
   "id": "80847df9688d2044",
   "execution_count": 15
  },
  {
   "cell_type": "code",
   "outputs": [],
   "source": [
    "# Dashboard\n",
    "import nest_asyncio\n",
    "nest_asyncio.apply()"
   ],
   "metadata": {
    "collapsed": false,
    "ExecuteTime": {
     "end_time": "2024-04-13T02:32:04.066683Z",
     "start_time": "2024-04-13T02:32:04.064049Z"
    }
   },
   "id": "7ac0a9adef5065ed",
   "execution_count": 16
  },
  {
   "cell_type": "code",
   "outputs": [],
   "source": [
    "from trulens_eval import OpenAI as fOpenAI\n",
    "\n",
    "provider = fOpenAI()"
   ],
   "metadata": {
    "collapsed": false,
    "ExecuteTime": {
     "end_time": "2024-04-13T02:47:18.929637Z",
     "start_time": "2024-04-13T02:47:18.653458Z"
    }
   },
   "id": "5d2020a1b96eebd7",
   "execution_count": 29
  },
  {
   "cell_type": "markdown",
   "source": [
    "## Answer relevance"
   ],
   "metadata": {
    "collapsed": false
   },
   "id": "124a3868e23849a8"
  },
  {
   "cell_type": "code",
   "outputs": [
    {
     "name": "stdout",
     "output_type": "stream",
     "text": [
      "✅ In Answer relevance, input prompt will be set to __record__.main_input or `Select.RecordInput` .\n",
      "✅ In Answer relevance, input response will be set to __record__.main_output or `Select.RecordOutput` .\n"
     ]
    }
   ],
   "source": [
    "from trulens_eval import Feedback\n",
    "\n",
    "f_qa_relevance = Feedback(\n",
    "    provider.relevance_with_cot_reasons,\n",
    "    name=\"Answer relevance\"\n",
    ").on_input().on_output()"
   ],
   "metadata": {
    "collapsed": false,
    "ExecuteTime": {
     "end_time": "2024-04-13T02:47:47.330198Z",
     "start_time": "2024-04-13T02:47:47.321935Z"
    }
   },
   "id": "56262eb01ddd8aac",
   "execution_count": 34
  },
  {
   "cell_type": "markdown",
   "source": [
    "### Context relevance (query -> RAG)"
   ],
   "metadata": {
    "collapsed": false
   },
   "id": "2d6c5a272cd04b50"
  },
  {
   "cell_type": "code",
   "outputs": [],
   "source": [
    "from trulens_eval import TruLlama # integration between trulens and llamaindex\n",
    "\n",
    "context_selection = TruLlama.select_source_nodes().node.text"
   ],
   "metadata": {
    "collapsed": false,
    "ExecuteTime": {
     "end_time": "2024-04-13T02:47:22.706125Z",
     "start_time": "2024-04-13T02:47:22.703374Z"
    }
   },
   "id": "ef4562d70171b9c0",
   "execution_count": 31
  },
  {
   "cell_type": "code",
   "outputs": [
    {
     "name": "stdout",
     "output_type": "stream",
     "text": [
      "✅ In Context Relevance, input question will be set to __record__.main_input or `Select.RecordInput` .\n",
      "✅ In Context Relevance, input context will be set to __record__.app.query.rets.source_nodes[:].node.text .\n"
     ]
    }
   ],
   "source": [
    "import numpy as np\n",
    "\n",
    "f_qs_relevance = (\n",
    "    Feedback(provider.qs_relevance_with_cot_reasons,\n",
    "             name=\"Context Relevance\")\n",
    "    .on_input()\n",
    "    .on(context_selection)\n",
    "    .aggregate(np.mean)\n",
    ")"
   ],
   "metadata": {
    "collapsed": false,
    "ExecuteTime": {
     "end_time": "2024-04-13T02:47:23.221487Z",
     "start_time": "2024-04-13T02:47:23.213797Z"
    }
   },
   "id": "e5a948c3dae10ff9",
   "execution_count": 32
  },
  {
   "cell_type": "markdown",
   "source": [
    "### Groundedness"
   ],
   "metadata": {
    "collapsed": false
   },
   "id": "e57b146446bcfb64"
  },
  {
   "cell_type": "code",
   "outputs": [
    {
     "name": "stdout",
     "output_type": "stream",
     "text": [
      "✅ In Groundedness, input source will be set to __record__.app.query.rets.source_nodes[:].node.text .\n",
      "✅ In Groundedness, input statement will be set to __record__.main_output or `Select.RecordOutput` .\n"
     ]
    },
    {
     "name": "stderr",
     "output_type": "stream",
     "text": [
      "[nltk_data] Downloading package punkt to\n",
      "[nltk_data]     C:\\Users\\wongs\\AppData\\Roaming\\nltk_data...\n",
      "[nltk_data]   Package punkt is already up-to-date!\n"
     ]
    }
   ],
   "source": [
    "from trulens_eval.feedback import Groundedness\n",
    "\n",
    "grounded = Groundedness( groundedness_provider=provider)\n",
    "f_groundedness = (\n",
    "    Feedback(\n",
    "        grounded.groundedness_measure_with_cot_reasons,\n",
    "        name=\"Groundedness\",\n",
    "    )\n",
    "    .on(context_selection)\n",
    "    .on_output()\n",
    "    .aggregate(grounded.grounded_statements_aggregator)\n",
    ")"
   ],
   "metadata": {
    "collapsed": false,
    "ExecuteTime": {
     "end_time": "2024-04-13T02:54:01.532518Z",
     "start_time": "2024-04-13T02:54:01.500580Z"
    }
   },
   "id": "f7438077f2021998",
   "execution_count": 36
  },
  {
   "cell_type": "markdown",
   "source": [
    " ## Evaluation using RAG triads"
   ],
   "metadata": {
    "collapsed": false
   },
   "id": "8da108a665e9a2a6"
  },
  {
   "cell_type": "code",
   "outputs": [],
   "source": [
    "from trulens_eval import TruLlama, FeedbackMode\n",
    "\n",
    "tru_recorder = TruLlama(\n",
    "    app= sentence_window_engine, ## LLamaindex app\n",
    "    app_id= \"Basic RAG\",\n",
    "    feedbacks=[\n",
    "        f_qa_relevance,\n",
    "        f_qs_relevance,\n",
    "        f_groundedness\n",
    "    ]\n",
    ")"
   ],
   "metadata": {
    "collapsed": false,
    "ExecuteTime": {
     "end_time": "2024-04-13T03:04:05.883072Z",
     "start_time": "2024-04-13T03:04:05.531064Z"
    }
   },
   "id": "aae5c612d3a02a93",
   "execution_count": 40
  },
  {
   "cell_type": "code",
   "outputs": [
    {
     "data": {
      "text/plain": "['What are the keys to building a career in AI?',\n 'How can teamwork contribute to success in AI?',\n 'What is the importance of networking in AI?',\n 'What are some good habits to develop for a successful career?',\n 'How can altruism be beneficial in building a career?',\n 'What is imposter syndrome and hwo does it relate to AI?',\n 'Who are some accomplished individuals who have experienced imposter syndrome?',\n 'What is the first step to becoming good at AI?',\n 'What are some common challenges in AI?',\n 'Is it normal to find parts of AI challenging?']"
     },
     "execution_count": 43,
     "metadata": {},
     "output_type": "execute_result"
    }
   ],
   "source": [
    "eval_questions = []\n",
    "with open('./eval_questions.txt', 'r') as file:\n",
    "    for line in file:\n",
    "        item = line.strip()\n",
    "        eval_questions.append(item)\n",
    "eval_questions"
   ],
   "metadata": {
    "collapsed": false,
    "ExecuteTime": {
     "end_time": "2024-04-13T03:08:20.749939Z",
     "start_time": "2024-04-13T03:08:20.739387Z"
    }
   },
   "id": "1123455c0940b4d0",
   "execution_count": 43
  },
  {
   "cell_type": "code",
   "outputs": [
    {
     "data": {
      "text/plain": "Groundedness per statement in source:   0%|          | 0/1 [00:00<?, ?it/s]",
      "application/vnd.jupyter.widget-view+json": {
       "version_major": 2,
       "version_minor": 0,
       "model_id": "e63d53175dda4e96baa7ac614335ee2a"
      }
     },
     "metadata": {},
     "output_type": "display_data"
    },
    {
     "data": {
      "text/plain": "Groundedness per statement in source:   0%|          | 0/1 [00:00<?, ?it/s]",
      "application/vnd.jupyter.widget-view+json": {
       "version_major": 2,
       "version_minor": 0,
       "model_id": "607d6bc9d034408da05019a76c065085"
      }
     },
     "metadata": {},
     "output_type": "display_data"
    },
    {
     "data": {
      "text/plain": "Groundedness per statement in source:   0%|          | 0/3 [00:00<?, ?it/s]",
      "application/vnd.jupyter.widget-view+json": {
       "version_major": 2,
       "version_minor": 0,
       "model_id": "8da9e11955f14dba8ba6d91a34b02fea"
      }
     },
     "metadata": {},
     "output_type": "display_data"
    },
    {
     "data": {
      "text/plain": "Groundedness per statement in source:   0%|          | 0/3 [00:00<?, ?it/s]",
      "application/vnd.jupyter.widget-view+json": {
       "version_major": 2,
       "version_minor": 0,
       "model_id": "14a48c3a0aa94e15accf4da4543ec0d7"
      }
     },
     "metadata": {},
     "output_type": "display_data"
    },
    {
     "data": {
      "text/plain": "Groundedness per statement in source:   0%|          | 0/3 [00:00<?, ?it/s]",
      "application/vnd.jupyter.widget-view+json": {
       "version_major": 2,
       "version_minor": 0,
       "model_id": "29a47117d6e245debee2adf73f49dd39"
      }
     },
     "metadata": {},
     "output_type": "display_data"
    },
    {
     "data": {
      "text/plain": "Groundedness per statement in source:   0%|          | 0/3 [00:00<?, ?it/s]",
      "application/vnd.jupyter.widget-view+json": {
       "version_major": 2,
       "version_minor": 0,
       "model_id": "fa190070210a4460a361cbf43ac6f5b4"
      }
     },
     "metadata": {},
     "output_type": "display_data"
    },
    {
     "data": {
      "text/plain": "Groundedness per statement in source:   0%|          | 0/1 [00:00<?, ?it/s]",
      "application/vnd.jupyter.widget-view+json": {
       "version_major": 2,
       "version_minor": 0,
       "model_id": "d2fb1fc0f38647d3b982ecfc5810d346"
      }
     },
     "metadata": {},
     "output_type": "display_data"
    },
    {
     "data": {
      "text/plain": "Groundedness per statement in source:   0%|          | 0/1 [00:00<?, ?it/s]",
      "application/vnd.jupyter.widget-view+json": {
       "version_major": 2,
       "version_minor": 0,
       "model_id": "e5aa385d6a99472188ffe5e5467cc65d"
      }
     },
     "metadata": {},
     "output_type": "display_data"
    },
    {
     "data": {
      "text/plain": "Groundedness per statement in source:   0%|          | 0/1 [00:00<?, ?it/s]",
      "application/vnd.jupyter.widget-view+json": {
       "version_major": 2,
       "version_minor": 0,
       "model_id": "79177c51c0be40c79cf4ae8d8798c407"
      }
     },
     "metadata": {},
     "output_type": "display_data"
    },
    {
     "data": {
      "text/plain": "Groundedness per statement in source:   0%|          | 0/1 [00:00<?, ?it/s]",
      "application/vnd.jupyter.widget-view+json": {
       "version_major": 2,
       "version_minor": 0,
       "model_id": "dbf468fa3faf4b13bee56089e0f861b0"
      }
     },
     "metadata": {},
     "output_type": "display_data"
    },
    {
     "data": {
      "text/plain": "Groundedness per statement in source:   0%|          | 0/3 [00:00<?, ?it/s]",
      "application/vnd.jupyter.widget-view+json": {
       "version_major": 2,
       "version_minor": 0,
       "model_id": "1b15c6cf2a484aa4ad5c2f4e61b3862b"
      }
     },
     "metadata": {},
     "output_type": "display_data"
    },
    {
     "data": {
      "text/plain": "Groundedness per statement in source:   0%|          | 0/3 [00:00<?, ?it/s]",
      "application/vnd.jupyter.widget-view+json": {
       "version_major": 2,
       "version_minor": 0,
       "model_id": "8c2530324a8a42eabdd66ae386c37e88"
      }
     },
     "metadata": {},
     "output_type": "display_data"
    },
    {
     "data": {
      "text/plain": "Groundedness per statement in source:   0%|          | 0/1 [00:00<?, ?it/s]",
      "application/vnd.jupyter.widget-view+json": {
       "version_major": 2,
       "version_minor": 0,
       "model_id": "9a0ecd6f838443a1817f54179bc8ac4b"
      }
     },
     "metadata": {},
     "output_type": "display_data"
    },
    {
     "data": {
      "text/plain": "Groundedness per statement in source:   0%|          | 0/1 [00:00<?, ?it/s]",
      "application/vnd.jupyter.widget-view+json": {
       "version_major": 2,
       "version_minor": 0,
       "model_id": "5792fbe808ae4e06b5f96f21aab127f3"
      }
     },
     "metadata": {},
     "output_type": "display_data"
    },
    {
     "data": {
      "text/plain": "Groundedness per statement in source:   0%|          | 0/1 [00:00<?, ?it/s]",
      "application/vnd.jupyter.widget-view+json": {
       "version_major": 2,
       "version_minor": 0,
       "model_id": "18581015b4664349a463564198287501"
      }
     },
     "metadata": {},
     "output_type": "display_data"
    },
    {
     "data": {
      "text/plain": "Groundedness per statement in source:   0%|          | 0/1 [00:00<?, ?it/s]",
      "application/vnd.jupyter.widget-view+json": {
       "version_major": 2,
       "version_minor": 0,
       "model_id": "8781a958ebb9435fb8bba5bf3d6b03f0"
      }
     },
     "metadata": {},
     "output_type": "display_data"
    },
    {
     "data": {
      "text/plain": "Groundedness per statement in source:   0%|          | 0/1 [00:00<?, ?it/s]",
      "application/vnd.jupyter.widget-view+json": {
       "version_major": 2,
       "version_minor": 0,
       "model_id": "416102f61f4e40929c47e0f78961f1b5"
      }
     },
     "metadata": {},
     "output_type": "display_data"
    },
    {
     "data": {
      "text/plain": "Groundedness per statement in source:   0%|          | 0/1 [00:00<?, ?it/s]",
      "application/vnd.jupyter.widget-view+json": {
       "version_major": 2,
       "version_minor": 0,
       "model_id": "671e4cbd549a49afae0ab269e28d9ea9"
      }
     },
     "metadata": {},
     "output_type": "display_data"
    }
   ],
   "source": [
    "for question in eval_questions:\n",
    "    with tru_recorder as recording:\n",
    "        sentence_window_engine.query(question)"
   ],
   "metadata": {
    "collapsed": false,
    "ExecuteTime": {
     "end_time": "2024-04-13T03:10:38.028803Z",
     "start_time": "2024-04-13T03:09:16.289369Z"
    }
   },
   "id": "d45f02d2f284be96",
   "execution_count": 44
  },
  {
   "cell_type": "code",
   "outputs": [
    {
     "data": {
      "text/plain": "      app_id                                           app_json  \\\n0  Basic RAG  {\"tru_class_info\": {\"name\": \"TruLlama\", \"modul...   \n1  Basic RAG  {\"tru_class_info\": {\"name\": \"TruLlama\", \"modul...   \n2  Basic RAG  {\"tru_class_info\": {\"name\": \"TruLlama\", \"modul...   \n3  Basic RAG  {\"tru_class_info\": {\"name\": \"TruLlama\", \"modul...   \n4  Basic RAG  {\"tru_class_info\": {\"name\": \"TruLlama\", \"modul...   \n\n                                                type  \\\n0  RetrieverQueryEngine(llama_index.core.query_en...   \n1  RetrieverQueryEngine(llama_index.core.query_en...   \n2  RetrieverQueryEngine(llama_index.core.query_en...   \n3  RetrieverQueryEngine(llama_index.core.query_en...   \n4  RetrieverQueryEngine(llama_index.core.query_en...   \n\n                                      record_id  \\\n0  record_hash_254f46a7f9ffb3a3cd812d57c8eea74f   \n1  record_hash_3295188ff5e9a7ee34890eba47be1724   \n2  record_hash_f131aa5f24433fec4fc9c521404ce495   \n3  record_hash_98ecf23d2ab0b980b1ffa7734bf439b7   \n4  record_hash_76408c8b4326a411b4de87edcb95709b   \n\n                                               input  \\\n0    \"What are the keys to building a career in AI?\"   \n1    \"How can teamwork contribute to success in AI?\"   \n2      \"What is the importance of networking in AI?\"   \n3  \"What are some good habits to develop for a su...   \n4  \"How can altruism be beneficial in building a ...   \n\n                                              output tags  \\\n0  \"The keys to building a career in AI involve l...    -   \n1  \"Teamwork can contribute to success in AI by a...    -   \n2  \"Networking in AI is crucial as it can provide...    -   \n3  \"Developing good habits in areas such as eatin...    -   \n4  \"Helping others and lifting them up during one...    -   \n\n                                         record_json  \\\n0  {\"record_id\": \"record_hash_254f46a7f9ffb3a3cd8...   \n1  {\"record_id\": \"record_hash_3295188ff5e9a7ee348...   \n2  {\"record_id\": \"record_hash_f131aa5f24433fec4fc...   \n3  {\"record_id\": \"record_hash_98ecf23d2ab0b980b1f...   \n4  {\"record_id\": \"record_hash_76408c8b4326a411b4d...   \n\n                                           cost_json  \\\n0  {\"n_requests\": 1, \"n_successful_requests\": 1, ...   \n1  {\"n_requests\": 1, \"n_successful_requests\": 1, ...   \n2  {\"n_requests\": 1, \"n_successful_requests\": 1, ...   \n3  {\"n_requests\": 1, \"n_successful_requests\": 1, ...   \n4  {\"n_requests\": 1, \"n_successful_requests\": 1, ...   \n\n                                           perf_json  \\\n0  {\"start_time\": \"2024-04-13T11:09:16.601773\", \"...   \n1  {\"start_time\": \"2024-04-13T11:09:24.468788\", \"...   \n2  {\"start_time\": \"2024-04-13T11:09:33.897115\", \"...   \n3  {\"start_time\": \"2024-04-13T11:09:42.836928\", \"...   \n4  {\"start_time\": \"2024-04-13T11:09:50.560602\", \"...   \n\n                           ts  Groundedness  Context Relevance  \\\n0  2024-04-13T11:09:23.739470      1.000000               0.90   \n1  2024-04-13T11:09:33.428982      0.600000               0.75   \n2  2024-04-13T11:09:42.275762      0.466667               0.75   \n3  2024-04-13T11:09:50.060251      1.000000               0.60   \n4  2024-04-13T11:09:58.080106      0.000000               0.20   \n\n   Answer relevance                                 Groundedness_calls  \\\n0               0.8  [{'args': {'source': 'Chapter 6: Building a Po...   \n1               0.9  [{'args': {'source': 'To get \na project starte...   \n2               0.9  [{'args': {'source': 'What is the hiring proce...   \n3               1.0  [{'args': {'source': '(For example, many \narti...   \n4               0.8  [{'args': {'source': 'Many successful people d...   \n\n                             Context Relevance_calls  \\\n0  [{'args': {'question': 'What are the keys to b...   \n1  [{'args': {'question': 'How can teamwork contr...   \n2  [{'args': {'question': 'What is the importance...   \n3  [{'args': {'question': 'What are some good hab...   \n4  [{'args': {'question': 'How can altruism be be...   \n\n                              Answer relevance_calls  latency  total_tokens  \\\n0  [{'args': {'prompt': 'What are the keys to bui...        7           540   \n1  [{'args': {'prompt': 'How can teamwork contrib...        8           706   \n2  [{'args': {'prompt': 'What is the importance o...        8           555   \n3  [{'args': {'prompt': 'What are some good habit...        7           548   \n4  [{'args': {'prompt': 'How can altruism be bene...        7           509   \n\n   total_cost  \n0    0.000825  \n1    0.001096  \n2    0.000869  \n3    0.000840  \n4    0.000774  ",
      "text/html": "<div>\n<style scoped>\n    .dataframe tbody tr th:only-of-type {\n        vertical-align: middle;\n    }\n\n    .dataframe tbody tr th {\n        vertical-align: top;\n    }\n\n    .dataframe thead th {\n        text-align: right;\n    }\n</style>\n<table border=\"1\" class=\"dataframe\">\n  <thead>\n    <tr style=\"text-align: right;\">\n      <th></th>\n      <th>app_id</th>\n      <th>app_json</th>\n      <th>type</th>\n      <th>record_id</th>\n      <th>input</th>\n      <th>output</th>\n      <th>tags</th>\n      <th>record_json</th>\n      <th>cost_json</th>\n      <th>perf_json</th>\n      <th>ts</th>\n      <th>Groundedness</th>\n      <th>Context Relevance</th>\n      <th>Answer relevance</th>\n      <th>Groundedness_calls</th>\n      <th>Context Relevance_calls</th>\n      <th>Answer relevance_calls</th>\n      <th>latency</th>\n      <th>total_tokens</th>\n      <th>total_cost</th>\n    </tr>\n  </thead>\n  <tbody>\n    <tr>\n      <th>0</th>\n      <td>Basic RAG</td>\n      <td>{\"tru_class_info\": {\"name\": \"TruLlama\", \"modul...</td>\n      <td>RetrieverQueryEngine(llama_index.core.query_en...</td>\n      <td>record_hash_254f46a7f9ffb3a3cd812d57c8eea74f</td>\n      <td>\"What are the keys to building a career in AI?\"</td>\n      <td>\"The keys to building a career in AI involve l...</td>\n      <td>-</td>\n      <td>{\"record_id\": \"record_hash_254f46a7f9ffb3a3cd8...</td>\n      <td>{\"n_requests\": 1, \"n_successful_requests\": 1, ...</td>\n      <td>{\"start_time\": \"2024-04-13T11:09:16.601773\", \"...</td>\n      <td>2024-04-13T11:09:23.739470</td>\n      <td>1.000000</td>\n      <td>0.90</td>\n      <td>0.8</td>\n      <td>[{'args': {'source': 'Chapter 6: Building a Po...</td>\n      <td>[{'args': {'question': 'What are the keys to b...</td>\n      <td>[{'args': {'prompt': 'What are the keys to bui...</td>\n      <td>7</td>\n      <td>540</td>\n      <td>0.000825</td>\n    </tr>\n    <tr>\n      <th>1</th>\n      <td>Basic RAG</td>\n      <td>{\"tru_class_info\": {\"name\": \"TruLlama\", \"modul...</td>\n      <td>RetrieverQueryEngine(llama_index.core.query_en...</td>\n      <td>record_hash_3295188ff5e9a7ee34890eba47be1724</td>\n      <td>\"How can teamwork contribute to success in AI?\"</td>\n      <td>\"Teamwork can contribute to success in AI by a...</td>\n      <td>-</td>\n      <td>{\"record_id\": \"record_hash_3295188ff5e9a7ee348...</td>\n      <td>{\"n_requests\": 1, \"n_successful_requests\": 1, ...</td>\n      <td>{\"start_time\": \"2024-04-13T11:09:24.468788\", \"...</td>\n      <td>2024-04-13T11:09:33.428982</td>\n      <td>0.600000</td>\n      <td>0.75</td>\n      <td>0.9</td>\n      <td>[{'args': {'source': 'To get \na project starte...</td>\n      <td>[{'args': {'question': 'How can teamwork contr...</td>\n      <td>[{'args': {'prompt': 'How can teamwork contrib...</td>\n      <td>8</td>\n      <td>706</td>\n      <td>0.001096</td>\n    </tr>\n    <tr>\n      <th>2</th>\n      <td>Basic RAG</td>\n      <td>{\"tru_class_info\": {\"name\": \"TruLlama\", \"modul...</td>\n      <td>RetrieverQueryEngine(llama_index.core.query_en...</td>\n      <td>record_hash_f131aa5f24433fec4fc9c521404ce495</td>\n      <td>\"What is the importance of networking in AI?\"</td>\n      <td>\"Networking in AI is crucial as it can provide...</td>\n      <td>-</td>\n      <td>{\"record_id\": \"record_hash_f131aa5f24433fec4fc...</td>\n      <td>{\"n_requests\": 1, \"n_successful_requests\": 1, ...</td>\n      <td>{\"start_time\": \"2024-04-13T11:09:33.897115\", \"...</td>\n      <td>2024-04-13T11:09:42.275762</td>\n      <td>0.466667</td>\n      <td>0.75</td>\n      <td>0.9</td>\n      <td>[{'args': {'source': 'What is the hiring proce...</td>\n      <td>[{'args': {'question': 'What is the importance...</td>\n      <td>[{'args': {'prompt': 'What is the importance o...</td>\n      <td>8</td>\n      <td>555</td>\n      <td>0.000869</td>\n    </tr>\n    <tr>\n      <th>3</th>\n      <td>Basic RAG</td>\n      <td>{\"tru_class_info\": {\"name\": \"TruLlama\", \"modul...</td>\n      <td>RetrieverQueryEngine(llama_index.core.query_en...</td>\n      <td>record_hash_98ecf23d2ab0b980b1ffa7734bf439b7</td>\n      <td>\"What are some good habits to develop for a su...</td>\n      <td>\"Developing good habits in areas such as eatin...</td>\n      <td>-</td>\n      <td>{\"record_id\": \"record_hash_98ecf23d2ab0b980b1f...</td>\n      <td>{\"n_requests\": 1, \"n_successful_requests\": 1, ...</td>\n      <td>{\"start_time\": \"2024-04-13T11:09:42.836928\", \"...</td>\n      <td>2024-04-13T11:09:50.060251</td>\n      <td>1.000000</td>\n      <td>0.60</td>\n      <td>1.0</td>\n      <td>[{'args': {'source': '(For example, many \narti...</td>\n      <td>[{'args': {'question': 'What are some good hab...</td>\n      <td>[{'args': {'prompt': 'What are some good habit...</td>\n      <td>7</td>\n      <td>548</td>\n      <td>0.000840</td>\n    </tr>\n    <tr>\n      <th>4</th>\n      <td>Basic RAG</td>\n      <td>{\"tru_class_info\": {\"name\": \"TruLlama\", \"modul...</td>\n      <td>RetrieverQueryEngine(llama_index.core.query_en...</td>\n      <td>record_hash_76408c8b4326a411b4de87edcb95709b</td>\n      <td>\"How can altruism be beneficial in building a ...</td>\n      <td>\"Helping others and lifting them up during one...</td>\n      <td>-</td>\n      <td>{\"record_id\": \"record_hash_76408c8b4326a411b4d...</td>\n      <td>{\"n_requests\": 1, \"n_successful_requests\": 1, ...</td>\n      <td>{\"start_time\": \"2024-04-13T11:09:50.560602\", \"...</td>\n      <td>2024-04-13T11:09:58.080106</td>\n      <td>0.000000</td>\n      <td>0.20</td>\n      <td>0.8</td>\n      <td>[{'args': {'source': 'Many successful people d...</td>\n      <td>[{'args': {'question': 'How can altruism be be...</td>\n      <td>[{'args': {'prompt': 'How can altruism be bene...</td>\n      <td>7</td>\n      <td>509</td>\n      <td>0.000774</td>\n    </tr>\n  </tbody>\n</table>\n</div>"
     },
     "execution_count": 45,
     "metadata": {},
     "output_type": "execute_result"
    }
   ],
   "source": [
    "records, feedback = tru.get_records_and_feedback(app_ids=[])\n",
    "records.head()"
   ],
   "metadata": {
    "collapsed": false,
    "ExecuteTime": {
     "end_time": "2024-04-13T03:11:09.930941Z",
     "start_time": "2024-04-13T03:11:09.818415Z"
    }
   },
   "id": "979cb65ed7580e4d",
   "execution_count": 45
  },
  {
   "cell_type": "code",
   "outputs": [
    {
     "data": {
      "text/plain": "                                               input  \\\n0    \"What are the keys to building a career in AI?\"   \n1    \"How can teamwork contribute to success in AI?\"   \n2      \"What is the importance of networking in AI?\"   \n3  \"What are some good habits to develop for a su...   \n4  \"How can altruism be beneficial in building a ...   \n5  \"What is imposter syndrome and hwo does it rel...   \n6  \"Who are some accomplished individuals who hav...   \n7   \"What is the first step to becoming good at AI?\"   \n8           \"What are some common challenges in AI?\"   \n9    \"Is it normal to find parts of AI challenging?\"   \n\n                                              output  Context Relevance  \\\n0  \"The keys to building a career in AI involve l...               0.90   \n1  \"Teamwork can contribute to success in AI by a...               0.75   \n2  \"Networking in AI is crucial as it can provide...               0.75   \n3  \"Developing good habits in areas such as eatin...               0.60   \n4  \"Helping others and lifting them up during one...               0.20   \n5  \"Imposter syndrome is a phenomenon where indiv...               0.90   \n6  \"Former Facebook COO Sheryl Sandberg, U.S. fir...               1.00   \n7  \"The first step to becoming good at AI is to l...               0.75   \n8  \"Common challenges in AI include the evolving ...               0.50   \n9    \"It is normal to find parts of AI challenging.\"               0.80   \n\n   Groundedness  Answer relevance  \n0      1.000000               0.8  \n1      0.600000               0.9  \n2      0.466667               0.9  \n3      1.000000               1.0  \n4      0.000000               0.8  \n5      0.600000               0.9  \n6      1.000000               1.0  \n7      1.000000               0.9  \n8      0.700000               0.9  \n9      1.000000               1.0  ",
      "text/html": "<div>\n<style scoped>\n    .dataframe tbody tr th:only-of-type {\n        vertical-align: middle;\n    }\n\n    .dataframe tbody tr th {\n        vertical-align: top;\n    }\n\n    .dataframe thead th {\n        text-align: right;\n    }\n</style>\n<table border=\"1\" class=\"dataframe\">\n  <thead>\n    <tr style=\"text-align: right;\">\n      <th></th>\n      <th>input</th>\n      <th>output</th>\n      <th>Context Relevance</th>\n      <th>Groundedness</th>\n      <th>Answer relevance</th>\n    </tr>\n  </thead>\n  <tbody>\n    <tr>\n      <th>0</th>\n      <td>\"What are the keys to building a career in AI?\"</td>\n      <td>\"The keys to building a career in AI involve l...</td>\n      <td>0.90</td>\n      <td>1.000000</td>\n      <td>0.8</td>\n    </tr>\n    <tr>\n      <th>1</th>\n      <td>\"How can teamwork contribute to success in AI?\"</td>\n      <td>\"Teamwork can contribute to success in AI by a...</td>\n      <td>0.75</td>\n      <td>0.600000</td>\n      <td>0.9</td>\n    </tr>\n    <tr>\n      <th>2</th>\n      <td>\"What is the importance of networking in AI?\"</td>\n      <td>\"Networking in AI is crucial as it can provide...</td>\n      <td>0.75</td>\n      <td>0.466667</td>\n      <td>0.9</td>\n    </tr>\n    <tr>\n      <th>3</th>\n      <td>\"What are some good habits to develop for a su...</td>\n      <td>\"Developing good habits in areas such as eatin...</td>\n      <td>0.60</td>\n      <td>1.000000</td>\n      <td>1.0</td>\n    </tr>\n    <tr>\n      <th>4</th>\n      <td>\"How can altruism be beneficial in building a ...</td>\n      <td>\"Helping others and lifting them up during one...</td>\n      <td>0.20</td>\n      <td>0.000000</td>\n      <td>0.8</td>\n    </tr>\n    <tr>\n      <th>5</th>\n      <td>\"What is imposter syndrome and hwo does it rel...</td>\n      <td>\"Imposter syndrome is a phenomenon where indiv...</td>\n      <td>0.90</td>\n      <td>0.600000</td>\n      <td>0.9</td>\n    </tr>\n    <tr>\n      <th>6</th>\n      <td>\"Who are some accomplished individuals who hav...</td>\n      <td>\"Former Facebook COO Sheryl Sandberg, U.S. fir...</td>\n      <td>1.00</td>\n      <td>1.000000</td>\n      <td>1.0</td>\n    </tr>\n    <tr>\n      <th>7</th>\n      <td>\"What is the first step to becoming good at AI?\"</td>\n      <td>\"The first step to becoming good at AI is to l...</td>\n      <td>0.75</td>\n      <td>1.000000</td>\n      <td>0.9</td>\n    </tr>\n    <tr>\n      <th>8</th>\n      <td>\"What are some common challenges in AI?\"</td>\n      <td>\"Common challenges in AI include the evolving ...</td>\n      <td>0.50</td>\n      <td>0.700000</td>\n      <td>0.9</td>\n    </tr>\n    <tr>\n      <th>9</th>\n      <td>\"Is it normal to find parts of AI challenging?\"</td>\n      <td>\"It is normal to find parts of AI challenging.\"</td>\n      <td>0.80</td>\n      <td>1.000000</td>\n      <td>1.0</td>\n    </tr>\n  </tbody>\n</table>\n</div>"
     },
     "execution_count": 47,
     "metadata": {},
     "output_type": "execute_result"
    }
   ],
   "source": [
    "import pandas as pd\n",
    "\n",
    "records[['input', 'output']+feedback]"
   ],
   "metadata": {
    "collapsed": false,
    "ExecuteTime": {
     "end_time": "2024-04-13T03:12:59.906564Z",
     "start_time": "2024-04-13T03:12:59.898435Z"
    }
   },
   "id": "ab8eaa2f779337fc",
   "execution_count": 47
  },
  {
   "cell_type": "code",
   "outputs": [
    {
     "data": {
      "text/plain": "           Context Relevance  Groundedness  Answer relevance  latency  \\\napp_id                                                                  \nBasic RAG              0.715      0.736667              0.91      7.2   \n\n           total_cost  \napp_id                 \nBasic RAG    0.000916  ",
      "text/html": "<div>\n<style scoped>\n    .dataframe tbody tr th:only-of-type {\n        vertical-align: middle;\n    }\n\n    .dataframe tbody tr th {\n        vertical-align: top;\n    }\n\n    .dataframe thead th {\n        text-align: right;\n    }\n</style>\n<table border=\"1\" class=\"dataframe\">\n  <thead>\n    <tr style=\"text-align: right;\">\n      <th></th>\n      <th>Context Relevance</th>\n      <th>Groundedness</th>\n      <th>Answer relevance</th>\n      <th>latency</th>\n      <th>total_cost</th>\n    </tr>\n    <tr>\n      <th>app_id</th>\n      <th></th>\n      <th></th>\n      <th></th>\n      <th></th>\n      <th></th>\n    </tr>\n  </thead>\n  <tbody>\n    <tr>\n      <th>Basic RAG</th>\n      <td>0.715</td>\n      <td>0.736667</td>\n      <td>0.91</td>\n      <td>7.2</td>\n      <td>0.000916</td>\n    </tr>\n  </tbody>\n</table>\n</div>"
     },
     "execution_count": 48,
     "metadata": {},
     "output_type": "execute_result"
    }
   ],
   "source": [
    "tru.get_leaderboard()"
   ],
   "metadata": {
    "collapsed": false,
    "ExecuteTime": {
     "end_time": "2024-04-13T03:14:16.751713Z",
     "start_time": "2024-04-13T03:14:16.722766Z"
    }
   },
   "id": "c82b87f6ba8e04bc",
   "execution_count": 48
  },
  {
   "cell_type": "code",
   "outputs": [
    {
     "name": "stdout",
     "output_type": "stream",
     "text": [
      "Starting dashboard ...\n"
     ]
    },
    {
     "data": {
      "text/plain": "Accordion(children=(VBox(children=(VBox(children=(Label(value='STDOUT'), Output())), VBox(children=(Label(valu…",
      "application/vnd.jupyter.widget-view+json": {
       "version_major": 2,
       "version_minor": 0,
       "model_id": "6e81966ac2fb4bcfb5b59f6ec1c4e9bf"
      }
     },
     "metadata": {},
     "output_type": "display_data"
    },
    {
     "name": "stdout",
     "output_type": "stream",
     "text": [
      "Dashboard started at http://10.89.63.194:8501 .\n"
     ]
    },
    {
     "data": {
      "text/plain": "<Popen: returncode: None args: ['streamlit', 'run', '--server.headless=True'...>"
     },
     "execution_count": 49,
     "metadata": {},
     "output_type": "execute_result"
    }
   ],
   "source": [
    "tru.run_dashboard()"
   ],
   "metadata": {
    "collapsed": false,
    "ExecuteTime": {
     "end_time": "2024-04-13T03:14:55.890443Z",
     "start_time": "2024-04-13T03:14:53.845309Z"
    }
   },
   "id": "a848b4f406e1fbab",
   "execution_count": 49
  }
 ],
 "metadata": {
  "kernelspec": {
   "display_name": "Python 3",
   "language": "python",
   "name": "python3"
  },
  "language_info": {
   "codemirror_mode": {
    "name": "ipython",
    "version": 2
   },
   "file_extension": ".py",
   "mimetype": "text/x-python",
   "name": "python",
   "nbconvert_exporter": "python",
   "pygments_lexer": "ipython2",
   "version": "2.7.6"
  }
 },
 "nbformat": 4,
 "nbformat_minor": 5
}

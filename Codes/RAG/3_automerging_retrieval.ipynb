{
 "cells": [
  {
   "cell_type": "markdown",
   "source": [
    "- more coherent context"
   ],
   "metadata": {
    "collapsed": false
   },
   "id": "c0485d726fad06ee"
  },
  {
   "cell_type": "code",
   "outputs": [],
   "source": [
    "import os\n",
    "from OPENAI_KEY import OPENAI_KEY\n",
    "\n",
    "os.environ[\"OPENAI_API_KEY\"] = OPENAI_KEY"
   ],
   "metadata": {
    "collapsed": false,
    "ExecuteTime": {
     "end_time": "2024-04-14T06:27:31.579240Z",
     "start_time": "2024-04-14T06:27:31.570214Z"
    }
   },
   "id": "2d01bb8c923967c8",
   "execution_count": 1
  },
  {
   "cell_type": "code",
   "outputs": [],
   "source": [
    "# Prepare the documentr\n",
    "from llama_index.core import SimpleDirectoryReader\n",
    "\n",
    "documents = SimpleDirectoryReader(\n",
    "    input_files=[\"./eBook-How-to-Build-a-Career-in-AI.pdf\"]\n",
    ").load_data()\n",
    "\n",
    "# Merge into a single large document for better RAG performance\n",
    "from llama_index.core import Document\n",
    "\n",
    "document = Document(text=\"\\n\\n\".join([doc.text for doc in documents]))"
   ],
   "metadata": {
    "collapsed": false,
    "ExecuteTime": {
     "end_time": "2024-04-14T06:27:36.775603Z",
     "start_time": "2024-04-14T06:27:31.580250Z"
    }
   },
   "id": "9dcdb42c4542dfcb",
   "execution_count": 2
  },
  {
   "cell_type": "code",
   "outputs": [],
   "source": [
    "from llama_index.core.node_parser import HierarchicalNodeParser\n",
    "\n",
    "node_parser = HierarchicalNodeParser.from_defaults(chunk_sizes=[2048, 512, 128])"
   ],
   "metadata": {
    "collapsed": false,
    "ExecuteTime": {
     "end_time": "2024-04-14T06:27:37.039395Z",
     "start_time": "2024-04-14T06:27:36.776611Z"
    }
   },
   "id": "cc92d97fa8c6896",
   "execution_count": 3
  },
  {
   "cell_type": "code",
   "outputs": [],
   "source": [
    "nodes = node_parser.get_nodes_from_documents([document])\n"
   ],
   "metadata": {
    "collapsed": false,
    "ExecuteTime": {
     "end_time": "2024-04-14T06:27:37.135764Z",
     "start_time": "2024-04-14T06:27:37.040403Z"
    }
   },
   "id": "b77e149a3381671c",
   "execution_count": 4
  },
  {
   "cell_type": "code",
   "outputs": [
    {
     "name": "stdout",
     "output_type": "stream",
     "text": [
      "PAGE 12Should You \n",
      "Learn Math to \n",
      "Get a Job in AI? CHAPTER 3\n",
      "LEARNING\n",
      "\n",
      "PAGE 13Should you Learn Math to Get a Job in AI? CHAPTER 3\n",
      "Is math a foundational skill for AI? It’s always nice to know more math! But there’s so much to \n",
      "learn that, realistically, it’s necessary to prioritize. Here’s how you might go about strengthening \n",
      "your math background.\n"
     ]
    }
   ],
   "source": [
    "from llama_index.core.node_parser import get_leaf_nodes\n",
    "\n",
    "leaf_nodes = get_leaf_nodes(nodes)\n",
    "print(leaf_nodes[27].text)"
   ],
   "metadata": {
    "collapsed": false,
    "ExecuteTime": {
     "end_time": "2024-04-14T06:27:37.140761Z",
     "start_time": "2024-04-14T06:27:37.136773Z"
    }
   },
   "id": "44758de6bd926979",
   "execution_count": 5
  },
  {
   "cell_type": "code",
   "outputs": [],
   "source": [
    "from llama_index.llms.openai import OpenAI\n",
    "\n",
    "llm = OpenAI(model=\"gpt-3.5-turbo\", temperature=0.1)"
   ],
   "metadata": {
    "collapsed": false,
    "ExecuteTime": {
     "end_time": "2024-04-14T06:27:37.162721Z",
     "start_time": "2024-04-14T06:27:37.140761Z"
    }
   },
   "id": "4c8179b97487a488",
   "execution_count": 6
  },
  {
   "cell_type": "code",
   "outputs": [
    {
     "name": "stderr",
     "output_type": "stream",
     "text": [
      "C:\\Users\\wongs\\AppData\\Local\\Temp\\ipykernel_40680\\4059913470.py:5: DeprecationWarning: Call to deprecated class method from_defaults. (ServiceContext is deprecated, please use `llama_index.settings.Settings` instead.) -- Deprecated since version 0.10.0.\n",
      "  sentence_context = ServiceContext.from_defaults(\n"
     ]
    }
   ],
   "source": [
    "from llama_index.core import ServiceContext\n",
    "\n",
    "# 1. Use node parser to break/window the sentences\n",
    "# 2. Embed the sentences\n",
    "sentence_context = ServiceContext.from_defaults(\n",
    "    llm=llm,\n",
    "    embed_model=\"local:BAAI/bge-small-en-v1.5\",\n",
    "    # embed_model=\"local:BAAI/bge-large-en-v1.5\",\n",
    "    node_parser=node_parser\n",
    ")"
   ],
   "metadata": {
    "collapsed": false,
    "ExecuteTime": {
     "end_time": "2024-04-14T06:27:52.504420Z",
     "start_time": "2024-04-14T06:27:37.163731Z"
    }
   },
   "id": "9fcf36999e69c0af",
   "execution_count": 7
  },
  {
   "cell_type": "markdown",
   "source": [
    "- embeddings will be based on that sentence, the parent nodes and other information are retrieve only when it is reranked"
   ],
   "metadata": {
    "collapsed": false
   },
   "id": "b340c7f3a6a1bbb1"
  },
  {
   "cell_type": "code",
   "outputs": [
    {
     "data": {
      "text/plain": "TextNode(id_='066fa5c7-5d96-4cd6-976f-deba8b00583e', embedding=None, metadata={}, excluded_embed_metadata_keys=[], excluded_llm_metadata_keys=[], relationships={<NodeRelationship.SOURCE: '1'>: RelatedNodeInfo(node_id='32bd67d9-ce71-4196-9b23-263a8a0d712f', node_type=<ObjectType.DOCUMENT: '4'>, metadata={}, hash='fdc7ce9a017ce62d4e0b30cc419051a9bb56618a8569f51a2b64f8535fe6244e'), <NodeRelationship.NEXT: '3'>: RelatedNodeInfo(node_id='e775f409-41b8-422e-84fd-cc2fa7c00129', node_type=<ObjectType.TEXT: '1'>, metadata={}, hash='601594bb882270ad63b4547797595e35b471287cec74dcc07134629cbb7d71f5'), <NodeRelationship.CHILD: '5'>: [RelatedNodeInfo(node_id='3b7f423c-7e93-4755-8400-b134c046c1e2', node_type=<ObjectType.TEXT: '1'>, metadata={}, hash='2b4de016a7c855ab9278e03c30a440bb34e81a1ea68fd3225250abf084e52330'), RelatedNodeInfo(node_id='e2278f02-faa8-4a31-b606-3b644c8df394', node_type=<ObjectType.TEXT: '1'>, metadata={}, hash='0c8c4015b5079720c9a99a811c9a8888c9f8ee3b9265eec5507fee681025f69c'), RelatedNodeInfo(node_id='ba4e86af-edae-4f7c-9b95-3c743baa7948', node_type=<ObjectType.TEXT: '1'>, metadata={}, hash='64dd0fc90631c2e2b2fd38c5c9689c7b600fa830ede71f794c5d9bcf23dce860'), RelatedNodeInfo(node_id='d2511af5-65aa-4e66-a4a6-de4eefd8d1cb', node_type=<ObjectType.TEXT: '1'>, metadata={}, hash='55bc135e5090691b219b2ac617e8e31549c7f346bac85fe72557c3c5fa640d90'), RelatedNodeInfo(node_id='b4af0fa3-1340-4e83-b0ff-316f3f12485c', node_type=<ObjectType.TEXT: '1'>, metadata={}, hash='14640178e88615cf1e8457f6a6940d64b07c00ad61553b765e85b8207417c7d5')]}, text='PAGE 1Founder, DeepLearning.AICollected Insights\\nfrom Andrew Ng\\nHow to \\nBuild\\nYour\\nCareer\\nin AIA Simple Guide\\n\\n\\nPAGE 2\"AI is the new \\nelectricity. It will \\ntransform and improve \\nall areas of human life.\"\\nAndrew Ng\\n\\nPAGE 3Table of \\nContentsIntroduction: Coding AI is the New Literacy.\\nChapter 1: Three Steps to Career Growth.\\nChapter 2: Learning Technical Skills for a \\nPromising AI Career.\\nChapter 3: Should You Learn Math to Get a Job \\nin AI?\\nChapter 4: Scoping Successful AI Projects.\\nChapter 5: Finding Projects that Complement \\nYour Career Goals.\\nChapter 6: Building a Portfolio of Projects that \\nShows Skill Progression.\\nChapter 7: A Simple Framework for Starting Your AI \\nJob Search.\\nChapter 8: Using Informational Interviews to Find \\nthe Right Job.\\nChapter 9: Finding the Right AI Job for You.\\nChapter 10: Keys to Building a Career in AI.\\nChapter 11: Overcoming Imposter Syndrome.\\nFinal Thoughts: Make Every Day Count.LEARNING\\nPROJECTS\\nJOB\\n\\nPAGE 4Coding AI Is the New Literacy\\nToday we take it for granted that many people know how to read and write. Someday, I hope, \\nit will be just as common that people know how to write code, specifically for AI.\\nSeveral hundred years ago, society didn’t view language literacy as a necessary skill. A small \\nnumber of people learned to read and write, and everyone else let them do the reading and \\nwriting. It took centuries for literacy to spread, and now society is far richer for it.\\nWords enable deep human-to-human communication. Code is the deepest form of human-to-\\nmachine communication. As machines become more central to daily life, that communication \\nbecomes ever more important.\\nTraditional software engineering — writing programs that explicitly tell a computer sequences \\nof steps to execute — has been the main path to code literacy. Many introductory programming \\nclasses use creating a video game or building a website as examples. But AI, machine learning, \\nand data science offer a new paradigm in which computers extract knowledge from data. This \\ntechnology offers an even better pathway to coding.\\nMany Sundays, I buy a slice of pizza from my neighborhood pizza parlor. The gentleman \\nbehind the counter has little reason to learn how to build a video game or write his own \\nwebsite software (beyond personal growth and the pleasure of gaining a new skill).\\nBut AI and data science have great value even for a pizza maker. A linear regression model might \\nenable him to better estimate demand so he can optimize the restaurant’s staffing and supply \\nchain. He could better predict sales of Hawaiian pizza — my favorite! — so he could make more \\nHawaiian pies in advance and reduce the amount of time customers had to wait for them.\\nUses of AI and data science can be found in almost any situation that produces data.  Thus, \\na wide variety of professions will find more uses for custom AI applications and data-derived \\ninsights than for traditional software engineering. This makes literacy in AI-oriented coding \\neven more valuable than traditional coding. It could enable countless individuals to harness \\ndata to make their lives richer.\\nI hope the promise of building basic AI applications, even more than that of building basic \\ntraditional software, encourages more people to learn how to code. If society embraces this \\nnew form of literacy as it has the ability to read and write, we will all benefit.Introduction\\n\\nPAGE 5Three Steps to \\nCareer GrowthCHAPTER 1\\n\\nPAGE 6The rapid rise of AI has led to a rapid rise in AI jobs, and many people are building exciting \\ncareers in this field. A career is a decades-long journey, and the path is not straightforward. \\nOver many years, I’ve been privileged to see thousands of students, as well as engineers in \\ncompanies large and small, navigate careers in AI.\\n \\nHere’s a framework for charting your own course.\\nLater, you will work \\non finding a job. \\nThroughout this \\nprocess, you’ll continue \\nto learn and work on \\nmeaningful projects. \\nChapters with the\\nfocus on a job search.Three key steps of career growth are learning foundational skills, working on projects (to \\ndeepen your skills, build a portfolio, and create impact), and finding a job. These steps stack \\non top of each other:Three Steps to Career Growth\\nLEARNING PROJECTS JOBCHAPTER 1\\nInitially, you \\nfocus on learning \\nfoundational skills. \\nChapters with the \\ncover topics about \\nlearning foundational \\ntechnical skills. After having gained \\nfoundational technical \\nskills, you will begin \\nworking on projects. \\nDuring this period, you’ll \\nalso keep learning. \\nChapters with the     \\nfocus on projects. \\n\\nPAGE 7These phases apply in a wide \\nrange of professions, but AI \\ninvolves unique elements.\\nFor example:Three Steps to Career Growth\\nAI is nascent, and many technologies are still evolving. While the \\nfoundations of machine learning and deep learning are maturing — \\nand coursework is an efficient way to master them — beyond these \\nfoundations, keeping up-to-date with changing technology is more \\nimportant in AI than fields that are more mature.Learning foundational skills is a career-long process:\\nThis can make it challenging to find a suitable project, estimate the project’s \\ntimeline and return on investment, and set expectations. In addition, the \\nhighly iterative nature of AI projects leads to special challenges in project \\nmanagement: How can you come up with a plan for building a system \\nwhen you don’t know in advance how long it will take to achieve the target \\naccuracy? Even after the system has hit the target, further iteration may \\nbe necessary to address post-deployment drift.Working on projects often means collaborating with \\nstakeholders who lack expertise in AI:\\nWhile searching for a job in AI can be similar to searching for a job in \\nother sectors, there are also important differences. Many companies are \\nstill trying to figure out which AI skills they need, and how to hire people \\nwho have them. Things you’ve worked on may be significantly different \\nthan anything your interviewer has seen, and you’re more likely to have to \\neducate potential employers about some elements of your work.Inconsistent opinions on AI skills and jobs roles: CHAPTER 1\\nAs you go through each step, you should also build a supportive community. Having friends and \\nallies who can help you — and who you strive to help — makes the path easier. This is true whether \\nyou’re taking your first steps or you’ve been on the journey for years.LEARNING\\nPROJECTS\\nJOB\\n\\nPAGE 8Learning Technical \\nSkills for a Promising \\nAI CareerCHAPTER 2\\nLEARNING\\n\\nPAGE 9In the previous chapter, I introduced three key steps for building a career in AI: learning \\nfoundational technical skills, working on projects, and finding a job, all of which is supported \\nby being part of a community. In this chapter, I’d like to dive more deeply into the first step: \\nlearning foundational skills.\\nMore research papers have been published on AI than anyone can read in a lifetime. So, when \\nlearning, it’s critical to prioritize topic selection. I believe the most important topics for a technical \\ncareer in machine learning are:\\nFoundational machine learning skills: For example, it’s important to understand models such \\nas linear regression, logistic regression, neural networks, decision trees, clustering, and anomaly \\ndetection. Beyond specific models, it’s even more important to understand the core concepts \\nbehind how and why machine learning works, such as bias/variance, cost functions, regularization, \\noptimization algorithms, and error analysis.\\nDeep learning: This has become such a large fraction of machine learning that it’s hard to excel \\nin the field without some understanding of it! It’s valuable to know the basics of neural networks, \\npractical skills for making them work (such as hyperparameter tuning), convolutional networks, \\nsequence models, and transformers.\\nSoftware development: While you can get a job and make huge contributions with only machine \\nlearning modeling skills, your job opportunities will increase if you can also write good software \\nto implement complex AI systems. These skills include programming fundamentals, data \\nstructures (especially those that relate to machine learning, such as data frames), algorithms \\n(including those related to databases and data manipulation), software design, familiarity with \\nPython, and familiarity with key libraries such as TensorFlow or PyTorch, and scikit-learn.Math relevant to machine learning:  Key areas include linear algebra (vectors, matrices, and various \\nmanipulations of them) as well as probability and statistics (including discrete and continuous \\nprobability, standard probability distributions, basic rules such as independence and Bayes’ rule, \\nand hypothesis testing). In addition, exploratory data analysis (EDA) — using visualizations and other \\nmethods to systematically explore a dataset — is an underrated skill. I’ve found EDA particularly \\nuseful in data-centric AI development, where analyzing errors and gaining insights can really help \\ndrive progress! Finally, a basic intuitive understanding of calculus will also help. The math needed \\nto do machine learning well has been changing. For instance, although some tasks require calculus, \\nimproved automatic differentiation software makes it possible to invent and implement new neural \\nnetwork architectures without doing any calculus. This was almost impossible a decade ago.Learning Technical Skills For a Promising AI Career CHAPTER 2\\n\\nPAGE 10This is a lot to learn!\\nEven after you master everything on this list, I hope you’ll keep learning and continue to deepen \\nyour technical knowledge.', start_char_idx=0, end_char_idx=9642, text_template='{metadata_str}\\n\\n{content}', metadata_template='{key}: {value}', metadata_seperator='\\n')"
     },
     "execution_count": 8,
     "metadata": {},
     "output_type": "execute_result"
    }
   ],
   "source": [
    "nodes[0]"
   ],
   "metadata": {
    "collapsed": false,
    "ExecuteTime": {
     "end_time": "2024-04-14T06:27:52.512455Z",
     "start_time": "2024-04-14T06:27:52.505436Z"
    }
   },
   "id": "18894a8de5d2e692",
   "execution_count": 8
  },
  {
   "cell_type": "code",
   "outputs": [],
   "source": [
    "from llama_index.core import VectorStoreIndex, StorageContext\n",
    "\n",
    "storage_context = StorageContext.from_defaults()\n",
    "storage_context.docstore.add_documents(nodes)  # all the nodes - parents & leaf\n",
    "\n",
    "# Only leaf nodes is used for indexing where embeddings are calculated, then the parent nodes can be found in storage_context\n",
    "# this is just the index class\n",
    "automerging_index = VectorStoreIndex(\n",
    "    leaf_nodes, storage_context=storage_context, service_context=sentence_context\n",
    ")"
   ],
   "metadata": {
    "collapsed": false,
    "ExecuteTime": {
     "end_time": "2024-04-14T06:28:01.139210Z",
     "start_time": "2024-04-14T06:27:52.513967Z"
    }
   },
   "id": "4a69861c2c5fdc98",
   "execution_count": 9
  },
  {
   "cell_type": "code",
   "outputs": [],
   "source": [
    "from llama_index.core.indices.postprocessor import SentenceTransformerRerank\n",
    "from llama_index.core.retrievers import AutoMergingRetriever\n",
    "from llama_index.core.query_engine import RetrieverQueryEngine\n",
    "\n",
    "# 1. Processor to decide retriving the parent or not\n",
    "automerging_retriever = automerging_index.as_retriever(similarity_top_k=12)\n",
    "retriever = AutoMergingRetriever(\n",
    "    automerging_retriever,\n",
    "    automerging_index.storage_context,\n",
    "    verbose=True\n",
    ")\n",
    "\n",
    "# 2. Reranked the processed nodes\n",
    "rerank = SentenceTransformerRerank(top_n=6, model=\"BAAI/bge-reranker-base\")\n",
    "auto_merging_engine = RetrieverQueryEngine.from_args(\n",
    "    automerging_retriever, node_postprocessors=[rerank]\n",
    ")"
   ],
   "metadata": {
    "collapsed": false,
    "ExecuteTime": {
     "end_time": "2024-04-14T06:28:03.440656Z",
     "start_time": "2024-04-14T06:28:01.140224Z"
    }
   },
   "id": "64aaa5553ed84808",
   "execution_count": 10
  },
  {
   "cell_type": "code",
   "outputs": [],
   "source": [
    "auto_merging_response = auto_merging_engine.query('What is the importance of networking in AI?')"
   ],
   "metadata": {
    "collapsed": false,
    "ExecuteTime": {
     "end_time": "2024-04-14T06:28:18.924224Z",
     "start_time": "2024-04-14T06:28:03.442669Z"
    }
   },
   "id": "3afbc9d40ee1fca1",
   "execution_count": 11
  },
  {
   "cell_type": "code",
   "outputs": [
    {
     "data": {
      "text/plain": "<IPython.core.display.Markdown object>",
      "text/markdown": "**`Final Response:`** Networking in AI is crucial as it allows individuals to build a strong professional community that can provide valuable information, support, and opportunities. By connecting with others in the field, individuals can receive guidance, referrals to potential employers, and access to new ideas and perspectives. Additionally, networking helps individuals establish themselves within the AI community, gain recognition for their expertise, and continue to develop their skills through interactions with mentors and peers."
     },
     "metadata": {},
     "output_type": "display_data"
    }
   ],
   "source": [
    "from llama_index.core.response.notebook_utils import display_response\n",
    "\n",
    "display_response(auto_merging_response)"
   ],
   "metadata": {
    "collapsed": false,
    "ExecuteTime": {
     "end_time": "2024-04-14T06:28:19.423898Z",
     "start_time": "2024-04-14T06:28:18.925833Z"
    }
   },
   "id": "339a8349cfa78db5",
   "execution_count": 12
  },
  {
   "cell_type": "code",
   "outputs": [],
   "source": [
    "from automerging_utils import get_automerging_query_engine, build_automerging_index\n",
    "\n",
    "index = build_automerging_index([document],\n",
    "                                llm=OpenAI(model=\"gpt-3.5-turbo\", temperature=0.1),\n",
    "                                save_dir=\"./merging_index\")\n",
    "query_engine = get_automerging_query_engine(index, similarity_top_k=6)"
   ],
   "metadata": {
    "collapsed": false,
    "ExecuteTime": {
     "end_time": "2024-04-14T06:28:24.275301Z",
     "start_time": "2024-04-14T06:28:19.424923Z"
    }
   },
   "id": "60e32866b93739b0",
   "execution_count": 13
  },
  {
   "cell_type": "markdown",
   "source": [
    "## Evaluation"
   ],
   "metadata": {
    "collapsed": false
   },
   "id": "f5578999ce7a1682"
  },
  {
   "cell_type": "code",
   "outputs": [],
   "source": [
    "### 2 layers"
   ],
   "metadata": {
    "collapsed": false,
    "ExecuteTime": {
     "end_time": "2024-04-14T06:28:24.280095Z",
     "start_time": "2024-04-14T06:28:24.276309Z"
    }
   },
   "id": "de67f089c31ea96e",
   "execution_count": 14
  },
  {
   "cell_type": "code",
   "outputs": [],
   "source": [
    "auto_merging_index_0 = build_automerging_index(documents,\n",
    "                                               llm=OpenAI(model=\"gpt-3.5-turbo\", temperature=0.1),\n",
    "                                               save_dir=\"./merging_index_0\",\n",
    "                                               chunk_sizes=[2048, 512])\n",
    "auto_merging_engine_0 = get_automerging_query_engine(auto_merging_index_0, \n",
    "                                                     similarity_top_k=12,\n",
    "                                                     rerank_top_n=6)"
   ],
   "metadata": {
    "collapsed": false,
    "ExecuteTime": {
     "end_time": "2024-04-14T06:28:29.219366Z",
     "start_time": "2024-04-14T06:28:24.281104Z"
    }
   },
   "id": "7881984ca87010d7",
   "execution_count": 15
  },
  {
   "cell_type": "code",
   "outputs": [
    {
     "name": "stdout",
     "output_type": "stream",
     "text": [
      "✅ In Answer relevance, input prompt will be set to __record__.main_input or `Select.RecordInput` .\n",
      "✅ In Answer relevance, input response will be set to __record__.main_output or `Select.RecordOutput` .\n",
      "✅ In Context Relevance, input question will be set to __record__.main_input or `Select.RecordInput` .\n",
      "✅ In Context Relevance, input context will be set to __record__.app.query.rets.source_nodes[:].node.text .\n"
     ]
    },
    {
     "name": "stderr",
     "output_type": "stream",
     "text": [
      "[nltk_data] Downloading package punkt to\n",
      "[nltk_data]     C:\\Users\\wongs\\AppData\\Roaming\\nltk_data...\n",
      "[nltk_data]   Package punkt is already up-to-date!\n"
     ]
    },
    {
     "name": "stdout",
     "output_type": "stream",
     "text": [
      "✅ In Groundedness, input source will be set to __record__.app.query.rets.source_nodes[:].node.text .\n",
      "✅ In Groundedness, input statement will be set to __record__.main_output or `Select.RecordOutput` .\n",
      "🦑 Tru initialized with db url sqlite:///default.sqlite .\n",
      "🛑 Secret keys may be written to the database. See the `database_redact_keys` option of Tru` to prevent this.\n"
     ]
    }
   ],
   "source": [
    "# Set up trurecorder\n",
    "from utils import get_prebuilt_trulens_recorder\n",
    "from trulens_eval import Tru\n",
    "\n",
    "tru = Tru()\n",
    "tru.reset_database()\n",
    "\n",
    "tru_recorder_0 = get_prebuilt_trulens_recorder(auto_merging_engine_0, app_id=\"2_layers\")"
   ],
   "metadata": {
    "collapsed": false,
    "ExecuteTime": {
     "end_time": "2024-04-14T06:28:44.294896Z",
     "start_time": "2024-04-14T06:28:29.220376Z"
    }
   },
   "id": "2e6d42130af85e81",
   "execution_count": 16
  },
  {
   "cell_type": "code",
   "outputs": [],
   "source": [
    "# Import the eval questions\n",
    "eval_questions = []\n",
    "with open('./generated_questions.txt', 'r') as file:\n",
    "    for line in file:\n",
    "        item = line.strip()\n",
    "        eval_questions.append(item)"
   ],
   "metadata": {
    "collapsed": false,
    "ExecuteTime": {
     "end_time": "2024-04-14T06:28:44.300126Z",
     "start_time": "2024-04-14T06:28:44.296071Z"
    }
   },
   "id": "45975954546483db",
   "execution_count": 17
  },
  {
   "cell_type": "code",
   "outputs": [],
   "source": [
    "def run_evals(eval_questions, tru_recorder, query_engine):\n",
    "    for question in eval_questions:\n",
    "        with tru_recorder as recording:\n",
    "            response = query_engine.query(question)"
   ],
   "metadata": {
    "collapsed": false,
    "ExecuteTime": {
     "end_time": "2024-04-14T06:28:44.307972Z",
     "start_time": "2024-04-14T06:28:44.301131Z"
    }
   },
   "id": "aeaeb1de8b314f15",
   "execution_count": 18
  },
  {
   "cell_type": "code",
   "outputs": [
    {
     "name": "stdout",
     "output_type": "stream",
     "text": [
      "> Merging 1 nodes into parent node.\n",
      "> Parent node id: fe9c5eae-e278-4ebf-b8c0-d5c833efcdce.\n",
      "> Parent node text: PAGE 26If you’re considering a role switch, a startup can be an easier place to do it than a big ...\n",
      "\n",
      "> Merging 1 nodes into parent node.\n",
      "> Parent node id: 1bd98ca7-6442-4136-9773-64913ab9b72c.\n",
      "> Parent node text: PAGE 25Finding a job has a few predictable steps that include selecting the companies to which yo...\n",
      "\n",
      "> Merging 1 nodes into parent node.\n",
      "> Parent node id: c900ce78-5a72-49f9-90bb-662ef01f6ffb.\n",
      "> Parent node text: PAGE 33Choose who to work with. It’s tempting to take a position because of the projects you’ll w...\n",
      "\n",
      "> Merging 1 nodes into parent node.\n",
      "> Parent node id: ed834e9d-b0ec-4584-9117-ddb6b23fe8ab.\n",
      "> Parent node text: PAGE 23Each project is only one step on a longer journey, hopefully one that has a positive impac...\n",
      "\n",
      "> Merging 1 nodes into parent node.\n",
      "> Parent node id: b4f07b1b-5ce7-40c5-9530-72a800ad4852.\n",
      "> Parent node text: PAGE 29If you’re preparing to switch roles (say, taking a job as a machine learning engineer for ...\n",
      "\n",
      "> Merging 1 nodes into parent node.\n",
      "> Parent node id: 295c5d00-b3e5-44df-94ac-3f724cc83c03.\n",
      "> Parent node text: PAGE 19Develop a side hustle. Even if you have a full-time job, a fun project that may or may not...\n",
      "\n",
      "> Merging 1 nodes into parent node.\n",
      "> Parent node id: 6889ff80-066c-4b34-bf1a-4a5eb6f96b6c.\n",
      "> Parent node text: PAGE 22Over the course of a career, you’re likely to work on projects in succession, each growing...\n",
      "\n",
      "> Merging 1 nodes into parent node.\n",
      "> Parent node id: 920582e3-3c21-4694-8f6b-65c02d41872f.\n",
      "> Parent node text: PAGE 18It goes without saying that we should only work on projects that are responsible, ethical,...\n",
      "\n",
      "> Merging 1 nodes into parent node.\n",
      "> Parent node id: 729162bf-8857-4939-ac3b-316c1848e40c.\n",
      "> Parent node text: PAGE 35Keys to Building a Career in AI CHAPTER 10\n",
      "The path to career success in AI is more comple...\n",
      "\n",
      "> Merging 1 nodes into parent node.\n",
      "> Parent node id: aaafc4aa-cfc9-4b78-8459-5699899034c0.\n",
      "> Parent node text: PAGE 36Keys to Building a Career in AI CHAPTER 10\n",
      "Of all the steps in building a career, this \n",
      "on...\n"
     ]
    },
    {
     "data": {
      "text/plain": "Groundedness per statement in source:   0%|          | 0/3 [00:00<?, ?it/s]",
      "application/vnd.jupyter.widget-view+json": {
       "version_major": 2,
       "version_minor": 0,
       "model_id": "fa50de71c61f410aa6c4e0b955f153ba"
      }
     },
     "metadata": {},
     "output_type": "display_data"
    },
    {
     "name": "stdout",
     "output_type": "stream",
     "text": [
      "> Merging 1 nodes into parent node.\n",
      "> Parent node id: 9f5ed503-7737-43e4-837c-65090fac6131.\n",
      "> Parent node text: PAGE 27There’s a lot we don’t know about the future: When will we cure Alzheimer’s disease? Who w...\n",
      "\n",
      "> Merging 2 nodes into parent node.\n",
      "> Parent node id: 006d60bd-96a0-49dd-aafc-c0cbc0496e18.\n",
      "> Parent node text: PAGE 20Working on projects requires making tough choices about what to build and how to go \n",
      "about...\n",
      "\n",
      "> Merging 1 nodes into parent node.\n",
      "> Parent node id: 920582e3-3c21-4694-8f6b-65c02d41872f.\n",
      "> Parent node text: PAGE 18It goes without saying that we should only work on projects that are responsible, ethical,...\n",
      "\n",
      "> Merging 1 nodes into parent node.\n",
      "> Parent node id: c900ce78-5a72-49f9-90bb-662ef01f6ffb.\n",
      "> Parent node text: PAGE 33Choose who to work with. It’s tempting to take a position because of the projects you’ll w...\n",
      "\n",
      "> Merging 1 nodes into parent node.\n",
      "> Parent node id: aaafc4aa-cfc9-4b78-8459-5699899034c0.\n",
      "> Parent node text: PAGE 36Keys to Building a Career in AI CHAPTER 10\n",
      "Of all the steps in building a career, this \n",
      "on...\n",
      "\n",
      "> Merging 1 nodes into parent node.\n",
      "> Parent node id: 295c5d00-b3e5-44df-94ac-3f724cc83c03.\n",
      "> Parent node text: PAGE 19Develop a side hustle. Even if you have a full-time job, a fun project that may or may not...\n",
      "\n",
      "> Merging 1 nodes into parent node.\n",
      "> Parent node id: 6889ff80-066c-4b34-bf1a-4a5eb6f96b6c.\n",
      "> Parent node text: PAGE 22Over the course of a career, you’re likely to work on projects in succession, each growing...\n",
      "\n",
      "> Merging 1 nodes into parent node.\n",
      "> Parent node id: 5919d075-ea12-4c6c-9f52-fb9ea8cc9dc9.\n",
      "> Parent node text: PAGE 15One of the most important skills of an AI architect is the ability to identify ideas that ...\n",
      "\n",
      "> Merging 1 nodes into parent node.\n",
      "> Parent node id: 127f7f1e-de26-42bb-92c3-df03284a64ef.\n",
      "> Parent node text: PAGE 24A Simple Framework \n",
      "for Starting Your AI \n",
      "Job SearchCHAPTER 7\n",
      "JOBS\n",
      "\n",
      "> Merging 1 nodes into parent node.\n",
      "> Parent node id: b4f07b1b-5ce7-40c5-9530-72a800ad4852.\n",
      "> Parent node text: PAGE 29If you’re preparing to switch roles (say, taking a job as a machine learning engineer for ...\n"
     ]
    },
    {
     "data": {
      "text/plain": "Groundedness per statement in source:   0%|          | 0/3 [00:00<?, ?it/s]",
      "application/vnd.jupyter.widget-view+json": {
       "version_major": 2,
       "version_minor": 0,
       "model_id": "db97f321980b48529663609d5ad74f06"
      }
     },
     "metadata": {},
     "output_type": "display_data"
    },
    {
     "data": {
      "text/plain": "Groundedness per statement in source:   0%|          | 0/3 [00:00<?, ?it/s]",
      "application/vnd.jupyter.widget-view+json": {
       "version_major": 2,
       "version_minor": 0,
       "model_id": "adaed25681bd49d4ac4378e3eb64f0de"
      }
     },
     "metadata": {},
     "output_type": "display_data"
    },
    {
     "data": {
      "text/plain": "Groundedness per statement in source:   0%|          | 0/3 [00:00<?, ?it/s]",
      "application/vnd.jupyter.widget-view+json": {
       "version_major": 2,
       "version_minor": 0,
       "model_id": "4dfd84d2498f4c90a3669e0ad0a97a94"
      }
     },
     "metadata": {},
     "output_type": "display_data"
    },
    {
     "data": {
      "text/plain": "Groundedness per statement in source:   0%|          | 0/3 [00:00<?, ?it/s]",
      "application/vnd.jupyter.widget-view+json": {
       "version_major": 2,
       "version_minor": 0,
       "model_id": "44030386dfff4259b5a55876007cc111"
      }
     },
     "metadata": {},
     "output_type": "display_data"
    },
    {
     "data": {
      "text/plain": "Groundedness per statement in source:   0%|          | 0/3 [00:00<?, ?it/s]",
      "application/vnd.jupyter.widget-view+json": {
       "version_major": 2,
       "version_minor": 0,
       "model_id": "0bd04f7040e743518d8aa7f0e5b84ecb"
      }
     },
     "metadata": {},
     "output_type": "display_data"
    },
    {
     "data": {
      "text/plain": "Groundedness per statement in source:   0%|          | 0/5 [00:00<?, ?it/s]",
      "application/vnd.jupyter.widget-view+json": {
       "version_major": 2,
       "version_minor": 0,
       "model_id": "8197527197314360a691f10200e0256f"
      }
     },
     "metadata": {},
     "output_type": "display_data"
    },
    {
     "name": "stdout",
     "output_type": "stream",
     "text": [
      "> Merging 2 nodes into parent node.\n",
      "> Parent node id: 006d60bd-96a0-49dd-aafc-c0cbc0496e18.\n",
      "> Parent node text: PAGE 20Working on projects requires making tough choices about what to build and how to go \n",
      "about...\n",
      "\n",
      "> Merging 1 nodes into parent node.\n",
      "> Parent node id: 70790397-3e94-480c-8a55-77ab63d9a5d5.\n",
      "> Parent node text: PAGE 7These phases apply in a wide \n",
      "range of professions, but AI \n",
      "involves unique elements.\n",
      "For e...\n",
      "\n",
      "> Merging 1 nodes into parent node.\n",
      "> Parent node id: 920582e3-3c21-4694-8f6b-65c02d41872f.\n",
      "> Parent node text: PAGE 18It goes without saying that we should only work on projects that are responsible, ethical,...\n",
      "\n",
      "> Merging 1 nodes into parent node.\n",
      "> Parent node id: 5919d075-ea12-4c6c-9f52-fb9ea8cc9dc9.\n",
      "> Parent node text: PAGE 15One of the most important skills of an AI architect is the ability to identify ideas that ...\n",
      "\n",
      "> Merging 1 nodes into parent node.\n",
      "> Parent node id: 6889ff80-066c-4b34-bf1a-4a5eb6f96b6c.\n",
      "> Parent node text: PAGE 22Over the course of a career, you’re likely to work on projects in succession, each growing...\n",
      "\n",
      "> Merging 1 nodes into parent node.\n",
      "> Parent node id: 77211327-cf8b-4e0a-afbb-137e0449d01a.\n",
      "> Parent node text: PAGE 16Determine milestones. Once you’ve deemed a project sufficiently \n",
      "valuable, the next step i...\n",
      "\n",
      "> Merging 1 nodes into parent node.\n",
      "> Parent node id: ed834e9d-b0ec-4584-9117-ddb6b23fe8ab.\n",
      "> Parent node text: PAGE 23Each project is only one step on a longer journey, hopefully one that has a positive impac...\n",
      "\n",
      "> Merging 1 nodes into parent node.\n",
      "> Parent node id: b4f07b1b-5ce7-40c5-9530-72a800ad4852.\n",
      "> Parent node text: PAGE 29If you’re preparing to switch roles (say, taking a job as a machine learning engineer for ...\n",
      "\n",
      "> Merging 1 nodes into parent node.\n",
      "> Parent node id: 9f5ed503-7737-43e4-837c-65090fac6131.\n",
      "> Parent node text: PAGE 27There’s a lot we don’t know about the future: When will we cure Alzheimer’s disease? Who w...\n",
      "\n",
      "> Merging 1 nodes into parent node.\n",
      "> Parent node id: c04d8115-9808-4c2f-9a36-ea1503b37f2a.\n",
      "> Parent node text: PAGE 6The rapid rise of AI has led to a rapid rise in AI jobs, and many people are building excit...\n",
      "\n",
      "> Merging 1 nodes into parent node.\n",
      "> Parent node id: 295c5d00-b3e5-44df-94ac-3f724cc83c03.\n",
      "> Parent node text: PAGE 19Develop a side hustle. Even if you have a full-time job, a fun project that may or may not...\n"
     ]
    },
    {
     "name": "stderr",
     "output_type": "stream",
     "text": [
      "Feedback Function exception caught: Traceback (most recent call last):\n",
      "  File \"C:\\Users\\wongs\\Desktop\\Project-Deep Learning\\Codes\\.venv\\Lib\\site-packages\\trulens_eval\\feedback\\feedback.py\", line 854, in run\n",
      "    result_and_meta, part_cost = Endpoint.track_all_costs_tally(\n",
      "                                 ^^^^^^^^^^^^^^^^^^^^^^^^^^^^^^^\n",
      "  File \"C:\\Users\\wongs\\Desktop\\Project-Deep Learning\\Codes\\.venv\\Lib\\site-packages\\trulens_eval\\feedback\\provider\\endpoint\\base.py\", line 496, in track_all_costs_tally\n",
      "    result, cbs = Endpoint.track_all_costs(\n",
      "                  ^^^^^^^^^^^^^^^^^^^^^^^^^\n",
      "  File \"C:\\Users\\wongs\\Desktop\\Project-Deep Learning\\Codes\\.venv\\Lib\\site-packages\\trulens_eval\\feedback\\provider\\endpoint\\base.py\", line 477, in track_all_costs\n",
      "    return Endpoint._track_costs(\n",
      "           ^^^^^^^^^^^^^^^^^^^^^^\n",
      "  File \"C:\\Users\\wongs\\Desktop\\Project-Deep Learning\\Codes\\.venv\\Lib\\site-packages\\trulens_eval\\feedback\\provider\\endpoint\\base.py\", line 574, in _track_costs\n",
      "    result: T = __func(*args, **kwargs)\n",
      "                ^^^^^^^^^^^^^^^^^^^^^^^\n",
      "  File \"C:\\Users\\wongs\\Desktop\\Project-Deep Learning\\Codes\\.venv\\Lib\\site-packages\\trulens_eval\\feedback\\provider\\base.py\", line 405, in qs_relevance_with_cot_reasons\n",
      "    return self.context_relevance_with_cot_reasons(question, context)\n",
      "           ^^^^^^^^^^^^^^^^^^^^^^^^^^^^^^^^^^^^^^^^^^^^^^^^^^^^^^^^^^\n",
      "  File \"C:\\Users\\wongs\\Desktop\\Project-Deep Learning\\Codes\\.venv\\Lib\\site-packages\\trulens_eval\\feedback\\provider\\base.py\", line 391, in context_relevance_with_cot_reasons\n",
      "    return self.generate_score_and_reasons(system_prompt, user_prompt)\n",
      "           ^^^^^^^^^^^^^^^^^^^^^^^^^^^^^^^^^^^^^^^^^^^^^^^^^^^^^^^^^^^\n",
      "  File \"C:\\Users\\wongs\\Desktop\\Project-Deep Learning\\Codes\\.venv\\Lib\\site-packages\\trulens_eval\\feedback\\provider\\base.py\", line 253, in generate_score_and_reasons\n",
      "    score = re_0_10_rating(line) / normalize\n",
      "            ^^^^^^^^^^^^^^^^^^^^\n",
      "  File \"C:\\Users\\wongs\\Desktop\\Project-Deep Learning\\Codes\\.venv\\Lib\\site-packages\\trulens_eval\\utils\\generated.py\", line 70, in re_0_10_rating\n",
      "    raise ParseError(\"int or float number\", s, pattern=PATTERN_INTEGER)\n",
      "trulens_eval.utils.generated.ParseError: Tried to find int or float number using pattern ([+-]?[1-9][0-9]*|0) in\n",
      "  Score: \n",
      "\n",
      "The above exception was the direct cause of the following exception:\n",
      "\n",
      "Traceback (most recent call last):\n",
      "  File \"C:\\Users\\wongs\\Desktop\\Project-Deep Learning\\Codes\\.venv\\Lib\\site-packages\\trulens_eval\\feedback\\feedback.py\", line 860, in run\n",
      "    raise RuntimeError(\n",
      "RuntimeError: Evaluation of Context Relevance failed on inputs: \n",
      "{'context': 'PAGE 24A Simple Framework \\n'\n",
      "            'for Starting Your AI \\n'\n",
      "            'Job SearchCHAPTER 7\\n'\n",
      "           .\n",
      "\n"
     ]
    },
    {
     "data": {
      "text/plain": "Groundedness per statement in source:   0%|          | 0/5 [00:00<?, ?it/s]",
      "application/vnd.jupyter.widget-view+json": {
       "version_major": 2,
       "version_minor": 0,
       "model_id": "1269ef9493b74d6d86e8e7a5e226e3fb"
      }
     },
     "metadata": {},
     "output_type": "display_data"
    },
    {
     "data": {
      "text/plain": "Groundedness per statement in source:   0%|          | 0/5 [00:00<?, ?it/s]",
      "application/vnd.jupyter.widget-view+json": {
       "version_major": 2,
       "version_minor": 0,
       "model_id": "8b87b6815b2c427180c673204691e971"
      }
     },
     "metadata": {},
     "output_type": "display_data"
    },
    {
     "data": {
      "text/plain": "Groundedness per statement in source:   0%|          | 0/5 [00:00<?, ?it/s]",
      "application/vnd.jupyter.widget-view+json": {
       "version_major": 2,
       "version_minor": 0,
       "model_id": "d80ad525e654481a84c5042398d957d4"
      }
     },
     "metadata": {},
     "output_type": "display_data"
    },
    {
     "data": {
      "text/plain": "Groundedness per statement in source:   0%|          | 0/7 [00:00<?, ?it/s]",
      "application/vnd.jupyter.widget-view+json": {
       "version_major": 2,
       "version_minor": 0,
       "model_id": "8b0e190395cf4c8ab45b04882a49535f"
      }
     },
     "metadata": {},
     "output_type": "display_data"
    },
    {
     "data": {
      "text/plain": "Groundedness per statement in source:   0%|          | 0/5 [00:00<?, ?it/s]",
      "application/vnd.jupyter.widget-view+json": {
       "version_major": 2,
       "version_minor": 0,
       "model_id": "a3a856eab01840019dc2ddd0a71e3d91"
      }
     },
     "metadata": {},
     "output_type": "display_data"
    },
    {
     "name": "stdout",
     "output_type": "stream",
     "text": [
      "> Merging 1 nodes into parent node.\n",
      "> Parent node id: 6889ff80-066c-4b34-bf1a-4a5eb6f96b6c.\n",
      "> Parent node text: PAGE 22Over the course of a career, you’re likely to work on projects in succession, each growing...\n",
      "\n",
      "> Merging 1 nodes into parent node.\n",
      "> Parent node id: ed834e9d-b0ec-4584-9117-ddb6b23fe8ab.\n",
      "> Parent node text: PAGE 23Each project is only one step on a longer journey, hopefully one that has a positive impac...\n",
      "\n",
      "> Merging 1 nodes into parent node.\n",
      "> Parent node id: 295c5d00-b3e5-44df-94ac-3f724cc83c03.\n",
      "> Parent node text: PAGE 19Develop a side hustle. Even if you have a full-time job, a fun project that may or may not...\n",
      "\n",
      "> Merging 1 nodes into parent node.\n",
      "> Parent node id: c04d8115-9808-4c2f-9a36-ea1503b37f2a.\n",
      "> Parent node text: PAGE 6The rapid rise of AI has led to a rapid rise in AI jobs, and many people are building excit...\n",
      "\n",
      "> Merging 1 nodes into parent node.\n",
      "> Parent node id: 920582e3-3c21-4694-8f6b-65c02d41872f.\n",
      "> Parent node text: PAGE 18It goes without saying that we should only work on projects that are responsible, ethical,...\n",
      "\n",
      "> Merging 1 nodes into parent node.\n",
      "> Parent node id: 70790397-3e94-480c-8a55-77ab63d9a5d5.\n",
      "> Parent node text: PAGE 7These phases apply in a wide \n",
      "range of professions, but AI \n",
      "involves unique elements.\n",
      "For e...\n",
      "\n",
      "> Merging 1 nodes into parent node.\n",
      "> Parent node id: aaafc4aa-cfc9-4b78-8459-5699899034c0.\n",
      "> Parent node text: PAGE 36Keys to Building a Career in AI CHAPTER 10\n",
      "Of all the steps in building a career, this \n",
      "on...\n",
      "\n",
      "> Merging 1 nodes into parent node.\n",
      "> Parent node id: 77211327-cf8b-4e0a-afbb-137e0449d01a.\n",
      "> Parent node text: PAGE 16Determine milestones. Once you’ve deemed a project sufficiently \n",
      "valuable, the next step i...\n",
      "\n",
      "> Merging 1 nodes into parent node.\n",
      "> Parent node id: 114e85b7-08a1-4b90-9a04-d61ba5367919.\n",
      "> Parent node text: PAGE 17Finding Projects that \n",
      "Complement Your \n",
      "Career GoalsCHAPTER 5\n",
      "PROJECTS\n",
      "\n",
      "> Merging 1 nodes into parent node.\n",
      "> Parent node id: 729162bf-8857-4939-ac3b-316c1848e40c.\n",
      "> Parent node text: PAGE 35Keys to Building a Career in AI CHAPTER 10\n",
      "The path to career success in AI is more comple...\n",
      "\n",
      "> Merging 1 nodes into parent node.\n",
      "> Parent node id: 5919d075-ea12-4c6c-9f52-fb9ea8cc9dc9.\n",
      "> Parent node text: PAGE 15One of the most important skills of an AI architect is the ability to identify ideas that ...\n",
      "\n",
      "> Merging 1 nodes into parent node.\n",
      "> Parent node id: b0a2bcde-4adc-43a6-8101-fa0f293729a1.\n",
      "> Parent node text: PAGE 3Table of \n",
      "ContentsIntroduction: Coding AI is the New Literacy.\n",
      "Chapter 1: Three Steps to Ca...\n"
     ]
    },
    {
     "name": "stderr",
     "output_type": "stream",
     "text": [
      "Feedback Function exception caught: Traceback (most recent call last):\n",
      "  File \"C:\\Users\\wongs\\Desktop\\Project-Deep Learning\\Codes\\.venv\\Lib\\site-packages\\trulens_eval\\feedback\\feedback.py\", line 854, in run\n",
      "    result_and_meta, part_cost = Endpoint.track_all_costs_tally(\n",
      "                                 ^^^^^^^^^^^^^^^^^^^^^^^^^^^^^^^\n",
      "  File \"C:\\Users\\wongs\\Desktop\\Project-Deep Learning\\Codes\\.venv\\Lib\\site-packages\\trulens_eval\\feedback\\provider\\endpoint\\base.py\", line 496, in track_all_costs_tally\n",
      "    result, cbs = Endpoint.track_all_costs(\n",
      "                  ^^^^^^^^^^^^^^^^^^^^^^^^^\n",
      "  File \"C:\\Users\\wongs\\Desktop\\Project-Deep Learning\\Codes\\.venv\\Lib\\site-packages\\trulens_eval\\feedback\\provider\\endpoint\\base.py\", line 477, in track_all_costs\n",
      "    return Endpoint._track_costs(\n",
      "           ^^^^^^^^^^^^^^^^^^^^^^\n",
      "  File \"C:\\Users\\wongs\\Desktop\\Project-Deep Learning\\Codes\\.venv\\Lib\\site-packages\\trulens_eval\\feedback\\provider\\endpoint\\base.py\", line 574, in _track_costs\n",
      "    result: T = __func(*args, **kwargs)\n",
      "                ^^^^^^^^^^^^^^^^^^^^^^^\n",
      "  File \"C:\\Users\\wongs\\Desktop\\Project-Deep Learning\\Codes\\.venv\\Lib\\site-packages\\trulens_eval\\feedback\\provider\\base.py\", line 405, in qs_relevance_with_cot_reasons\n",
      "    return self.context_relevance_with_cot_reasons(question, context)\n",
      "           ^^^^^^^^^^^^^^^^^^^^^^^^^^^^^^^^^^^^^^^^^^^^^^^^^^^^^^^^^^\n",
      "  File \"C:\\Users\\wongs\\Desktop\\Project-Deep Learning\\Codes\\.venv\\Lib\\site-packages\\trulens_eval\\feedback\\provider\\base.py\", line 391, in context_relevance_with_cot_reasons\n",
      "    return self.generate_score_and_reasons(system_prompt, user_prompt)\n",
      "           ^^^^^^^^^^^^^^^^^^^^^^^^^^^^^^^^^^^^^^^^^^^^^^^^^^^^^^^^^^^\n",
      "  File \"C:\\Users\\wongs\\Desktop\\Project-Deep Learning\\Codes\\.venv\\Lib\\site-packages\\trulens_eval\\feedback\\provider\\base.py\", line 253, in generate_score_and_reasons\n",
      "    score = re_0_10_rating(line) / normalize\n",
      "            ^^^^^^^^^^^^^^^^^^^^\n",
      "  File \"C:\\Users\\wongs\\Desktop\\Project-Deep Learning\\Codes\\.venv\\Lib\\site-packages\\trulens_eval\\utils\\generated.py\", line 70, in re_0_10_rating\n",
      "    raise ParseError(\"int or float number\", s, pattern=PATTERN_INTEGER)\n",
      "trulens_eval.utils.generated.ParseError: Tried to find int or float number using pattern ([+-]?[1-9][0-9]*|0) in\n",
      "  Score: \n",
      "\n",
      "The above exception was the direct cause of the following exception:\n",
      "\n",
      "Traceback (most recent call last):\n",
      "  File \"C:\\Users\\wongs\\Desktop\\Project-Deep Learning\\Codes\\.venv\\Lib\\site-packages\\trulens_eval\\feedback\\feedback.py\", line 860, in run\n",
      "    raise RuntimeError(\n",
      "RuntimeError: Evaluation of Context Relevance failed on inputs: \n",
      "{'context': 'PAGE 27There’s a lot we don’t know about the future: When will we '\n",
      "            'cure Alzheimer’s disease? Who will.\n",
      "\n"
     ]
    },
    {
     "data": {
      "text/plain": "Groundedness per statement in source:   0%|          | 0/5 [00:00<?, ?it/s]",
      "application/vnd.jupyter.widget-view+json": {
       "version_major": 2,
       "version_minor": 0,
       "model_id": "2c31042d3e9d461b99468707f1a9431f"
      }
     },
     "metadata": {},
     "output_type": "display_data"
    },
    {
     "data": {
      "text/plain": "Groundedness per statement in source:   0%|          | 0/7 [00:00<?, ?it/s]",
      "application/vnd.jupyter.widget-view+json": {
       "version_major": 2,
       "version_minor": 0,
       "model_id": "2eeccb9f383a43008ec29d4f5af09e71"
      }
     },
     "metadata": {},
     "output_type": "display_data"
    },
    {
     "data": {
      "text/plain": "Groundedness per statement in source:   0%|          | 0/5 [00:00<?, ?it/s]",
      "application/vnd.jupyter.widget-view+json": {
       "version_major": 2,
       "version_minor": 0,
       "model_id": "af9b9164bbe74ffebe3873c3b94b4669"
      }
     },
     "metadata": {},
     "output_type": "display_data"
    },
    {
     "name": "stdout",
     "output_type": "stream",
     "text": [
      "> Merging 1 nodes into parent node.\n",
      "> Parent node id: 91e7d086-1419-4a72-bda6-32ff79bc8ade.\n",
      "> Parent node text: PAGE 13Should you Learn Math to Get a Job in AI? CHAPTER 3\n",
      "Is math a foundational skill for AI? I...\n",
      "\n",
      "> Merging 2 nodes into parent node.\n",
      "> Parent node id: 93d80903-fed1-4f41-9332-dcdff4191620.\n",
      "> Parent node text: PAGE 9In the previous chapter, I introduced three key steps for building a career in AI: learning...\n",
      "\n",
      "> Merging 1 nodes into parent node.\n",
      "> Parent node id: 9567cbea-ec90-440d-82f3-854df3715f53.\n",
      "> Parent node text: PAGE 4Coding AI Is the New Literacy\n",
      "Today we take it for granted that many people know how to rea...\n",
      "\n",
      "> Merging 1 nodes into parent node.\n",
      "> Parent node id: dc99ed01-ccb7-4704-9411-197e3a311e8c.\n",
      "> Parent node text: PAGE 10This is a lot to learn!\n",
      "Even after you master everything on this list, I hope you’ll keep ...\n",
      "\n",
      "> Merging 1 nodes into parent node.\n",
      "> Parent node id: 920582e3-3c21-4694-8f6b-65c02d41872f.\n",
      "> Parent node text: PAGE 18It goes without saying that we should only work on projects that are responsible, ethical,...\n",
      "\n",
      "> Merging 1 nodes into parent node.\n",
      "> Parent node id: 77211327-cf8b-4e0a-afbb-137e0449d01a.\n",
      "> Parent node text: PAGE 16Determine milestones. Once you’ve deemed a project sufficiently \n",
      "valuable, the next step i...\n",
      "\n",
      "> Merging 1 nodes into parent node.\n",
      "> Parent node id: 00fdbdf1-908b-4ecb-8ddf-7c91b000f162.\n",
      "> Parent node text: PAGE 38Before we dive into the final chapter of this book, I’d like to address the serious matter...\n",
      "\n",
      "> Merging 1 nodes into parent node.\n",
      "> Parent node id: 5919d075-ea12-4c6c-9f52-fb9ea8cc9dc9.\n",
      "> Parent node text: PAGE 15One of the most important skills of an AI architect is the ability to identify ideas that ...\n",
      "\n",
      "> Merging 1 nodes into parent node.\n",
      "> Parent node id: ed834e9d-b0ec-4584-9117-ddb6b23fe8ab.\n",
      "> Parent node text: PAGE 23Each project is only one step on a longer journey, hopefully one that has a positive impac...\n",
      "\n",
      "> Merging 1 nodes into parent node.\n",
      "> Parent node id: 70790397-3e94-480c-8a55-77ab63d9a5d5.\n",
      "> Parent node text: PAGE 7These phases apply in a wide \n",
      "range of professions, but AI \n",
      "involves unique elements.\n",
      "For e...\n",
      "\n",
      "> Merging 1 nodes into parent node.\n",
      "> Parent node id: 336bafd5-388b-4e86-8f14-61c52792ac09.\n",
      "> Parent node text: PAGE 12Should You \n",
      "Learn Math to \n",
      "Get a Job in AI? CHAPTER 3\n",
      "LEARNING\n"
     ]
    },
    {
     "data": {
      "text/plain": "Groundedness per statement in source:   0%|          | 0/7 [00:00<?, ?it/s]",
      "application/vnd.jupyter.widget-view+json": {
       "version_major": 2,
       "version_minor": 0,
       "model_id": "81ec8c92c8c9495f92a5f91f0b73cf1d"
      }
     },
     "metadata": {},
     "output_type": "display_data"
    },
    {
     "data": {
      "text/plain": "Groundedness per statement in source:   0%|          | 0/6 [00:00<?, ?it/s]",
      "application/vnd.jupyter.widget-view+json": {
       "version_major": 2,
       "version_minor": 0,
       "model_id": "7e2fa056e75f4406b61c511b6503914a"
      }
     },
     "metadata": {},
     "output_type": "display_data"
    },
    {
     "data": {
      "text/plain": "Groundedness per statement in source:   0%|          | 0/7 [00:00<?, ?it/s]",
      "application/vnd.jupyter.widget-view+json": {
       "version_major": 2,
       "version_minor": 0,
       "model_id": "8126a79218d04875abcc1a44378a5f2f"
      }
     },
     "metadata": {},
     "output_type": "display_data"
    },
    {
     "name": "stdout",
     "output_type": "stream",
     "text": [
      "> Merging 1 nodes into parent node.\n",
      "> Parent node id: dc99ed01-ccb7-4704-9411-197e3a311e8c.\n",
      "> Parent node text: PAGE 10This is a lot to learn!\n",
      "Even after you master everything on this list, I hope you’ll keep ...\n",
      "\n",
      "> Merging 1 nodes into parent node.\n",
      "> Parent node id: b0a2bcde-4adc-43a6-8101-fa0f293729a1.\n",
      "> Parent node text: PAGE 3Table of \n",
      "ContentsIntroduction: Coding AI is the New Literacy.\n",
      "Chapter 1: Three Steps to Ca...\n",
      "\n",
      "> Merging 2 nodes into parent node.\n",
      "> Parent node id: 93d80903-fed1-4f41-9332-dcdff4191620.\n",
      "> Parent node text: PAGE 9In the previous chapter, I introduced three key steps for building a career in AI: learning...\n",
      "\n",
      "> Merging 1 nodes into parent node.\n",
      "> Parent node id: 8a6d39ed-56d5-4be8-91dc-567ce7145d5a.\n",
      "> Parent node text: PAGE 8Learning Technical \n",
      "Skills for a Promising \n",
      "AI CareerCHAPTER 2\n",
      "LEARNING\n",
      "\n",
      "> Merging 1 nodes into parent node.\n",
      "> Parent node id: 6889ff80-066c-4b34-bf1a-4a5eb6f96b6c.\n",
      "> Parent node text: PAGE 22Over the course of a career, you’re likely to work on projects in succession, each growing...\n",
      "\n",
      "> Merging 1 nodes into parent node.\n",
      "> Parent node id: aaafc4aa-cfc9-4b78-8459-5699899034c0.\n",
      "> Parent node text: PAGE 36Keys to Building a Career in AI CHAPTER 10\n",
      "Of all the steps in building a career, this \n",
      "on...\n",
      "\n",
      "> Merging 1 nodes into parent node.\n",
      "> Parent node id: 70790397-3e94-480c-8a55-77ab63d9a5d5.\n",
      "> Parent node text: PAGE 7These phases apply in a wide \n",
      "range of professions, but AI \n",
      "involves unique elements.\n",
      "For e...\n",
      "\n",
      "> Merging 1 nodes into parent node.\n",
      "> Parent node id: 19accb2c-b932-4621-a1d5-493786ec25c4.\n",
      "> Parent node text: PAGE 11\n",
      "The Best Way to Build \n",
      "a New Habit\n",
      "One of my favorite books is BJ Fogg’s, Tiny Habits: Th...\n",
      "\n",
      "> Merging 1 nodes into parent node.\n",
      "> Parent node id: ed834e9d-b0ec-4584-9117-ddb6b23fe8ab.\n",
      "> Parent node text: PAGE 23Each project is only one step on a longer journey, hopefully one that has a positive impac...\n",
      "\n",
      "> Merging 1 nodes into parent node.\n",
      "> Parent node id: c04d8115-9808-4c2f-9a36-ea1503b37f2a.\n",
      "> Parent node text: PAGE 6The rapid rise of AI has led to a rapid rise in AI jobs, and many people are building excit...\n",
      "\n",
      "> Merging 1 nodes into parent node.\n",
      "> Parent node id: 920582e3-3c21-4694-8f6b-65c02d41872f.\n",
      "> Parent node text: PAGE 18It goes without saying that we should only work on projects that are responsible, ethical,...\n"
     ]
    },
    {
     "data": {
      "text/plain": "Groundedness per statement in source:   0%|          | 0/5 [00:00<?, ?it/s]",
      "application/vnd.jupyter.widget-view+json": {
       "version_major": 2,
       "version_minor": 0,
       "model_id": "54249f8a222547a09134c8f2a9042f6a"
      }
     },
     "metadata": {},
     "output_type": "display_data"
    },
    {
     "data": {
      "text/plain": "Groundedness per statement in source:   0%|          | 0/6 [00:00<?, ?it/s]",
      "application/vnd.jupyter.widget-view+json": {
       "version_major": 2,
       "version_minor": 0,
       "model_id": "abbf81e83b9a427485f2c0922e23d970"
      }
     },
     "metadata": {},
     "output_type": "display_data"
    },
    {
     "data": {
      "text/plain": "Groundedness per statement in source:   0%|          | 0/7 [00:00<?, ?it/s]",
      "application/vnd.jupyter.widget-view+json": {
       "version_major": 2,
       "version_minor": 0,
       "model_id": "21982bff7aa54987aac8ee07eb417a35"
      }
     },
     "metadata": {},
     "output_type": "display_data"
    },
    {
     "data": {
      "text/plain": "Groundedness per statement in source:   0%|          | 0/5 [00:00<?, ?it/s]",
      "application/vnd.jupyter.widget-view+json": {
       "version_major": 2,
       "version_minor": 0,
       "model_id": "b0e7c07a433b4f98a9a2cf43a02d5265"
      }
     },
     "metadata": {},
     "output_type": "display_data"
    },
    {
     "data": {
      "text/plain": "Groundedness per statement in source:   0%|          | 0/4 [00:00<?, ?it/s]",
      "application/vnd.jupyter.widget-view+json": {
       "version_major": 2,
       "version_minor": 0,
       "model_id": "538c38addbc9431099503a31aee22c8f"
      }
     },
     "metadata": {},
     "output_type": "display_data"
    },
    {
     "name": "stdout",
     "output_type": "stream",
     "text": [
      "> Merging 1 nodes into parent node.\n",
      "> Parent node id: b4f07b1b-5ce7-40c5-9530-72a800ad4852.\n",
      "> Parent node text: PAGE 29If you’re preparing to switch roles (say, taking a job as a machine learning engineer for ...\n",
      "\n",
      "> Merging 1 nodes into parent node.\n",
      "> Parent node id: fe9c5eae-e278-4ebf-b8c0-d5c833efcdce.\n",
      "> Parent node text: PAGE 26If you’re considering a role switch, a startup can be an easier place to do it than a big ...\n",
      "\n",
      "> Merging 1 nodes into parent node.\n",
      "> Parent node id: 1bd98ca7-6442-4136-9773-64913ab9b72c.\n",
      "> Parent node text: PAGE 25Finding a job has a few predictable steps that include selecting the companies to which yo...\n",
      "\n",
      "> Merging 1 nodes into parent node.\n",
      "> Parent node id: 59673767-65cc-484a-b15a-4db810875de4.\n",
      "> Parent node text: PAGE 30Finding someone to interview isn’t always easy, but many people who are in senior position...\n",
      "\n",
      "> Merging 1 nodes into parent node.\n",
      "> Parent node id: c900ce78-5a72-49f9-90bb-662ef01f6ffb.\n",
      "> Parent node text: PAGE 33Choose who to work with. It’s tempting to take a position because of the projects you’ll w...\n",
      "\n",
      "> Merging 1 nodes into parent node.\n",
      "> Parent node id: 70790397-3e94-480c-8a55-77ab63d9a5d5.\n",
      "> Parent node text: PAGE 7These phases apply in a wide \n",
      "range of professions, but AI \n",
      "involves unique elements.\n",
      "For e...\n",
      "\n",
      "> Merging 1 nodes into parent node.\n",
      "> Parent node id: 920582e3-3c21-4694-8f6b-65c02d41872f.\n",
      "> Parent node text: PAGE 18It goes without saying that we should only work on projects that are responsible, ethical,...\n",
      "\n",
      "> Merging 1 nodes into parent node.\n",
      "> Parent node id: ed834e9d-b0ec-4584-9117-ddb6b23fe8ab.\n",
      "> Parent node text: PAGE 23Each project is only one step on a longer journey, hopefully one that has a positive impac...\n",
      "\n",
      "> Merging 1 nodes into parent node.\n",
      "> Parent node id: 5919d075-ea12-4c6c-9f52-fb9ea8cc9dc9.\n",
      "> Parent node text: PAGE 15One of the most important skills of an AI architect is the ability to identify ideas that ...\n",
      "\n",
      "> Merging 1 nodes into parent node.\n",
      "> Parent node id: 295c5d00-b3e5-44df-94ac-3f724cc83c03.\n",
      "> Parent node text: PAGE 19Develop a side hustle. Even if you have a full-time job, a fun project that may or may not...\n"
     ]
    },
    {
     "data": {
      "text/plain": "Groundedness per statement in source:   0%|          | 0/6 [00:00<?, ?it/s]",
      "application/vnd.jupyter.widget-view+json": {
       "version_major": 2,
       "version_minor": 0,
       "model_id": "758f1d12890343ca8cd36b65d656b2e2"
      }
     },
     "metadata": {},
     "output_type": "display_data"
    },
    {
     "name": "stderr",
     "output_type": "stream",
     "text": [
      "Feedback Function exception caught: Traceback (most recent call last):\n",
      "  File \"C:\\Users\\wongs\\Desktop\\Project-Deep Learning\\Codes\\.venv\\Lib\\site-packages\\trulens_eval\\feedback\\feedback.py\", line 854, in run\n",
      "    result_and_meta, part_cost = Endpoint.track_all_costs_tally(\n",
      "                                 ^^^^^^^^^^^^^^^^^^^^^^^^^^^^^^^\n",
      "  File \"C:\\Users\\wongs\\Desktop\\Project-Deep Learning\\Codes\\.venv\\Lib\\site-packages\\trulens_eval\\feedback\\provider\\endpoint\\base.py\", line 496, in track_all_costs_tally\n",
      "    result, cbs = Endpoint.track_all_costs(\n",
      "                  ^^^^^^^^^^^^^^^^^^^^^^^^^\n",
      "  File \"C:\\Users\\wongs\\Desktop\\Project-Deep Learning\\Codes\\.venv\\Lib\\site-packages\\trulens_eval\\feedback\\provider\\endpoint\\base.py\", line 477, in track_all_costs\n",
      "    return Endpoint._track_costs(\n",
      "           ^^^^^^^^^^^^^^^^^^^^^^\n",
      "  File \"C:\\Users\\wongs\\Desktop\\Project-Deep Learning\\Codes\\.venv\\Lib\\site-packages\\trulens_eval\\feedback\\provider\\endpoint\\base.py\", line 574, in _track_costs\n",
      "    result: T = __func(*args, **kwargs)\n",
      "                ^^^^^^^^^^^^^^^^^^^^^^^\n",
      "  File \"C:\\Users\\wongs\\Desktop\\Project-Deep Learning\\Codes\\.venv\\Lib\\site-packages\\trulens_eval\\feedback\\provider\\base.py\", line 405, in qs_relevance_with_cot_reasons\n",
      "    return self.context_relevance_with_cot_reasons(question, context)\n",
      "           ^^^^^^^^^^^^^^^^^^^^^^^^^^^^^^^^^^^^^^^^^^^^^^^^^^^^^^^^^^\n",
      "  File \"C:\\Users\\wongs\\Desktop\\Project-Deep Learning\\Codes\\.venv\\Lib\\site-packages\\trulens_eval\\feedback\\provider\\base.py\", line 391, in context_relevance_with_cot_reasons\n",
      "    return self.generate_score_and_reasons(system_prompt, user_prompt)\n",
      "           ^^^^^^^^^^^^^^^^^^^^^^^^^^^^^^^^^^^^^^^^^^^^^^^^^^^^^^^^^^^\n",
      "  File \"C:\\Users\\wongs\\Desktop\\Project-Deep Learning\\Codes\\.venv\\Lib\\site-packages\\trulens_eval\\feedback\\provider\\base.py\", line 253, in generate_score_and_reasons\n",
      "    score = re_0_10_rating(line) / normalize\n",
      "            ^^^^^^^^^^^^^^^^^^^^\n",
      "  File \"C:\\Users\\wongs\\Desktop\\Project-Deep Learning\\Codes\\.venv\\Lib\\site-packages\\trulens_eval\\utils\\generated.py\", line 70, in re_0_10_rating\n",
      "    raise ParseError(\"int or float number\", s, pattern=PATTERN_INTEGER)\n",
      "trulens_eval.utils.generated.ParseError: Tried to find int or float number using pattern ([+-]?[1-9][0-9]*|0) in\n",
      "  Score: \n",
      "\n",
      "The above exception was the direct cause of the following exception:\n",
      "\n",
      "Traceback (most recent call last):\n",
      "  File \"C:\\Users\\wongs\\Desktop\\Project-Deep Learning\\Codes\\.venv\\Lib\\site-packages\\trulens_eval\\feedback\\feedback.py\", line 860, in run\n",
      "    raise RuntimeError(\n",
      "RuntimeError: Evaluation of Context Relevance failed on inputs: \n",
      "{'context': 'PAGE 3Table of \\n'\n",
      "            'ContentsIntroduction: Coding AI is the New Literacy.\\n'\n",
      "            'Chapter 1: Thr.\n",
      "\n"
     ]
    },
    {
     "data": {
      "text/plain": "Groundedness per statement in source:   0%|          | 0/4 [00:00<?, ?it/s]",
      "application/vnd.jupyter.widget-view+json": {
       "version_major": 2,
       "version_minor": 0,
       "model_id": "18ab2c0d44e44713868b7ffc234f589f"
      }
     },
     "metadata": {},
     "output_type": "display_data"
    },
    {
     "data": {
      "text/plain": "Groundedness per statement in source:   0%|          | 0/3 [00:00<?, ?it/s]",
      "application/vnd.jupyter.widget-view+json": {
       "version_major": 2,
       "version_minor": 0,
       "model_id": "ac4a3b8610c34051a96fca74c6e6e7ca"
      }
     },
     "metadata": {},
     "output_type": "display_data"
    },
    {
     "name": "stdout",
     "output_type": "stream",
     "text": [
      "> Merging 1 nodes into parent node.\n",
      "> Parent node id: c04d8115-9808-4c2f-9a36-ea1503b37f2a.\n",
      "> Parent node text: PAGE 6The rapid rise of AI has led to a rapid rise in AI jobs, and many people are building excit...\n",
      "\n",
      "> Merging 1 nodes into parent node.\n",
      "> Parent node id: aaafc4aa-cfc9-4b78-8459-5699899034c0.\n",
      "> Parent node text: PAGE 36Keys to Building a Career in AI CHAPTER 10\n",
      "Of all the steps in building a career, this \n",
      "on...\n",
      "\n",
      "> Merging 1 nodes into parent node.\n",
      "> Parent node id: c900ce78-5a72-49f9-90bb-662ef01f6ffb.\n",
      "> Parent node text: PAGE 33Choose who to work with. It’s tempting to take a position because of the projects you’ll w...\n",
      "\n",
      "> Merging 1 nodes into parent node.\n",
      "> Parent node id: 59673767-65cc-484a-b15a-4db810875de4.\n",
      "> Parent node text: PAGE 30Finding someone to interview isn’t always easy, but many people who are in senior position...\n",
      "\n",
      "> Merging 1 nodes into parent node.\n",
      "> Parent node id: 920582e3-3c21-4694-8f6b-65c02d41872f.\n",
      "> Parent node text: PAGE 18It goes without saying that we should only work on projects that are responsible, ethical,...\n",
      "\n",
      "> Merging 1 nodes into parent node.\n",
      "> Parent node id: 6889ff80-066c-4b34-bf1a-4a5eb6f96b6c.\n",
      "> Parent node text: PAGE 22Over the course of a career, you’re likely to work on projects in succession, each growing...\n",
      "\n",
      "> Merging 1 nodes into parent node.\n",
      "> Parent node id: ed834e9d-b0ec-4584-9117-ddb6b23fe8ab.\n",
      "> Parent node text: PAGE 23Each project is only one step on a longer journey, hopefully one that has a positive impac...\n",
      "\n",
      "> Merging 1 nodes into parent node.\n",
      "> Parent node id: 70790397-3e94-480c-8a55-77ab63d9a5d5.\n",
      "> Parent node text: PAGE 7These phases apply in a wide \n",
      "range of professions, but AI \n",
      "involves unique elements.\n",
      "For e...\n",
      "\n",
      "> Merging 1 nodes into parent node.\n",
      "> Parent node id: b0a2bcde-4adc-43a6-8101-fa0f293729a1.\n",
      "> Parent node text: PAGE 3Table of \n",
      "ContentsIntroduction: Coding AI is the New Literacy.\n",
      "Chapter 1: Three Steps to Ca...\n",
      "\n",
      "> Merging 1 nodes into parent node.\n",
      "> Parent node id: 295c5d00-b3e5-44df-94ac-3f724cc83c03.\n",
      "> Parent node text: PAGE 19Develop a side hustle. Even if you have a full-time job, a fun project that may or may not...\n",
      "\n",
      "> Merging 1 nodes into parent node.\n",
      "> Parent node id: 77211327-cf8b-4e0a-afbb-137e0449d01a.\n",
      "> Parent node text: PAGE 16Determine milestones. Once you’ve deemed a project sufficiently \n",
      "valuable, the next step i...\n"
     ]
    },
    {
     "data": {
      "text/plain": "Groundedness per statement in source:   0%|          | 0/5 [00:00<?, ?it/s]",
      "application/vnd.jupyter.widget-view+json": {
       "version_major": 2,
       "version_minor": 0,
       "model_id": "a83b4346ba13401c8d8be2b051883e70"
      }
     },
     "metadata": {},
     "output_type": "display_data"
    },
    {
     "data": {
      "text/plain": "Groundedness per statement in source:   0%|          | 0/7 [00:00<?, ?it/s]",
      "application/vnd.jupyter.widget-view+json": {
       "version_major": 2,
       "version_minor": 0,
       "model_id": "21640fda7013485b8f588ee50467f040"
      }
     },
     "metadata": {},
     "output_type": "display_data"
    },
    {
     "data": {
      "text/plain": "Groundedness per statement in source:   0%|          | 0/6 [00:00<?, ?it/s]",
      "application/vnd.jupyter.widget-view+json": {
       "version_major": 2,
       "version_minor": 0,
       "model_id": "7073af3a9d8d475aacbeb64edb6760c1"
      }
     },
     "metadata": {},
     "output_type": "display_data"
    },
    {
     "data": {
      "text/plain": "Groundedness per statement in source:   0%|          | 0/4 [00:00<?, ?it/s]",
      "application/vnd.jupyter.widget-view+json": {
       "version_major": 2,
       "version_minor": 0,
       "model_id": "25f9f7c512894583843752cd38841e2f"
      }
     },
     "metadata": {},
     "output_type": "display_data"
    },
    {
     "data": {
      "text/plain": "Groundedness per statement in source:   0%|          | 0/4 [00:00<?, ?it/s]",
      "application/vnd.jupyter.widget-view+json": {
       "version_major": 2,
       "version_minor": 0,
       "model_id": "f929daee20e1454ea002e1e17629c643"
      }
     },
     "metadata": {},
     "output_type": "display_data"
    },
    {
     "data": {
      "text/plain": "Groundedness per statement in source:   0%|          | 0/3 [00:00<?, ?it/s]",
      "application/vnd.jupyter.widget-view+json": {
       "version_major": 2,
       "version_minor": 0,
       "model_id": "6ffa73e8a5294a54a56715d1d05ac9b2"
      }
     },
     "metadata": {},
     "output_type": "display_data"
    },
    {
     "name": "stdout",
     "output_type": "stream",
     "text": [
      "> Merging 1 nodes into parent node.\n",
      "> Parent node id: b4f07b1b-5ce7-40c5-9530-72a800ad4852.\n",
      "> Parent node text: PAGE 29If you’re preparing to switch roles (say, taking a job as a machine learning engineer for ...\n",
      "\n",
      "> Merging 1 nodes into parent node.\n",
      "> Parent node id: b0a2bcde-4adc-43a6-8101-fa0f293729a1.\n",
      "> Parent node text: PAGE 3Table of \n",
      "ContentsIntroduction: Coding AI is the New Literacy.\n",
      "Chapter 1: Three Steps to Ca...\n",
      "\n",
      "> Merging 1 nodes into parent node.\n",
      "> Parent node id: 70790397-3e94-480c-8a55-77ab63d9a5d5.\n",
      "> Parent node text: PAGE 7These phases apply in a wide \n",
      "range of professions, but AI \n",
      "involves unique elements.\n",
      "For e...\n",
      "\n",
      "> Merging 1 nodes into parent node.\n",
      "> Parent node id: 920582e3-3c21-4694-8f6b-65c02d41872f.\n",
      "> Parent node text: PAGE 18It goes without saying that we should only work on projects that are responsible, ethical,...\n",
      "\n",
      "> Merging 1 nodes into parent node.\n",
      "> Parent node id: c900ce78-5a72-49f9-90bb-662ef01f6ffb.\n",
      "> Parent node text: PAGE 33Choose who to work with. It’s tempting to take a position because of the projects you’ll w...\n",
      "\n",
      "> Merging 1 nodes into parent node.\n",
      "> Parent node id: 5919d075-ea12-4c6c-9f52-fb9ea8cc9dc9.\n",
      "> Parent node text: PAGE 15One of the most important skills of an AI architect is the ability to identify ideas that ...\n",
      "\n",
      "> Merging 1 nodes into parent node.\n",
      "> Parent node id: a2b86b34-f600-4813-a50e-40d078a6edc1.\n",
      "> Parent node text: PAGE 28Using Informational \n",
      "Interviews to Find \n",
      "the Right JobCHAPTER 8\n",
      "JOBS\n",
      "\n",
      "> Merging 1 nodes into parent node.\n",
      "> Parent node id: 59673767-65cc-484a-b15a-4db810875de4.\n",
      "> Parent node text: PAGE 30Finding someone to interview isn’t always easy, but many people who are in senior position...\n",
      "\n",
      "> Merging 1 nodes into parent node.\n",
      "> Parent node id: 1bd98ca7-6442-4136-9773-64913ab9b72c.\n",
      "> Parent node text: PAGE 25Finding a job has a few predictable steps that include selecting the companies to which yo...\n",
      "\n",
      "> Merging 1 nodes into parent node.\n",
      "> Parent node id: 127f7f1e-de26-42bb-92c3-df03284a64ef.\n",
      "> Parent node text: PAGE 24A Simple Framework \n",
      "for Starting Your AI \n",
      "Job SearchCHAPTER 7\n",
      "JOBS\n",
      "\n",
      "> Merging 1 nodes into parent node.\n",
      "> Parent node id: c04d8115-9808-4c2f-9a36-ea1503b37f2a.\n",
      "> Parent node text: PAGE 6The rapid rise of AI has led to a rapid rise in AI jobs, and many people are building excit...\n"
     ]
    },
    {
     "data": {
      "text/plain": "Groundedness per statement in source:   0%|          | 0/5 [00:00<?, ?it/s]",
      "application/vnd.jupyter.widget-view+json": {
       "version_major": 2,
       "version_minor": 0,
       "model_id": "0ab9433bd4274b429e00d437dc744446"
      }
     },
     "metadata": {},
     "output_type": "display_data"
    },
    {
     "data": {
      "text/plain": "Groundedness per statement in source:   0%|          | 0/3 [00:00<?, ?it/s]",
      "application/vnd.jupyter.widget-view+json": {
       "version_major": 2,
       "version_minor": 0,
       "model_id": "2f86fa13311a40d9bf1f710a152afb71"
      }
     },
     "metadata": {},
     "output_type": "display_data"
    },
    {
     "data": {
      "text/plain": "Groundedness per statement in source:   0%|          | 0/4 [00:00<?, ?it/s]",
      "application/vnd.jupyter.widget-view+json": {
       "version_major": 2,
       "version_minor": 0,
       "model_id": "ab59c1e41c074263911fa06be7459935"
      }
     },
     "metadata": {},
     "output_type": "display_data"
    },
    {
     "data": {
      "text/plain": "Groundedness per statement in source:   0%|          | 0/4 [00:00<?, ?it/s]",
      "application/vnd.jupyter.widget-view+json": {
       "version_major": 2,
       "version_minor": 0,
       "model_id": "fe9dfa10e0ca4faeb7c148de021d1166"
      }
     },
     "metadata": {},
     "output_type": "display_data"
    },
    {
     "data": {
      "text/plain": "Groundedness per statement in source:   0%|          | 0/6 [00:00<?, ?it/s]",
      "application/vnd.jupyter.widget-view+json": {
       "version_major": 2,
       "version_minor": 0,
       "model_id": "4c13f36989974df28b8b6d24172b1655"
      }
     },
     "metadata": {},
     "output_type": "display_data"
    },
    {
     "data": {
      "text/plain": "Groundedness per statement in source:   0%|          | 0/1 [00:00<?, ?it/s]",
      "application/vnd.jupyter.widget-view+json": {
       "version_major": 2,
       "version_minor": 0,
       "model_id": "229efb4055f444d99ab0d688ea599a8e"
      }
     },
     "metadata": {},
     "output_type": "display_data"
    },
    {
     "name": "stdout",
     "output_type": "stream",
     "text": [
      "> Merging 1 nodes into parent node.\n",
      "> Parent node id: a2b86b34-f600-4813-a50e-40d078a6edc1.\n",
      "> Parent node text: PAGE 28Using Informational \n",
      "Interviews to Find \n",
      "the Right JobCHAPTER 8\n",
      "JOBS\n",
      "\n",
      "> Merging 1 nodes into parent node.\n",
      "> Parent node id: 127f7f1e-de26-42bb-92c3-df03284a64ef.\n",
      "> Parent node text: PAGE 24A Simple Framework \n",
      "for Starting Your AI \n",
      "Job SearchCHAPTER 7\n",
      "JOBS\n",
      "\n",
      "> Merging 1 nodes into parent node.\n",
      "> Parent node id: a9190416-48d9-456a-9347-d83658779000.\n",
      "> Parent node text: PAGE 31Finding the Right \n",
      "AI Job for YouCHAPTER 9\n",
      "JOBS\n",
      "\n",
      "> Merging 1 nodes into parent node.\n",
      "> Parent node id: c900ce78-5a72-49f9-90bb-662ef01f6ffb.\n",
      "> Parent node text: PAGE 33Choose who to work with. It’s tempting to take a position because of the projects you’ll w...\n",
      "\n",
      "> Merging 1 nodes into parent node.\n",
      "> Parent node id: fc22118b-544b-4e4f-a7a8-7ecffd27417c.\n",
      "> Parent node text: PAGE 34Keys to Building a \n",
      "Career in AICHAPTER 10\n",
      "JOBS\n",
      "\n",
      "> Merging 1 nodes into parent node.\n",
      "> Parent node id: 59673767-65cc-484a-b15a-4db810875de4.\n",
      "> Parent node text: PAGE 30Finding someone to interview isn’t always easy, but many people who are in senior position...\n",
      "\n",
      "> Merging 1 nodes into parent node.\n",
      "> Parent node id: aaafc4aa-cfc9-4b78-8459-5699899034c0.\n",
      "> Parent node text: PAGE 36Keys to Building a Career in AI CHAPTER 10\n",
      "Of all the steps in building a career, this \n",
      "on...\n",
      "\n",
      "> Merging 1 nodes into parent node.\n",
      "> Parent node id: b4f07b1b-5ce7-40c5-9530-72a800ad4852.\n",
      "> Parent node text: PAGE 29If you’re preparing to switch roles (say, taking a job as a machine learning engineer for ...\n",
      "\n",
      "> Merging 1 nodes into parent node.\n",
      "> Parent node id: 8a6d39ed-56d5-4be8-91dc-567ce7145d5a.\n",
      "> Parent node text: PAGE 8Learning Technical \n",
      "Skills for a Promising \n",
      "AI CareerCHAPTER 2\n",
      "LEARNING\n",
      "\n",
      "> Merging 1 nodes into parent node.\n",
      "> Parent node id: 9f5ed503-7737-43e4-837c-65090fac6131.\n",
      "> Parent node text: PAGE 27There’s a lot we don’t know about the future: When will we cure Alzheimer’s disease? Who w...\n",
      "\n",
      "> Merging 1 nodes into parent node.\n",
      "> Parent node id: 255042ce-10c0-46aa-ac01-9f7f961785df.\n",
      "> Parent node text: PAGE 5Three Steps to \n",
      "Career GrowthCHAPTER 1\n"
     ]
    },
    {
     "data": {
      "text/plain": "Groundedness per statement in source:   0%|          | 0/6 [00:00<?, ?it/s]",
      "application/vnd.jupyter.widget-view+json": {
       "version_major": 2,
       "version_minor": 0,
       "model_id": "761ad082da89456a96a7613e0b7cfbf5"
      }
     },
     "metadata": {},
     "output_type": "display_data"
    },
    {
     "name": "stdout",
     "output_type": "stream",
     "text": [
      "> Merging 1 nodes into parent node.\n",
      "> Parent node id: 00fdbdf1-908b-4ecb-8ddf-7c91b000f162.\n",
      "> Parent node text: PAGE 38Before we dive into the final chapter of this book, I’d like to address the serious matter...\n",
      "\n",
      "> Merging 1 nodes into parent node.\n",
      "> Parent node id: 0adcc885-dc98-41a4-84fe-d969e397004c.\n",
      "> Parent node text: PAGE 39My three-year-old daughter (who can barely count to 12) regularly tries to teach things to...\n",
      "\n",
      "> Merging 1 nodes into parent node.\n",
      "> Parent node id: d7342753-1d8c-4596-b807-698b422069af.\n",
      "> Parent node text: PAGE 37Overcoming Imposter \n",
      "SyndromeCHAPTER 11\n",
      "\n",
      "> Merging 1 nodes into parent node.\n",
      "> Parent node id: b0a2bcde-4adc-43a6-8101-fa0f293729a1.\n",
      "> Parent node text: PAGE 3Table of \n",
      "ContentsIntroduction: Coding AI is the New Literacy.\n",
      "Chapter 1: Three Steps to Ca...\n",
      "\n",
      "> Merging 1 nodes into parent node.\n",
      "> Parent node id: 729162bf-8857-4939-ac3b-316c1848e40c.\n",
      "> Parent node text: PAGE 35Keys to Building a Career in AI CHAPTER 10\n",
      "The path to career success in AI is more comple...\n",
      "\n",
      "> Merging 1 nodes into parent node.\n",
      "> Parent node id: 59673767-65cc-484a-b15a-4db810875de4.\n",
      "> Parent node text: PAGE 30Finding someone to interview isn’t always easy, but many people who are in senior position...\n",
      "\n",
      "> Merging 1 nodes into parent node.\n",
      "> Parent node id: c900ce78-5a72-49f9-90bb-662ef01f6ffb.\n",
      "> Parent node text: PAGE 33Choose who to work with. It’s tempting to take a position because of the projects you’ll w...\n",
      "\n",
      "> Merging 1 nodes into parent node.\n",
      "> Parent node id: aaafc4aa-cfc9-4b78-8459-5699899034c0.\n",
      "> Parent node text: PAGE 36Keys to Building a Career in AI CHAPTER 10\n",
      "Of all the steps in building a career, this \n",
      "on...\n",
      "\n",
      "> Merging 1 nodes into parent node.\n",
      "> Parent node id: 920582e3-3c21-4694-8f6b-65c02d41872f.\n",
      "> Parent node text: PAGE 18It goes without saying that we should only work on projects that are responsible, ethical,...\n",
      "\n",
      "> Merging 1 nodes into parent node.\n",
      "> Parent node id: 8a6d39ed-56d5-4be8-91dc-567ce7145d5a.\n",
      "> Parent node text: PAGE 8Learning Technical \n",
      "Skills for a Promising \n",
      "AI CareerCHAPTER 2\n",
      "LEARNING\n",
      "\n",
      "> Merging 1 nodes into parent node.\n",
      "> Parent node id: 77211327-cf8b-4e0a-afbb-137e0449d01a.\n",
      "> Parent node text: PAGE 16Determine milestones. Once you’ve deemed a project sufficiently \n",
      "valuable, the next step i...\n",
      "\n",
      "> Merging 1 nodes into parent node.\n",
      "> Parent node id: ed834e9d-b0ec-4584-9117-ddb6b23fe8ab.\n",
      "> Parent node text: PAGE 23Each project is only one step on a longer journey, hopefully one that has a positive impac...\n"
     ]
    },
    {
     "data": {
      "text/plain": "Groundedness per statement in source:   0%|          | 0/3 [00:00<?, ?it/s]",
      "application/vnd.jupyter.widget-view+json": {
       "version_major": 2,
       "version_minor": 0,
       "model_id": "29d9034c97944b5ebb841c87e88190d9"
      }
     },
     "metadata": {},
     "output_type": "display_data"
    },
    {
     "data": {
      "text/plain": "Groundedness per statement in source:   0%|          | 0/1 [00:00<?, ?it/s]",
      "application/vnd.jupyter.widget-view+json": {
       "version_major": 2,
       "version_minor": 0,
       "model_id": "11a02c00bd024fdcac961020f32b1932"
      }
     },
     "metadata": {},
     "output_type": "display_data"
    },
    {
     "data": {
      "text/plain": "Groundedness per statement in source:   0%|          | 0/4 [00:00<?, ?it/s]",
      "application/vnd.jupyter.widget-view+json": {
       "version_major": 2,
       "version_minor": 0,
       "model_id": "16b5a7c19d0f4c998410a1388eda7f2e"
      }
     },
     "metadata": {},
     "output_type": "display_data"
    },
    {
     "data": {
      "text/plain": "Groundedness per statement in source:   0%|          | 0/5 [00:00<?, ?it/s]",
      "application/vnd.jupyter.widget-view+json": {
       "version_major": 2,
       "version_minor": 0,
       "model_id": "959d27626d1c410190c0d69877ebf970"
      }
     },
     "metadata": {},
     "output_type": "display_data"
    },
    {
     "data": {
      "text/plain": "Groundedness per statement in source:   0%|          | 0/3 [00:00<?, ?it/s]",
      "application/vnd.jupyter.widget-view+json": {
       "version_major": 2,
       "version_minor": 0,
       "model_id": "54348c8740004d5684f15aba6c1640cd"
      }
     },
     "metadata": {},
     "output_type": "display_data"
    },
    {
     "data": {
      "text/plain": "Groundedness per statement in source:   0%|          | 0/3 [00:00<?, ?it/s]",
      "application/vnd.jupyter.widget-view+json": {
       "version_major": 2,
       "version_minor": 0,
       "model_id": "63269f00fd1f4a3a9e9398ae7ac0a4a2"
      }
     },
     "metadata": {},
     "output_type": "display_data"
    },
    {
     "data": {
      "text/plain": "Groundedness per statement in source:   0%|          | 0/4 [00:00<?, ?it/s]",
      "application/vnd.jupyter.widget-view+json": {
       "version_major": 2,
       "version_minor": 0,
       "model_id": "3b8bf3abec6d430f9213299cdff28714"
      }
     },
     "metadata": {},
     "output_type": "display_data"
    },
    {
     "data": {
      "text/plain": "Groundedness per statement in source:   0%|          | 0/1 [00:00<?, ?it/s]",
      "application/vnd.jupyter.widget-view+json": {
       "version_major": 2,
       "version_minor": 0,
       "model_id": "875cd82dd90f4e0683758a293a0fb34e"
      }
     },
     "metadata": {},
     "output_type": "display_data"
    },
    {
     "data": {
      "text/plain": "Groundedness per statement in source:   0%|          | 0/6 [00:00<?, ?it/s]",
      "application/vnd.jupyter.widget-view+json": {
       "version_major": 2,
       "version_minor": 0,
       "model_id": "b264ec28d294469fadeddd24851cb118"
      }
     },
     "metadata": {},
     "output_type": "display_data"
    },
    {
     "name": "stdout",
     "output_type": "stream",
     "text": [
      "> Merging 1 nodes into parent node.\n",
      "> Parent node id: 305ea300-6f5e-41b5-84a6-15666788e752.\n",
      "> Parent node text: PAGE 40Make Every Day CountFinal Thoughts\n",
      "Every year on my birthday, I get to thinking about the ...\n",
      "\n",
      "> Merging 1 nodes into parent node.\n",
      "> Parent node id: 19accb2c-b932-4621-a1d5-493786ec25c4.\n",
      "> Parent node text: PAGE 11\n",
      "The Best Way to Build \n",
      "a New Habit\n",
      "One of my favorite books is BJ Fogg’s, Tiny Habits: Th...\n",
      "\n",
      "> Merging 1 nodes into parent node.\n",
      "> Parent node id: 9f5ed503-7737-43e4-837c-65090fac6131.\n",
      "> Parent node text: PAGE 27There’s a lot we don’t know about the future: When will we cure Alzheimer’s disease? Who w...\n",
      "\n",
      "> Merging 2 nodes into parent node.\n",
      "> Parent node id: 006d60bd-96a0-49dd-aafc-c0cbc0496e18.\n",
      "> Parent node text: PAGE 20Working on projects requires making tough choices about what to build and how to go \n",
      "about...\n",
      "\n",
      "> Merging 1 nodes into parent node.\n",
      "> Parent node id: 9567cbea-ec90-440d-82f3-854df3715f53.\n",
      "> Parent node text: PAGE 4Coding AI Is the New Literacy\n",
      "Today we take it for granted that many people know how to rea...\n",
      "\n",
      "> Merging 1 nodes into parent node.\n",
      "> Parent node id: 91e7d086-1419-4a72-bda6-32ff79bc8ade.\n",
      "> Parent node text: PAGE 13Should you Learn Math to Get a Job in AI? CHAPTER 3\n",
      "Is math a foundational skill for AI? I...\n",
      "\n",
      "> Merging 1 nodes into parent node.\n",
      "> Parent node id: b3b9d752-6c0f-460e-a8f9-2db4f2c6a44a.\n",
      "> Parent node text: PAGE 2\"AI is the new \n",
      "electricity. It will \n",
      "transform and improve \n",
      "all areas of human life.\"\n",
      "Andr...\n",
      "\n",
      "> Merging 1 nodes into parent node.\n",
      "> Parent node id: a2b86b34-f600-4813-a50e-40d078a6edc1.\n",
      "> Parent node text: PAGE 28Using Informational \n",
      "Interviews to Find \n",
      "the Right JobCHAPTER 8\n",
      "JOBS\n",
      "\n",
      "> Merging 1 nodes into parent node.\n",
      "> Parent node id: 255042ce-10c0-46aa-ac01-9f7f961785df.\n",
      "> Parent node text: PAGE 5Three Steps to \n",
      "Career GrowthCHAPTER 1\n",
      "\n",
      "> Merging 1 nodes into parent node.\n",
      "> Parent node id: aaafc4aa-cfc9-4b78-8459-5699899034c0.\n",
      "> Parent node text: PAGE 36Keys to Building a Career in AI CHAPTER 10\n",
      "Of all the steps in building a career, this \n",
      "on...\n"
     ]
    },
    {
     "data": {
      "text/plain": "Groundedness per statement in source:   0%|          | 0/1 [00:00<?, ?it/s]",
      "application/vnd.jupyter.widget-view+json": {
       "version_major": 2,
       "version_minor": 0,
       "model_id": "960bcf25383240efa985319bf25427a9"
      }
     },
     "metadata": {},
     "output_type": "display_data"
    },
    {
     "data": {
      "text/plain": "Groundedness per statement in source:   0%|          | 0/4 [00:00<?, ?it/s]",
      "application/vnd.jupyter.widget-view+json": {
       "version_major": 2,
       "version_minor": 0,
       "model_id": "18a87b032f334ebcad864f9fe476e956"
      }
     },
     "metadata": {},
     "output_type": "display_data"
    },
    {
     "data": {
      "text/plain": "Groundedness per statement in source:   0%|          | 0/3 [00:00<?, ?it/s]",
      "application/vnd.jupyter.widget-view+json": {
       "version_major": 2,
       "version_minor": 0,
       "model_id": "7b236cd467b04f6d8399757383aaff83"
      }
     },
     "metadata": {},
     "output_type": "display_data"
    },
    {
     "data": {
      "text/plain": "Groundedness per statement in source:   0%|          | 0/1 [00:00<?, ?it/s]",
      "application/vnd.jupyter.widget-view+json": {
       "version_major": 2,
       "version_minor": 0,
       "model_id": "69c005a5a11b4e1087f45dd9f49dd6e4"
      }
     },
     "metadata": {},
     "output_type": "display_data"
    },
    {
     "data": {
      "text/plain": "Groundedness per statement in source:   0%|          | 0/3 [00:00<?, ?it/s]",
      "application/vnd.jupyter.widget-view+json": {
       "version_major": 2,
       "version_minor": 0,
       "model_id": "14a54d43eff84a578a38450f463b8129"
      }
     },
     "metadata": {},
     "output_type": "display_data"
    },
    {
     "name": "stdout",
     "output_type": "stream",
     "text": [
      "> Merging 1 nodes into parent node.\n",
      "> Parent node id: 91e7d086-1419-4a72-bda6-32ff79bc8ade.\n",
      "> Parent node text: PAGE 13Should you Learn Math to Get a Job in AI? CHAPTER 3\n",
      "Is math a foundational skill for AI? I...\n",
      "\n",
      "> Merging 2 nodes into parent node.\n",
      "> Parent node id: 93d80903-fed1-4f41-9332-dcdff4191620.\n",
      "> Parent node text: PAGE 9In the previous chapter, I introduced three key steps for building a career in AI: learning...\n",
      "\n",
      "> Merging 1 nodes into parent node.\n",
      "> Parent node id: 00fdbdf1-908b-4ecb-8ddf-7c91b000f162.\n",
      "> Parent node text: PAGE 38Before we dive into the final chapter of this book, I’d like to address the serious matter...\n",
      "\n",
      "> Merging 1 nodes into parent node.\n",
      "> Parent node id: 77211327-cf8b-4e0a-afbb-137e0449d01a.\n",
      "> Parent node text: PAGE 16Determine milestones. Once you’ve deemed a project sufficiently \n",
      "valuable, the next step i...\n",
      "\n",
      "> Merging 1 nodes into parent node.\n",
      "> Parent node id: 9567cbea-ec90-440d-82f3-854df3715f53.\n",
      "> Parent node text: PAGE 4Coding AI Is the New Literacy\n",
      "Today we take it for granted that many people know how to rea...\n",
      "\n",
      "> Merging 1 nodes into parent node.\n",
      "> Parent node id: dc99ed01-ccb7-4704-9411-197e3a311e8c.\n",
      "> Parent node text: PAGE 10This is a lot to learn!\n",
      "Even after you master everything on this list, I hope you’ll keep ...\n",
      "\n",
      "> Merging 1 nodes into parent node.\n",
      "> Parent node id: 920582e3-3c21-4694-8f6b-65c02d41872f.\n",
      "> Parent node text: PAGE 18It goes without saying that we should only work on projects that are responsible, ethical,...\n",
      "\n",
      "> Merging 1 nodes into parent node.\n",
      "> Parent node id: ed834e9d-b0ec-4584-9117-ddb6b23fe8ab.\n",
      "> Parent node text: PAGE 23Each project is only one step on a longer journey, hopefully one that has a positive impac...\n",
      "\n",
      "> Merging 1 nodes into parent node.\n",
      "> Parent node id: 5919d075-ea12-4c6c-9f52-fb9ea8cc9dc9.\n",
      "> Parent node text: PAGE 15One of the most important skills of an AI architect is the ability to identify ideas that ...\n",
      "\n",
      "> Merging 1 nodes into parent node.\n",
      "> Parent node id: 6889ff80-066c-4b34-bf1a-4a5eb6f96b6c.\n",
      "> Parent node text: PAGE 22Over the course of a career, you’re likely to work on projects in succession, each growing...\n",
      "\n",
      "> Merging 1 nodes into parent node.\n",
      "> Parent node id: 70790397-3e94-480c-8a55-77ab63d9a5d5.\n",
      "> Parent node text: PAGE 7These phases apply in a wide \n",
      "range of professions, but AI \n",
      "involves unique elements.\n",
      "For e...\n"
     ]
    },
    {
     "data": {
      "text/plain": "Groundedness per statement in source:   0%|          | 0/3 [00:00<?, ?it/s]",
      "application/vnd.jupyter.widget-view+json": {
       "version_major": 2,
       "version_minor": 0,
       "model_id": "0cc9c1f476244f2ea0715755b2d9a68d"
      }
     },
     "metadata": {},
     "output_type": "display_data"
    },
    {
     "name": "stderr",
     "output_type": "stream",
     "text": [
      "Feedback Function exception caught: Traceback (most recent call last):\n",
      "  File \"C:\\Users\\wongs\\Desktop\\Project-Deep Learning\\Codes\\.venv\\Lib\\site-packages\\trulens_eval\\feedback\\feedback.py\", line 854, in run\n",
      "    result_and_meta, part_cost = Endpoint.track_all_costs_tally(\n",
      "                                 ^^^^^^^^^^^^^^^^^^^^^^^^^^^^^^^\n",
      "  File \"C:\\Users\\wongs\\Desktop\\Project-Deep Learning\\Codes\\.venv\\Lib\\site-packages\\trulens_eval\\feedback\\provider\\endpoint\\base.py\", line 496, in track_all_costs_tally\n",
      "    result, cbs = Endpoint.track_all_costs(\n",
      "                  ^^^^^^^^^^^^^^^^^^^^^^^^^\n",
      "  File \"C:\\Users\\wongs\\Desktop\\Project-Deep Learning\\Codes\\.venv\\Lib\\site-packages\\trulens_eval\\feedback\\provider\\endpoint\\base.py\", line 477, in track_all_costs\n",
      "    return Endpoint._track_costs(\n",
      "           ^^^^^^^^^^^^^^^^^^^^^^\n",
      "  File \"C:\\Users\\wongs\\Desktop\\Project-Deep Learning\\Codes\\.venv\\Lib\\site-packages\\trulens_eval\\feedback\\provider\\endpoint\\base.py\", line 574, in _track_costs\n",
      "    result: T = __func(*args, **kwargs)\n",
      "                ^^^^^^^^^^^^^^^^^^^^^^^\n",
      "  File \"C:\\Users\\wongs\\Desktop\\Project-Deep Learning\\Codes\\.venv\\Lib\\site-packages\\trulens_eval\\feedback\\provider\\base.py\", line 405, in qs_relevance_with_cot_reasons\n",
      "    return self.context_relevance_with_cot_reasons(question, context)\n",
      "           ^^^^^^^^^^^^^^^^^^^^^^^^^^^^^^^^^^^^^^^^^^^^^^^^^^^^^^^^^^\n",
      "  File \"C:\\Users\\wongs\\Desktop\\Project-Deep Learning\\Codes\\.venv\\Lib\\site-packages\\trulens_eval\\feedback\\provider\\base.py\", line 391, in context_relevance_with_cot_reasons\n",
      "    return self.generate_score_and_reasons(system_prompt, user_prompt)\n",
      "           ^^^^^^^^^^^^^^^^^^^^^^^^^^^^^^^^^^^^^^^^^^^^^^^^^^^^^^^^^^^\n",
      "  File \"C:\\Users\\wongs\\Desktop\\Project-Deep Learning\\Codes\\.venv\\Lib\\site-packages\\trulens_eval\\feedback\\provider\\base.py\", line 253, in generate_score_and_reasons\n",
      "    score = re_0_10_rating(line) / normalize\n",
      "            ^^^^^^^^^^^^^^^^^^^^\n",
      "  File \"C:\\Users\\wongs\\Desktop\\Project-Deep Learning\\Codes\\.venv\\Lib\\site-packages\\trulens_eval\\utils\\generated.py\", line 70, in re_0_10_rating\n",
      "    raise ParseError(\"int or float number\", s, pattern=PATTERN_INTEGER)\n",
      "trulens_eval.utils.generated.ParseError: Tried to find int or float number using pattern ([+-]?[1-9][0-9]*|0) in\n",
      "  Score: \n",
      "\n",
      "The above exception was the direct cause of the following exception:\n",
      "\n",
      "Traceback (most recent call last):\n",
      "  File \"C:\\Users\\wongs\\Desktop\\Project-Deep Learning\\Codes\\.venv\\Lib\\site-packages\\trulens_eval\\feedback\\feedback.py\", line 860, in run\n",
      "    raise RuntimeError(\n",
      "RuntimeError: Evaluation of Context Relevance failed on inputs: \n",
      "{'context': 'PAGE 3Table of \\n'\n",
      "            'ContentsIntroduction: Coding AI is the New Literacy.\\n'\n",
      "            'Chapter 1: Thr.\n",
      "\n"
     ]
    },
    {
     "data": {
      "text/plain": "Groundedness per statement in source:   0%|          | 0/6 [00:00<?, ?it/s]",
      "application/vnd.jupyter.widget-view+json": {
       "version_major": 2,
       "version_minor": 0,
       "model_id": "254336bc3ae2461caeb7f97908b88947"
      }
     },
     "metadata": {},
     "output_type": "display_data"
    },
    {
     "data": {
      "text/plain": "Groundedness per statement in source:   0%|          | 0/1 [00:00<?, ?it/s]",
      "application/vnd.jupyter.widget-view+json": {
       "version_major": 2,
       "version_minor": 0,
       "model_id": "965138143eb541f2aa8b5d4c72eda6ac"
      }
     },
     "metadata": {},
     "output_type": "display_data"
    },
    {
     "data": {
      "text/plain": "Groundedness per statement in source:   0%|          | 0/3 [00:00<?, ?it/s]",
      "application/vnd.jupyter.widget-view+json": {
       "version_major": 2,
       "version_minor": 0,
       "model_id": "0243b1db77a148ff8c8b487c9a34fdbf"
      }
     },
     "metadata": {},
     "output_type": "display_data"
    },
    {
     "name": "stdout",
     "output_type": "stream",
     "text": [
      "> Merging 1 nodes into parent node.\n",
      "> Parent node id: 5919d075-ea12-4c6c-9f52-fb9ea8cc9dc9.\n",
      "> Parent node text: PAGE 15One of the most important skills of an AI architect is the ability to identify ideas that ...\n",
      "\n",
      "> Merging 1 nodes into parent node.\n",
      "> Parent node id: 920582e3-3c21-4694-8f6b-65c02d41872f.\n",
      "> Parent node text: PAGE 18It goes without saying that we should only work on projects that are responsible, ethical,...\n",
      "\n",
      "> Merging 1 nodes into parent node.\n",
      "> Parent node id: 77211327-cf8b-4e0a-afbb-137e0449d01a.\n",
      "> Parent node text: PAGE 16Determine milestones. Once you’ve deemed a project sufficiently \n",
      "valuable, the next step i...\n",
      "\n",
      "> Merging 1 nodes into parent node.\n",
      "> Parent node id: 6889ff80-066c-4b34-bf1a-4a5eb6f96b6c.\n",
      "> Parent node text: PAGE 22Over the course of a career, you’re likely to work on projects in succession, each growing...\n",
      "\n",
      "> Merging 1 nodes into parent node.\n",
      "> Parent node id: 61726d41-2764-482a-9c42-a0d4dd817dc1.\n",
      "> Parent node text: PAGE 14Scoping Successful \n",
      "AI ProjectsCHAPTER 4\n",
      "PROJECTS\n",
      "\n",
      "> Merging 1 nodes into parent node.\n",
      "> Parent node id: 255042ce-10c0-46aa-ac01-9f7f961785df.\n",
      "> Parent node text: PAGE 5Three Steps to \n",
      "Career GrowthCHAPTER 1\n",
      "\n",
      "> Merging 1 nodes into parent node.\n",
      "> Parent node id: 114e85b7-08a1-4b90-9a04-d61ba5367919.\n",
      "> Parent node text: PAGE 17Finding Projects that \n",
      "Complement Your \n",
      "Career GoalsCHAPTER 5\n",
      "PROJECTS\n",
      "\n",
      "> Merging 1 nodes into parent node.\n",
      "> Parent node id: b0a2bcde-4adc-43a6-8101-fa0f293729a1.\n",
      "> Parent node text: PAGE 3Table of \n",
      "ContentsIntroduction: Coding AI is the New Literacy.\n",
      "Chapter 1: Three Steps to Ca...\n",
      "\n",
      "> Merging 1 nodes into parent node.\n",
      "> Parent node id: ed834e9d-b0ec-4584-9117-ddb6b23fe8ab.\n",
      "> Parent node text: PAGE 23Each project is only one step on a longer journey, hopefully one that has a positive impac...\n",
      "\n",
      "> Merging 1 nodes into parent node.\n",
      "> Parent node id: 295c5d00-b3e5-44df-94ac-3f724cc83c03.\n",
      "> Parent node text: PAGE 19Develop a side hustle. Even if you have a full-time job, a fun project that may or may not...\n",
      "\n",
      "> Merging 1 nodes into parent node.\n",
      "> Parent node id: 70790397-3e94-480c-8a55-77ab63d9a5d5.\n",
      "> Parent node text: PAGE 7These phases apply in a wide \n",
      "range of professions, but AI \n",
      "involves unique elements.\n",
      "For e...\n",
      "\n",
      "> Merging 1 nodes into parent node.\n",
      "> Parent node id: 0dfd5b04-c43d-4777-8fb2-57aaf66ad21d.\n",
      "> Parent node text: PAGE 21Building a Portfolio of \n",
      "Projects that Shows \n",
      "Skill Progression CHAPTER 6\n",
      "PROJECTS\n"
     ]
    },
    {
     "data": {
      "text/plain": "Groundedness per statement in source:   0%|          | 0/4 [00:00<?, ?it/s]",
      "application/vnd.jupyter.widget-view+json": {
       "version_major": 2,
       "version_minor": 0,
       "model_id": "e29f49d3ef724b448e61fd7d433457f5"
      }
     },
     "metadata": {},
     "output_type": "display_data"
    },
    {
     "data": {
      "text/plain": "Groundedness per statement in source:   0%|          | 0/3 [00:00<?, ?it/s]",
      "application/vnd.jupyter.widget-view+json": {
       "version_major": 2,
       "version_minor": 0,
       "model_id": "c3f8de11f0b049a7bc34d181300f51af"
      }
     },
     "metadata": {},
     "output_type": "display_data"
    },
    {
     "data": {
      "text/plain": "Groundedness per statement in source:   0%|          | 0/3 [00:00<?, ?it/s]",
      "application/vnd.jupyter.widget-view+json": {
       "version_major": 2,
       "version_minor": 0,
       "model_id": "59a3807bdd3c43c7b9085a3f04241aa0"
      }
     },
     "metadata": {},
     "output_type": "display_data"
    },
    {
     "data": {
      "text/plain": "Groundedness per statement in source:   0%|          | 0/3 [00:00<?, ?it/s]",
      "application/vnd.jupyter.widget-view+json": {
       "version_major": 2,
       "version_minor": 0,
       "model_id": "b6732f20a43b4747914a92000588af60"
      }
     },
     "metadata": {},
     "output_type": "display_data"
    },
    {
     "data": {
      "text/plain": "Groundedness per statement in source:   0%|          | 0/3 [00:00<?, ?it/s]",
      "application/vnd.jupyter.widget-view+json": {
       "version_major": 2,
       "version_minor": 0,
       "model_id": "5546cd8ef330478ab41533c288848827"
      }
     },
     "metadata": {},
     "output_type": "display_data"
    },
    {
     "data": {
      "text/plain": "Groundedness per statement in source:   0%|          | 0/13 [00:00<?, ?it/s]",
      "application/vnd.jupyter.widget-view+json": {
       "version_major": 2,
       "version_minor": 0,
       "model_id": "e6cb8c7a9ac049d8849474e8d5d5a251"
      }
     },
     "metadata": {},
     "output_type": "display_data"
    },
    {
     "data": {
      "text/plain": "Groundedness per statement in source:   0%|          | 0/4 [00:00<?, ?it/s]",
      "application/vnd.jupyter.widget-view+json": {
       "version_major": 2,
       "version_minor": 0,
       "model_id": "8e294544505f43098fbad98ffa0d7457"
      }
     },
     "metadata": {},
     "output_type": "display_data"
    },
    {
     "data": {
      "text/plain": "Groundedness per statement in source:   0%|          | 0/3 [00:00<?, ?it/s]",
      "application/vnd.jupyter.widget-view+json": {
       "version_major": 2,
       "version_minor": 0,
       "model_id": "2cee8c3cd4ee40929c1b1eba81a34e7b"
      }
     },
     "metadata": {},
     "output_type": "display_data"
    },
    {
     "data": {
      "text/plain": "Groundedness per statement in source:   0%|          | 0/6 [00:00<?, ?it/s]",
      "application/vnd.jupyter.widget-view+json": {
       "version_major": 2,
       "version_minor": 0,
       "model_id": "a60272c2d920400f9d188cf8f6e2a146"
      }
     },
     "metadata": {},
     "output_type": "display_data"
    },
    {
     "name": "stdout",
     "output_type": "stream",
     "text": [
      "> Merging 1 nodes into parent node.\n",
      "> Parent node id: 920582e3-3c21-4694-8f6b-65c02d41872f.\n",
      "> Parent node text: PAGE 18It goes without saying that we should only work on projects that are responsible, ethical,...\n",
      "\n",
      "> Merging 1 nodes into parent node.\n",
      "> Parent node id: 77211327-cf8b-4e0a-afbb-137e0449d01a.\n",
      "> Parent node text: PAGE 16Determine milestones. Once you’ve deemed a project sufficiently \n",
      "valuable, the next step i...\n",
      "\n",
      "> Merging 1 nodes into parent node.\n",
      "> Parent node id: 6889ff80-066c-4b34-bf1a-4a5eb6f96b6c.\n",
      "> Parent node text: PAGE 22Over the course of a career, you’re likely to work on projects in succession, each growing...\n",
      "\n",
      "> Merging 1 nodes into parent node.\n",
      "> Parent node id: b0a2bcde-4adc-43a6-8101-fa0f293729a1.\n",
      "> Parent node text: PAGE 3Table of \n",
      "ContentsIntroduction: Coding AI is the New Literacy.\n",
      "Chapter 1: Three Steps to Ca...\n",
      "\n",
      "> Merging 1 nodes into parent node.\n",
      "> Parent node id: 70790397-3e94-480c-8a55-77ab63d9a5d5.\n",
      "> Parent node text: PAGE 7These phases apply in a wide \n",
      "range of professions, but AI \n",
      "involves unique elements.\n",
      "For e...\n",
      "\n",
      "> Merging 1 nodes into parent node.\n",
      "> Parent node id: c04d8115-9808-4c2f-9a36-ea1503b37f2a.\n",
      "> Parent node text: PAGE 6The rapid rise of AI has led to a rapid rise in AI jobs, and many people are building excit...\n",
      "\n",
      "> Merging 1 nodes into parent node.\n",
      "> Parent node id: 5919d075-ea12-4c6c-9f52-fb9ea8cc9dc9.\n",
      "> Parent node text: PAGE 15One of the most important skills of an AI architect is the ability to identify ideas that ...\n",
      "\n",
      "> Merging 1 nodes into parent node.\n",
      "> Parent node id: ed834e9d-b0ec-4584-9117-ddb6b23fe8ab.\n",
      "> Parent node text: PAGE 23Each project is only one step on a longer journey, hopefully one that has a positive impac...\n",
      "\n",
      "> Merging 1 nodes into parent node.\n",
      "> Parent node id: 295c5d00-b3e5-44df-94ac-3f724cc83c03.\n",
      "> Parent node text: PAGE 19Develop a side hustle. Even if you have a full-time job, a fun project that may or may not...\n",
      "\n",
      "> Merging 1 nodes into parent node.\n",
      "> Parent node id: 114e85b7-08a1-4b90-9a04-d61ba5367919.\n",
      "> Parent node text: PAGE 17Finding Projects that \n",
      "Complement Your \n",
      "Career GoalsCHAPTER 5\n",
      "PROJECTS\n",
      "\n",
      "> Merging 1 nodes into parent node.\n",
      "> Parent node id: aaafc4aa-cfc9-4b78-8459-5699899034c0.\n",
      "> Parent node text: PAGE 36Keys to Building a Career in AI CHAPTER 10\n",
      "Of all the steps in building a career, this \n",
      "on...\n",
      "\n",
      "> Merging 1 nodes into parent node.\n",
      "> Parent node id: 729162bf-8857-4939-ac3b-316c1848e40c.\n",
      "> Parent node text: PAGE 35Keys to Building a Career in AI CHAPTER 10\n",
      "The path to career success in AI is more comple...\n"
     ]
    },
    {
     "data": {
      "text/plain": "Groundedness per statement in source:   0%|          | 0/4 [00:00<?, ?it/s]",
      "application/vnd.jupyter.widget-view+json": {
       "version_major": 2,
       "version_minor": 0,
       "model_id": "639db033e009499b8b8a08dc04e625d6"
      }
     },
     "metadata": {},
     "output_type": "display_data"
    },
    {
     "name": "stdout",
     "output_type": "stream",
     "text": [
      "> Merging 1 nodes into parent node.\n",
      "> Parent node id: 77211327-cf8b-4e0a-afbb-137e0449d01a.\n",
      "> Parent node text: PAGE 16Determine milestones. Once you’ve deemed a project sufficiently \n",
      "valuable, the next step i...\n",
      "\n",
      "> Merging 1 nodes into parent node.\n",
      "> Parent node id: 5919d075-ea12-4c6c-9f52-fb9ea8cc9dc9.\n",
      "> Parent node text: PAGE 15One of the most important skills of an AI architect is the ability to identify ideas that ...\n",
      "\n",
      "> Merging 1 nodes into parent node.\n",
      "> Parent node id: 920582e3-3c21-4694-8f6b-65c02d41872f.\n",
      "> Parent node text: PAGE 18It goes without saying that we should only work on projects that are responsible, ethical,...\n",
      "\n",
      "> Merging 1 nodes into parent node.\n",
      "> Parent node id: ed834e9d-b0ec-4584-9117-ddb6b23fe8ab.\n",
      "> Parent node text: PAGE 23Each project is only one step on a longer journey, hopefully one that has a positive impac...\n",
      "\n",
      "> Merging 1 nodes into parent node.\n",
      "> Parent node id: 6889ff80-066c-4b34-bf1a-4a5eb6f96b6c.\n",
      "> Parent node text: PAGE 22Over the course of a career, you’re likely to work on projects in succession, each growing...\n",
      "\n",
      "> Merging 1 nodes into parent node.\n",
      "> Parent node id: 91e7d086-1419-4a72-bda6-32ff79bc8ade.\n",
      "> Parent node text: PAGE 13Should you Learn Math to Get a Job in AI? CHAPTER 3\n",
      "Is math a foundational skill for AI? I...\n",
      "\n",
      "> Merging 1 nodes into parent node.\n",
      "> Parent node id: b0a2bcde-4adc-43a6-8101-fa0f293729a1.\n",
      "> Parent node text: PAGE 3Table of \n",
      "ContentsIntroduction: Coding AI is the New Literacy.\n",
      "Chapter 1: Three Steps to Ca...\n",
      "\n",
      "> Merging 1 nodes into parent node.\n",
      "> Parent node id: 295c5d00-b3e5-44df-94ac-3f724cc83c03.\n",
      "> Parent node text: PAGE 19Develop a side hustle. Even if you have a full-time job, a fun project that may or may not...\n",
      "\n",
      "> Merging 1 nodes into parent node.\n",
      "> Parent node id: 114e85b7-08a1-4b90-9a04-d61ba5367919.\n",
      "> Parent node text: PAGE 17Finding Projects that \n",
      "Complement Your \n",
      "Career GoalsCHAPTER 5\n",
      "PROJECTS\n",
      "\n",
      "> Merging 1 nodes into parent node.\n",
      "> Parent node id: 70790397-3e94-480c-8a55-77ab63d9a5d5.\n",
      "> Parent node text: PAGE 7These phases apply in a wide \n",
      "range of professions, but AI \n",
      "involves unique elements.\n",
      "For e...\n"
     ]
    },
    {
     "data": {
      "text/plain": "Groundedness per statement in source:   0%|          | 0/3 [00:00<?, ?it/s]",
      "application/vnd.jupyter.widget-view+json": {
       "version_major": 2,
       "version_minor": 0,
       "model_id": "87b20a5c69664df1a3524683477ea155"
      }
     },
     "metadata": {},
     "output_type": "display_data"
    },
    {
     "data": {
      "text/plain": "Groundedness per statement in source:   0%|          | 0/3 [00:00<?, ?it/s]",
      "application/vnd.jupyter.widget-view+json": {
       "version_major": 2,
       "version_minor": 0,
       "model_id": "a7bfd805f56d4bd4a7cd011278be418c"
      }
     },
     "metadata": {},
     "output_type": "display_data"
    },
    {
     "data": {
      "text/plain": "Groundedness per statement in source:   0%|          | 0/4 [00:00<?, ?it/s]",
      "application/vnd.jupyter.widget-view+json": {
       "version_major": 2,
       "version_minor": 0,
       "model_id": "f38dce59e50c46198609387edeb0a4f2"
      }
     },
     "metadata": {},
     "output_type": "display_data"
    },
    {
     "name": "stdout",
     "output_type": "stream",
     "text": [
      "> Merging 1 nodes into parent node.\n",
      "> Parent node id: 9567cbea-ec90-440d-82f3-854df3715f53.\n",
      "> Parent node text: PAGE 4Coding AI Is the New Literacy\n",
      "Today we take it for granted that many people know how to rea...\n",
      "\n",
      "> Merging 1 nodes into parent node.\n",
      "> Parent node id: b0a2bcde-4adc-43a6-8101-fa0f293729a1.\n",
      "> Parent node text: PAGE 3Table of \n",
      "ContentsIntroduction: Coding AI is the New Literacy.\n",
      "Chapter 1: Three Steps to Ca...\n",
      "\n",
      "> Merging 1 nodes into parent node.\n",
      "> Parent node id: 91e7d086-1419-4a72-bda6-32ff79bc8ade.\n",
      "> Parent node text: PAGE 13Should you Learn Math to Get a Job in AI? CHAPTER 3\n",
      "Is math a foundational skill for AI? I...\n",
      "\n",
      "> Merging 1 nodes into parent node.\n",
      "> Parent node id: 920582e3-3c21-4694-8f6b-65c02d41872f.\n",
      "> Parent node text: PAGE 18It goes without saying that we should only work on projects that are responsible, ethical,...\n",
      "\n",
      "> Merging 1 nodes into parent node.\n",
      "> Parent node id: 336bafd5-388b-4e86-8f14-61c52792ac09.\n",
      "> Parent node text: PAGE 12Should You \n",
      "Learn Math to \n",
      "Get a Job in AI? CHAPTER 3\n",
      "LEARNING\n",
      "\n",
      "> Merging 1 nodes into parent node.\n",
      "> Parent node id: 00fdbdf1-908b-4ecb-8ddf-7c91b000f162.\n",
      "> Parent node text: PAGE 38Before we dive into the final chapter of this book, I’d like to address the serious matter...\n",
      "\n",
      "> Merging 1 nodes into parent node.\n",
      "> Parent node id: 0adcc885-dc98-41a4-84fe-d969e397004c.\n",
      "> Parent node text: PAGE 39My three-year-old daughter (who can barely count to 12) regularly tries to teach things to...\n",
      "\n",
      "> Merging 1 nodes into parent node.\n",
      "> Parent node id: b3b9d752-6c0f-460e-a8f9-2db4f2c6a44a.\n",
      "> Parent node text: PAGE 2\"AI is the new \n",
      "electricity. It will \n",
      "transform and improve \n",
      "all areas of human life.\"\n",
      "Andr...\n",
      "\n",
      "> Merging 1 nodes into parent node.\n",
      "> Parent node id: dc99ed01-ccb7-4704-9411-197e3a311e8c.\n",
      "> Parent node text: PAGE 10This is a lot to learn!\n",
      "Even after you master everything on this list, I hope you’ll keep ...\n",
      "\n",
      "> Merging 1 nodes into parent node.\n",
      "> Parent node id: 8a6d39ed-56d5-4be8-91dc-567ce7145d5a.\n",
      "> Parent node text: PAGE 8Learning Technical \n",
      "Skills for a Promising \n",
      "AI CareerCHAPTER 2\n",
      "LEARNING\n"
     ]
    },
    {
     "data": {
      "text/plain": "Groundedness per statement in source:   0%|          | 0/3 [00:00<?, ?it/s]",
      "application/vnd.jupyter.widget-view+json": {
       "version_major": 2,
       "version_minor": 0,
       "model_id": "ca28ca6e974d46e698654ce684a5df9b"
      }
     },
     "metadata": {},
     "output_type": "display_data"
    },
    {
     "data": {
      "text/plain": "Groundedness per statement in source:   0%|          | 0/4 [00:00<?, ?it/s]",
      "application/vnd.jupyter.widget-view+json": {
       "version_major": 2,
       "version_minor": 0,
       "model_id": "aa297390a6404ff282c0f780a2378379"
      }
     },
     "metadata": {},
     "output_type": "display_data"
    },
    {
     "data": {
      "text/plain": "Groundedness per statement in source:   0%|          | 0/3 [00:00<?, ?it/s]",
      "application/vnd.jupyter.widget-view+json": {
       "version_major": 2,
       "version_minor": 0,
       "model_id": "45f9450d225241bcbdc9e75e0b346557"
      }
     },
     "metadata": {},
     "output_type": "display_data"
    },
    {
     "data": {
      "text/plain": "Groundedness per statement in source:   0%|          | 0/3 [00:00<?, ?it/s]",
      "application/vnd.jupyter.widget-view+json": {
       "version_major": 2,
       "version_minor": 0,
       "model_id": "a48c1d66d7f64fa3808aa01dc31ff1f7"
      }
     },
     "metadata": {},
     "output_type": "display_data"
    },
    {
     "data": {
      "text/plain": "Groundedness per statement in source:   0%|          | 0/6 [00:00<?, ?it/s]",
      "application/vnd.jupyter.widget-view+json": {
       "version_major": 2,
       "version_minor": 0,
       "model_id": "33e9a0d8e1574b26b93a02462a194a27"
      }
     },
     "metadata": {},
     "output_type": "display_data"
    },
    {
     "data": {
      "text/plain": "Groundedness per statement in source:   0%|          | 0/6 [00:00<?, ?it/s]",
      "application/vnd.jupyter.widget-view+json": {
       "version_major": 2,
       "version_minor": 0,
       "model_id": "58716fe2de674f8399e32c4271ab6f18"
      }
     },
     "metadata": {},
     "output_type": "display_data"
    },
    {
     "data": {
      "text/plain": "Groundedness per statement in source:   0%|          | 0/4 [00:00<?, ?it/s]",
      "application/vnd.jupyter.widget-view+json": {
       "version_major": 2,
       "version_minor": 0,
       "model_id": "b1c2421ba7934191b2f711b68fafc581"
      }
     },
     "metadata": {},
     "output_type": "display_data"
    },
    {
     "data": {
      "text/plain": "Groundedness per statement in source:   0%|          | 0/3 [00:00<?, ?it/s]",
      "application/vnd.jupyter.widget-view+json": {
       "version_major": 2,
       "version_minor": 0,
       "model_id": "b53fc5db6fa04d2480da747175dafbb0"
      }
     },
     "metadata": {},
     "output_type": "display_data"
    },
    {
     "name": "stdout",
     "output_type": "stream",
     "text": [
      "> Merging 1 nodes into parent node.\n",
      "> Parent node id: c04d8115-9808-4c2f-9a36-ea1503b37f2a.\n",
      "> Parent node text: PAGE 6The rapid rise of AI has led to a rapid rise in AI jobs, and many people are building excit...\n",
      "\n",
      "> Merging 1 nodes into parent node.\n",
      "> Parent node id: b0a2bcde-4adc-43a6-8101-fa0f293729a1.\n",
      "> Parent node text: PAGE 3Table of \n",
      "ContentsIntroduction: Coding AI is the New Literacy.\n",
      "Chapter 1: Three Steps to Ca...\n",
      "\n",
      "> Merging 1 nodes into parent node.\n",
      "> Parent node id: 70790397-3e94-480c-8a55-77ab63d9a5d5.\n",
      "> Parent node text: PAGE 7These phases apply in a wide \n",
      "range of professions, but AI \n",
      "involves unique elements.\n",
      "For e...\n",
      "\n",
      "> Merging 1 nodes into parent node.\n",
      "> Parent node id: aaafc4aa-cfc9-4b78-8459-5699899034c0.\n",
      "> Parent node text: PAGE 36Keys to Building a Career in AI CHAPTER 10\n",
      "Of all the steps in building a career, this \n",
      "on...\n",
      "\n",
      "> Merging 1 nodes into parent node.\n",
      "> Parent node id: 920582e3-3c21-4694-8f6b-65c02d41872f.\n",
      "> Parent node text: PAGE 18It goes without saying that we should only work on projects that are responsible, ethical,...\n",
      "\n",
      "> Merging 1 nodes into parent node.\n",
      "> Parent node id: 336bafd5-388b-4e86-8f14-61c52792ac09.\n",
      "> Parent node text: PAGE 12Should You \n",
      "Learn Math to \n",
      "Get a Job in AI? CHAPTER 3\n",
      "LEARNING\n",
      "\n",
      "> Merging 1 nodes into parent node.\n",
      "> Parent node id: 255042ce-10c0-46aa-ac01-9f7f961785df.\n",
      "> Parent node text: PAGE 5Three Steps to \n",
      "Career GrowthCHAPTER 1\n",
      "\n",
      "> Merging 1 nodes into parent node.\n",
      "> Parent node id: 6889ff80-066c-4b34-bf1a-4a5eb6f96b6c.\n",
      "> Parent node text: PAGE 22Over the course of a career, you’re likely to work on projects in succession, each growing...\n",
      "\n",
      "> Merging 1 nodes into parent node.\n",
      "> Parent node id: 729162bf-8857-4939-ac3b-316c1848e40c.\n",
      "> Parent node text: PAGE 35Keys to Building a Career in AI CHAPTER 10\n",
      "The path to career success in AI is more comple...\n",
      "\n",
      "> Merging 1 nodes into parent node.\n",
      "> Parent node id: ed834e9d-b0ec-4584-9117-ddb6b23fe8ab.\n",
      "> Parent node text: PAGE 23Each project is only one step on a longer journey, hopefully one that has a positive impac...\n",
      "\n",
      "> Merging 1 nodes into parent node.\n",
      "> Parent node id: 5919d075-ea12-4c6c-9f52-fb9ea8cc9dc9.\n",
      "> Parent node text: PAGE 15One of the most important skills of an AI architect is the ability to identify ideas that ...\n"
     ]
    },
    {
     "data": {
      "text/plain": "Groundedness per statement in source:   0%|          | 0/4 [00:00<?, ?it/s]",
      "application/vnd.jupyter.widget-view+json": {
       "version_major": 2,
       "version_minor": 0,
       "model_id": "36e96df34d234b50a11051a1b8a61562"
      }
     },
     "metadata": {},
     "output_type": "display_data"
    }
   ],
   "source": [
    "run_evals(eval_questions=eval_questions, tru_recorder=tru_recorder_0, query_engine=auto_merging_engine_0)"
   ],
   "metadata": {
    "collapsed": false,
    "ExecuteTime": {
     "end_time": "2024-04-14T06:35:57.747911Z",
     "start_time": "2024-04-14T06:28:44.308978Z"
    }
   },
   "id": "25b1178ef0eec425",
   "execution_count": 19
  },
  {
   "cell_type": "code",
   "outputs": [
    {
     "data": {
      "text/plain": "Groundedness per statement in source:   0%|          | 0/4 [00:00<?, ?it/s]",
      "application/vnd.jupyter.widget-view+json": {
       "version_major": 2,
       "version_minor": 0,
       "model_id": "478d81be10eb4a6895f7f5527fb93c1f"
      }
     },
     "metadata": {},
     "output_type": "display_data"
    },
    {
     "data": {
      "text/plain": "Groundedness per statement in source:   0%|          | 0/3 [00:00<?, ?it/s]",
      "application/vnd.jupyter.widget-view+json": {
       "version_major": 2,
       "version_minor": 0,
       "model_id": "2a51126fcb8445de81d819197b2cfc0f"
      }
     },
     "metadata": {},
     "output_type": "display_data"
    }
   ],
   "source": [
    "auto_merging_index_1= build_automerging_index(documents,\n",
    "                                               llm=OpenAI(model=\"gpt-3.5-turbo\", temperature=0.1),\n",
    "                                               save_dir=\"./merging_index_1\",\n",
    "                                               chunk_sizes=[2048, 512, 128])\n",
    "auto_merging_engine_1 = get_automerging_query_engine(auto_merging_index_1, \n",
    "                                                     similarity_top_k=12,\n",
    "                                                     rerank_top_n=6)\n",
    "tru_recorder = get_prebuilt_trulens_recorder(auto_merging_engine_1, app_id=\"3_layers\")\n"
   ],
   "metadata": {
    "collapsed": false,
    "ExecuteTime": {
     "end_time": "2024-04-14T06:36:15.478639Z",
     "start_time": "2024-04-14T06:35:57.748916Z"
    }
   },
   "id": "f31e1351bf105d6e",
   "execution_count": 20
  },
  {
   "cell_type": "code",
   "outputs": [
    {
     "name": "stdout",
     "output_type": "stream",
     "text": [
      "> Merging 3 nodes into parent node.\n",
      "> Parent node id: 3174583f-eefe-4c44-a2cb-a3b183ccf7cf.\n",
      "> Parent node text: PAGE 26If you’re considering a role switch, a startup can be an easier place to do it than a big ...\n",
      "\n",
      "> Merging 5 nodes into parent node.\n",
      "> Parent node id: 3d36dbd1-d247-4813-aeba-d518f2d8790c.\n",
      "> Parent node text: PAGE 25Finding a job has a few predictable steps that include selecting the companies to which yo...\n",
      "\n",
      "> Merging 1 nodes into parent node.\n",
      "> Parent node id: 2bcb49ab-2e4b-4484-823f-656a595832ba.\n",
      "> Parent node text: PAGE 26If you’re considering a role switch, a startup can be an easier place to do it than a big ...\n",
      "\n",
      "> Merging 1 nodes into parent node.\n",
      "> Parent node id: ed89706d-536d-492a-8be1-28aa5c9e1504.\n",
      "> Parent node text: PAGE 25Finding a job has a few predictable steps that include selecting the companies to which yo...\n"
     ]
    },
    {
     "data": {
      "text/plain": "Groundedness per statement in source:   0%|          | 0/3 [00:00<?, ?it/s]",
      "application/vnd.jupyter.widget-view+json": {
       "version_major": 2,
       "version_minor": 0,
       "model_id": "e4517b2c3eea41aeb9335fbba64cc1d9"
      }
     },
     "metadata": {},
     "output_type": "display_data"
    },
    {
     "data": {
      "text/plain": "Groundedness per statement in source:   0%|          | 0/4 [00:00<?, ?it/s]",
      "application/vnd.jupyter.widget-view+json": {
       "version_major": 2,
       "version_minor": 0,
       "model_id": "d9a29394accc4d69b3918b9b41844c42"
      }
     },
     "metadata": {},
     "output_type": "display_data"
    },
    {
     "data": {
      "text/plain": "Groundedness per statement in source:   0%|          | 0/4 [00:00<?, ?it/s]",
      "application/vnd.jupyter.widget-view+json": {
       "version_major": 2,
       "version_minor": 0,
       "model_id": "bdf0b24ed0454ba6b2d7b763301d0164"
      }
     },
     "metadata": {},
     "output_type": "display_data"
    },
    {
     "data": {
      "text/plain": "Groundedness per statement in source:   0%|          | 0/3 [00:00<?, ?it/s]",
      "application/vnd.jupyter.widget-view+json": {
       "version_major": 2,
       "version_minor": 0,
       "model_id": "20813738aa74483fbbd5f71a7aff6722"
      }
     },
     "metadata": {},
     "output_type": "display_data"
    },
    {
     "data": {
      "text/plain": "Groundedness per statement in source:   0%|          | 0/4 [00:00<?, ?it/s]",
      "application/vnd.jupyter.widget-view+json": {
       "version_major": 2,
       "version_minor": 0,
       "model_id": "8dc6d9b864d742b19c36868524a9a42b"
      }
     },
     "metadata": {},
     "output_type": "display_data"
    },
    {
     "data": {
      "text/plain": "Groundedness per statement in source:   0%|          | 0/4 [00:00<?, ?it/s]",
      "application/vnd.jupyter.widget-view+json": {
       "version_major": 2,
       "version_minor": 0,
       "model_id": "cf5c9498e0a344c9b46cb0012442fc9e"
      }
     },
     "metadata": {},
     "output_type": "display_data"
    },
    {
     "data": {
      "text/plain": "Groundedness per statement in source:   0%|          | 0/6 [00:00<?, ?it/s]",
      "application/vnd.jupyter.widget-view+json": {
       "version_major": 2,
       "version_minor": 0,
       "model_id": "212f50fc63fe41f782ea40d75c8d4174"
      }
     },
     "metadata": {},
     "output_type": "display_data"
    },
    {
     "name": "stdout",
     "output_type": "stream",
     "text": [
      "> Merging 5 nodes into parent node.\n",
      "> Parent node id: 32fe3ff2-5ba5-4966-9225-8b6169b51783.\n",
      "> Parent node text: PAGE 27There’s a lot we don’t know about the future: When will we cure Alzheimer’s disease? Who w...\n",
      "\n",
      "> Merging 1 nodes into parent node.\n",
      "> Parent node id: c0d0fd2c-f689-436e-b992-39021de837ce.\n",
      "> Parent node text: PAGE 27There’s a lot we don’t know about the future: When will we cure Alzheimer’s disease? Who w...\n"
     ]
    },
    {
     "data": {
      "text/plain": "Groundedness per statement in source:   0%|          | 0/6 [00:00<?, ?it/s]",
      "application/vnd.jupyter.widget-view+json": {
       "version_major": 2,
       "version_minor": 0,
       "model_id": "9c749ab3724d406bb8a3ed8724b6de44"
      }
     },
     "metadata": {},
     "output_type": "display_data"
    },
    {
     "data": {
      "text/plain": "Groundedness per statement in source:   0%|          | 0/5 [00:00<?, ?it/s]",
      "application/vnd.jupyter.widget-view+json": {
       "version_major": 2,
       "version_minor": 0,
       "model_id": "ca7c2d6583ab4a1291e7268ec837d3c3"
      }
     },
     "metadata": {},
     "output_type": "display_data"
    },
    {
     "name": "stdout",
     "output_type": "stream",
     "text": [
      "> Merging 4 nodes into parent node.\n",
      "> Parent node id: 3e163688-b23e-49f6-a933-ee08225ed6ca.\n",
      "> Parent node text: PAGE 20Working on projects requires making tough choices about what to build and how to go \n",
      "about...\n",
      "\n",
      "> Merging 2 nodes into parent node.\n",
      "> Parent node id: b34c2fe7-26a2-42ee-af24-f804589614c0.\n",
      "> Parent node text: But when committing to a direction means making a costly investment or entering a one-\n",
      "way door  ...\n",
      "\n",
      "> Merging 2 nodes into parent node.\n",
      "> Parent node id: ea4c6796-8660-432b-bc5d-32ad7c166257.\n",
      "> Parent node text: PAGE 20Working on projects requires making tough choices about what to build and how to go \n",
      "about...\n"
     ]
    },
    {
     "data": {
      "text/plain": "Groundedness per statement in source:   0%|          | 0/4 [00:00<?, ?it/s]",
      "application/vnd.jupyter.widget-view+json": {
       "version_major": 2,
       "version_minor": 0,
       "model_id": "54da375b943b46be88e5029f42adc669"
      }
     },
     "metadata": {},
     "output_type": "display_data"
    },
    {
     "data": {
      "text/plain": "Groundedness per statement in source:   0%|          | 0/4 [00:00<?, ?it/s]",
      "application/vnd.jupyter.widget-view+json": {
       "version_major": 2,
       "version_minor": 0,
       "model_id": "2877c77c38a34806b0ea1f4a7234aacf"
      }
     },
     "metadata": {},
     "output_type": "display_data"
    },
    {
     "data": {
      "text/plain": "Groundedness per statement in source:   0%|          | 0/8 [00:00<?, ?it/s]",
      "application/vnd.jupyter.widget-view+json": {
       "version_major": 2,
       "version_minor": 0,
       "model_id": "85b97d7386d4419fbe467449a18a81ca"
      }
     },
     "metadata": {},
     "output_type": "display_data"
    },
    {
     "name": "stdout",
     "output_type": "stream",
     "text": [
      "> Merging 3 nodes into parent node.\n",
      "> Parent node id: 23b5af77-3e38-4b17-bac0-35d6600e2937.\n",
      "> Parent node text: PAGE 23Each project is only one step on a longer journey, hopefully one that has a positive impac...\n",
      "\n",
      "> Merging 2 nodes into parent node.\n",
      "> Parent node id: 56fcc644-5c7f-48a5-8221-7d2b281f150f.\n",
      "> Parent node text: PAGE 6The rapid rise of AI has led to a rapid rise in AI jobs, and many people are building excit...\n",
      "\n",
      "> Merging 1 nodes into parent node.\n",
      "> Parent node id: 7ed8da95-97c6-42ad-bda9-384387f2b919.\n",
      "> Parent node text: PAGE 17Finding Projects that \n",
      "Complement Your \n",
      "Career GoalsCHAPTER 5\n",
      "PROJECTS\n",
      "\n",
      "> Merging 1 nodes into parent node.\n",
      "> Parent node id: 3512e6a9-e882-48c6-a83e-b273125d890c.\n",
      "> Parent node text: PAGE 23Each project is only one step on a longer journey, hopefully one that has a positive impac...\n",
      "\n",
      "> Merging 1 nodes into parent node.\n",
      "> Parent node id: ceaf5d22-4dd4-4399-a9dc-ba1bff09902f.\n",
      "> Parent node text: PAGE 6The rapid rise of AI has led to a rapid rise in AI jobs, and many people are building excit...\n",
      "\n",
      "> Merging 1 nodes into parent node.\n",
      "> Parent node id: b301213a-92c0-4e92-ba4e-77c26c16b119.\n",
      "> Parent node text: PAGE 17Finding Projects that \n",
      "Complement Your \n",
      "Career GoalsCHAPTER 5\n",
      "PROJECTS\n"
     ]
    },
    {
     "data": {
      "text/plain": "Groundedness per statement in source:   0%|          | 0/4 [00:00<?, ?it/s]",
      "application/vnd.jupyter.widget-view+json": {
       "version_major": 2,
       "version_minor": 0,
       "model_id": "9a496e1d2590480ebd7b6fb79f2cfd6f"
      }
     },
     "metadata": {},
     "output_type": "display_data"
    },
    {
     "data": {
      "text/plain": "Groundedness per statement in source:   0%|          | 0/13 [00:00<?, ?it/s]",
      "application/vnd.jupyter.widget-view+json": {
       "version_major": 2,
       "version_minor": 0,
       "model_id": "0cc98691be99467bb8998ef60c42dff5"
      }
     },
     "metadata": {},
     "output_type": "display_data"
    },
    {
     "data": {
      "text/plain": "Groundedness per statement in source:   0%|          | 0/4 [00:00<?, ?it/s]",
      "application/vnd.jupyter.widget-view+json": {
       "version_major": 2,
       "version_minor": 0,
       "model_id": "54d05a07e85e45dd94e47d76d8b12e88"
      }
     },
     "metadata": {},
     "output_type": "display_data"
    },
    {
     "data": {
      "text/plain": "Groundedness per statement in source:   0%|          | 0/8 [00:00<?, ?it/s]",
      "application/vnd.jupyter.widget-view+json": {
       "version_major": 2,
       "version_minor": 0,
       "model_id": "96d489c09b78490eacda49f75771933e"
      }
     },
     "metadata": {},
     "output_type": "display_data"
    },
    {
     "name": "stdout",
     "output_type": "stream",
     "text": [
      "> Merging 4 nodes into parent node.\n",
      "> Parent node id: 5f5426c3-d095-4e72-a34b-b015adba3171.\n",
      "> Parent node text: PAGE 9In the previous chapter, I introduced three key steps for building a career in AI: learning...\n",
      "\n",
      "> Merging 4 nodes into parent node.\n",
      "> Parent node id: 9ee6b2b9-c246-487e-948c-29f57200c98d.\n",
      "> Parent node text: PAGE 13Should you Learn Math to Get a Job in AI? CHAPTER 3\n",
      "Is math a foundational skill for AI? I...\n",
      "\n",
      "> Merging 1 nodes into parent node.\n",
      "> Parent node id: 71a29a74-f057-4102-a89a-25514a3921fb.\n",
      "> Parent node text: I’ve found EDA particularly \n",
      "useful in data-centric AI development, where analyzing errors and ga...\n",
      "\n",
      "> Merging 2 nodes into parent node.\n",
      "> Parent node id: c3aa5483-46a9-4a6e-921b-f1a18ea7c61f.\n",
      "> Parent node text: PAGE 9In the previous chapter, I introduced three key steps for building a career in AI: learning...\n",
      "\n",
      "> Merging 1 nodes into parent node.\n",
      "> Parent node id: 53cc3577-6bd2-4bac-8be7-01feae18d97a.\n",
      "> Parent node text: PAGE 13Should you Learn Math to Get a Job in AI? CHAPTER 3\n",
      "Is math a foundational skill for AI? I...\n"
     ]
    },
    {
     "data": {
      "text/plain": "Groundedness per statement in source:   0%|          | 0/6 [00:00<?, ?it/s]",
      "application/vnd.jupyter.widget-view+json": {
       "version_major": 2,
       "version_minor": 0,
       "model_id": "0449db04f62e41ce99666d655f5cbeec"
      }
     },
     "metadata": {},
     "output_type": "display_data"
    },
    {
     "data": {
      "text/plain": "Groundedness per statement in source:   0%|          | 0/6 [00:00<?, ?it/s]",
      "application/vnd.jupyter.widget-view+json": {
       "version_major": 2,
       "version_minor": 0,
       "model_id": "189ab67e1fb64a87a1ba38062ac6e933"
      }
     },
     "metadata": {},
     "output_type": "display_data"
    },
    {
     "data": {
      "text/plain": "Groundedness per statement in source:   0%|          | 0/6 [00:00<?, ?it/s]",
      "application/vnd.jupyter.widget-view+json": {
       "version_major": 2,
       "version_minor": 0,
       "model_id": "79fcfac64e1b4ec8911d44a8c2c0f7a0"
      }
     },
     "metadata": {},
     "output_type": "display_data"
    },
    {
     "name": "stdout",
     "output_type": "stream",
     "text": [
      "> Merging 1 nodes into parent node.\n",
      "> Parent node id: 24644193-2395-486a-a1c7-37cc8716fd6f.\n",
      "> Parent node text: PAGE 8Learning Technical \n",
      "Skills for a Promising \n",
      "AI CareerCHAPTER 2\n",
      "LEARNING\n",
      "\n",
      "> Merging 1 nodes into parent node.\n",
      "> Parent node id: 3ba9f0ae-345f-478b-97a4-a32a9bb4da0d.\n",
      "> Parent node text: PAGE 8Learning Technical \n",
      "Skills for a Promising \n",
      "AI CareerCHAPTER 2\n",
      "LEARNING\n"
     ]
    },
    {
     "data": {
      "text/plain": "Groundedness per statement in source:   0%|          | 0/4 [00:00<?, ?it/s]",
      "application/vnd.jupyter.widget-view+json": {
       "version_major": 2,
       "version_minor": 0,
       "model_id": "1df72337962f4c009cd34bd8b29a2f2f"
      }
     },
     "metadata": {},
     "output_type": "display_data"
    },
    {
     "data": {
      "text/plain": "Groundedness per statement in source:   0%|          | 0/3 [00:00<?, ?it/s]",
      "application/vnd.jupyter.widget-view+json": {
       "version_major": 2,
       "version_minor": 0,
       "model_id": "0315bd294e594c73bba8e75c9393074a"
      }
     },
     "metadata": {},
     "output_type": "display_data"
    },
    {
     "name": "stdout",
     "output_type": "stream",
     "text": [
      "> Merging 4 nodes into parent node.\n",
      "> Parent node id: 04a720a2-af92-4013-9551-99a5c456cc9e.\n",
      "> Parent node text: PAGE 29If you’re preparing to switch roles (say, taking a job as a machine learning engineer for ...\n",
      "\n",
      "> Merging 3 nodes into parent node.\n",
      "> Parent node id: 3174583f-eefe-4c44-a2cb-a3b183ccf7cf.\n",
      "> Parent node text: PAGE 26If you’re considering a role switch, a startup can be an easier place to do it than a big ...\n",
      "\n",
      "> Merging 1 nodes into parent node.\n",
      "> Parent node id: cb47fe67-d5ff-4a95-8686-56eed7aec1f8.\n",
      "> Parent node text: PAGE 29If you’re preparing to switch roles (say, taking a job as a machine learning engineer for ...\n",
      "\n",
      "> Merging 1 nodes into parent node.\n",
      "> Parent node id: 2bcb49ab-2e4b-4484-823f-656a595832ba.\n",
      "> Parent node text: PAGE 26If you’re considering a role switch, a startup can be an easier place to do it than a big ...\n"
     ]
    },
    {
     "data": {
      "text/plain": "Groundedness per statement in source:   0%|          | 0/4 [00:00<?, ?it/s]",
      "application/vnd.jupyter.widget-view+json": {
       "version_major": 2,
       "version_minor": 0,
       "model_id": "4bb319e927624a90afc406e6322d071b"
      }
     },
     "metadata": {},
     "output_type": "display_data"
    },
    {
     "data": {
      "text/plain": "Groundedness per statement in source:   0%|          | 0/5 [00:00<?, ?it/s]",
      "application/vnd.jupyter.widget-view+json": {
       "version_major": 2,
       "version_minor": 0,
       "model_id": "cb37baad91b04d8a84c5c9efb7c0e30d"
      }
     },
     "metadata": {},
     "output_type": "display_data"
    },
    {
     "data": {
      "text/plain": "Groundedness per statement in source:   0%|          | 0/4 [00:00<?, ?it/s]",
      "application/vnd.jupyter.widget-view+json": {
       "version_major": 2,
       "version_minor": 0,
       "model_id": "d158d84a8e1344f79829738dff661659"
      }
     },
     "metadata": {},
     "output_type": "display_data"
    },
    {
     "data": {
      "text/plain": "Groundedness per statement in source:   0%|          | 0/3 [00:00<?, ?it/s]",
      "application/vnd.jupyter.widget-view+json": {
       "version_major": 2,
       "version_minor": 0,
       "model_id": "84c6097fcd0b4d50a13c391c2faaa126"
      }
     },
     "metadata": {},
     "output_type": "display_data"
    },
    {
     "name": "stdout",
     "output_type": "stream",
     "text": [
      "> Merging 2 nodes into parent node.\n",
      "> Parent node id: 56fcc644-5c7f-48a5-8221-7d2b281f150f.\n",
      "> Parent node text: PAGE 6The rapid rise of AI has led to a rapid rise in AI jobs, and many people are building excit...\n",
      "\n",
      "> Merging 1 nodes into parent node.\n",
      "> Parent node id: ceaf5d22-4dd4-4399-a9dc-ba1bff09902f.\n",
      "> Parent node text: PAGE 6The rapid rise of AI has led to a rapid rise in AI jobs, and many people are building excit...\n"
     ]
    },
    {
     "data": {
      "text/plain": "Groundedness per statement in source:   0%|          | 0/4 [00:00<?, ?it/s]",
      "application/vnd.jupyter.widget-view+json": {
       "version_major": 2,
       "version_minor": 0,
       "model_id": "166e9763e4fc47acbcb721d5df567e84"
      }
     },
     "metadata": {},
     "output_type": "display_data"
    },
    {
     "data": {
      "text/plain": "Groundedness per statement in source:   0%|          | 0/2 [00:00<?, ?it/s]",
      "application/vnd.jupyter.widget-view+json": {
       "version_major": 2,
       "version_minor": 0,
       "model_id": "5bb4b10f52e84854b989d2d4070fec48"
      }
     },
     "metadata": {},
     "output_type": "display_data"
    },
    {
     "name": "stdout",
     "output_type": "stream",
     "text": [
      "> Merging 5 nodes into parent node.\n",
      "> Parent node id: 04a720a2-af92-4013-9551-99a5c456cc9e.\n",
      "> Parent node text: PAGE 29If you’re preparing to switch roles (say, taking a job as a machine learning engineer for ...\n",
      "\n",
      "> Merging 1 nodes into parent node.\n",
      "> Parent node id: cb47fe67-d5ff-4a95-8686-56eed7aec1f8.\n",
      "> Parent node text: PAGE 29If you’re preparing to switch roles (say, taking a job as a machine learning engineer for ...\n"
     ]
    },
    {
     "data": {
      "text/plain": "Groundedness per statement in source:   0%|          | 0/2 [00:00<?, ?it/s]",
      "application/vnd.jupyter.widget-view+json": {
       "version_major": 2,
       "version_minor": 0,
       "model_id": "f74364be693b499881c0269d0c2a0b78"
      }
     },
     "metadata": {},
     "output_type": "display_data"
    },
    {
     "name": "stdout",
     "output_type": "stream",
     "text": [
      "> Merging 1 nodes into parent node.\n",
      "> Parent node id: 4c63230b-7c06-47cc-aaf6-4c16663e3872.\n",
      "> Parent node text: PAGE 28Using Informational \n",
      "Interviews to Find \n",
      "the Right JobCHAPTER 8\n",
      "JOBS\n",
      "\n",
      "> Merging 1 nodes into parent node.\n",
      "> Parent node id: 08846c1f-3a49-4559-bf86-316853b71d61.\n",
      "> Parent node text: PAGE 24A Simple Framework \n",
      "for Starting Your AI \n",
      "Job SearchCHAPTER 7\n",
      "JOBS\n",
      "\n",
      "> Merging 1 nodes into parent node.\n",
      "> Parent node id: bd0b73ce-e1f7-4757-8b0d-bb6fd248e1bf.\n",
      "> Parent node text: PAGE 31Finding the Right \n",
      "AI Job for YouCHAPTER 9\n",
      "JOBS\n",
      "\n",
      "> Merging 1 nodes into parent node.\n",
      "> Parent node id: a9dd784e-0b63-4fc7-938b-1a43a224cbce.\n",
      "> Parent node text: PAGE 28Using Informational \n",
      "Interviews to Find \n",
      "the Right JobCHAPTER 8\n",
      "JOBS\n",
      "\n",
      "> Merging 1 nodes into parent node.\n",
      "> Parent node id: e2d5603b-4f1d-4561-b72a-7e9104f27fcb.\n",
      "> Parent node text: PAGE 24A Simple Framework \n",
      "for Starting Your AI \n",
      "Job SearchCHAPTER 7\n",
      "JOBS\n",
      "\n",
      "> Merging 1 nodes into parent node.\n",
      "> Parent node id: 3ff5ef3c-a4ef-4fd2-ab11-f41d0e8d9e64.\n",
      "> Parent node text: PAGE 31Finding the Right \n",
      "AI Job for YouCHAPTER 9\n",
      "JOBS\n"
     ]
    },
    {
     "data": {
      "text/plain": "Groundedness per statement in source:   0%|          | 0/3 [00:00<?, ?it/s]",
      "application/vnd.jupyter.widget-view+json": {
       "version_major": 2,
       "version_minor": 0,
       "model_id": "53fc1c0874054a6ab8aaef5074b25b55"
      }
     },
     "metadata": {},
     "output_type": "display_data"
    },
    {
     "data": {
      "text/plain": "Groundedness per statement in source:   0%|          | 0/4 [00:00<?, ?it/s]",
      "application/vnd.jupyter.widget-view+json": {
       "version_major": 2,
       "version_minor": 0,
       "model_id": "115c397eb4e846d4a6a77e9cb9d6b7dc"
      }
     },
     "metadata": {},
     "output_type": "display_data"
    },
    {
     "data": {
      "text/plain": "Groundedness per statement in source:   0%|          | 0/4 [00:00<?, ?it/s]",
      "application/vnd.jupyter.widget-view+json": {
       "version_major": 2,
       "version_minor": 0,
       "model_id": "2ec11d42b1014f4685ba0494a081e091"
      }
     },
     "metadata": {},
     "output_type": "display_data"
    },
    {
     "name": "stdout",
     "output_type": "stream",
     "text": [
      "> Merging 3 nodes into parent node.\n",
      "> Parent node id: 040640e2-802b-4b37-8e3c-e5a093b8fd0e.\n",
      "> Parent node text: PAGE 39My three-year-old daughter (who can barely count to 12) regularly tries to teach things to...\n",
      "\n",
      "> Merging 3 nodes into parent node.\n",
      "> Parent node id: f7319497-d1cc-4989-ae03-278920698284.\n",
      "> Parent node text: PAGE 38Before we dive into the final chapter of this book, I’d like to address the serious matter...\n",
      "\n",
      "> Merging 1 nodes into parent node.\n",
      "> Parent node id: 59385be4-0120-436b-aa29-6e161f1843ec.\n",
      "> Parent node text: PAGE 37Overcoming Imposter \n",
      "SyndromeCHAPTER 11\n",
      "\n",
      "> Merging 1 nodes into parent node.\n",
      "> Parent node id: ad187541-4fa7-4a76-a67d-19b0bdc30aa8.\n",
      "> Parent node text: PAGE 39My three-year-old daughter (who can barely count to 12) regularly tries to teach things to...\n",
      "\n",
      "> Merging 1 nodes into parent node.\n",
      "> Parent node id: be1e979c-5092-4968-a90a-abbca55c5019.\n",
      "> Parent node text: PAGE 38Before we dive into the final chapter of this book, I’d like to address the serious matter...\n",
      "\n",
      "> Merging 1 nodes into parent node.\n",
      "> Parent node id: fac7c762-8706-4439-89c8-fb92a6544e11.\n",
      "> Parent node text: PAGE 37Overcoming Imposter \n",
      "SyndromeCHAPTER 11\n"
     ]
    },
    {
     "data": {
      "text/plain": "Groundedness per statement in source:   0%|          | 0/2 [00:00<?, ?it/s]",
      "application/vnd.jupyter.widget-view+json": {
       "version_major": 2,
       "version_minor": 0,
       "model_id": "2914db558c17497fbab570a0f5058116"
      }
     },
     "metadata": {},
     "output_type": "display_data"
    },
    {
     "data": {
      "text/plain": "Groundedness per statement in source:   0%|          | 0/3 [00:00<?, ?it/s]",
      "application/vnd.jupyter.widget-view+json": {
       "version_major": 2,
       "version_minor": 0,
       "model_id": "65e9927c41ab42edba1cb646e723f5bd"
      }
     },
     "metadata": {},
     "output_type": "display_data"
    },
    {
     "data": {
      "text/plain": "Groundedness per statement in source:   0%|          | 0/3 [00:00<?, ?it/s]",
      "application/vnd.jupyter.widget-view+json": {
       "version_major": 2,
       "version_minor": 0,
       "model_id": "51fdf5d97f594b35b5685a5cc0488bf3"
      }
     },
     "metadata": {},
     "output_type": "display_data"
    },
    {
     "name": "stdout",
     "output_type": "stream",
     "text": [
      "> Merging 3 nodes into parent node.\n",
      "> Parent node id: 01f74479-40c9-4d30-8e00-c1de266188b3.\n",
      "> Parent node text: PAGE 40Make Every Day CountFinal Thoughts\n",
      "Every year on my birthday, I get to thinking about the ...\n",
      "\n",
      "> Merging 3 nodes into parent node.\n",
      "> Parent node id: 32fe3ff2-5ba5-4966-9225-8b6169b51783.\n",
      "> Parent node text: PAGE 27There’s a lot we don’t know about the future: When will we cure Alzheimer’s disease? Who w...\n",
      "\n",
      "> Merging 1 nodes into parent node.\n",
      "> Parent node id: 51152c30-af7a-4093-9866-88222dbcbf60.\n",
      "> Parent node text: PAGE 40Make Every Day CountFinal Thoughts\n",
      "Every year on my birthday, I get to thinking about the ...\n",
      "\n",
      "> Merging 1 nodes into parent node.\n",
      "> Parent node id: c0d0fd2c-f689-436e-b992-39021de837ce.\n",
      "> Parent node text: PAGE 27There’s a lot we don’t know about the future: When will we cure Alzheimer’s disease? Who w...\n"
     ]
    },
    {
     "data": {
      "text/plain": "Groundedness per statement in source:   0%|          | 0/4 [00:00<?, ?it/s]",
      "application/vnd.jupyter.widget-view+json": {
       "version_major": 2,
       "version_minor": 0,
       "model_id": "fc3102b1bde94fb99369fd6531da23b7"
      }
     },
     "metadata": {},
     "output_type": "display_data"
    },
    {
     "data": {
      "text/plain": "Groundedness per statement in source:   0%|          | 0/3 [00:00<?, ?it/s]",
      "application/vnd.jupyter.widget-view+json": {
       "version_major": 2,
       "version_minor": 0,
       "model_id": "3448ce10ed5c471c955fc62de1cbcc57"
      }
     },
     "metadata": {},
     "output_type": "display_data"
    },
    {
     "data": {
      "text/plain": "Groundedness per statement in source:   0%|          | 0/2 [00:00<?, ?it/s]",
      "application/vnd.jupyter.widget-view+json": {
       "version_major": 2,
       "version_minor": 0,
       "model_id": "4f63395b6c62456ca25ba828d52652ac"
      }
     },
     "metadata": {},
     "output_type": "display_data"
    },
    {
     "data": {
      "text/plain": "Groundedness per statement in source:   0%|          | 0/8 [00:00<?, ?it/s]",
      "application/vnd.jupyter.widget-view+json": {
       "version_major": 2,
       "version_minor": 0,
       "model_id": "3e9f37d3dc6c4a25beea15e5e67583ab"
      }
     },
     "metadata": {},
     "output_type": "display_data"
    },
    {
     "name": "stdout",
     "output_type": "stream",
     "text": [
      "> Merging 4 nodes into parent node.\n",
      "> Parent node id: 9ee6b2b9-c246-487e-948c-29f57200c98d.\n",
      "> Parent node text: PAGE 13Should you Learn Math to Get a Job in AI? CHAPTER 3\n",
      "Is math a foundational skill for AI? I...\n",
      "\n",
      "> Merging 1 nodes into parent node.\n",
      "> Parent node id: 71a29a74-f057-4102-a89a-25514a3921fb.\n",
      "> Parent node text: I’ve found EDA particularly \n",
      "useful in data-centric AI development, where analyzing errors and ga...\n",
      "\n",
      "> Merging 1 nodes into parent node.\n",
      "> Parent node id: 53cc3577-6bd2-4bac-8be7-01feae18d97a.\n",
      "> Parent node text: PAGE 13Should you Learn Math to Get a Job in AI? CHAPTER 3\n",
      "Is math a foundational skill for AI? I...\n"
     ]
    },
    {
     "data": {
      "text/plain": "Groundedness per statement in source:   0%|          | 0/6 [00:00<?, ?it/s]",
      "application/vnd.jupyter.widget-view+json": {
       "version_major": 2,
       "version_minor": 0,
       "model_id": "27249360a4e5472bbfdeb3b9f6948ab8"
      }
     },
     "metadata": {},
     "output_type": "display_data"
    },
    {
     "data": {
      "text/plain": "Groundedness per statement in source:   0%|          | 0/4 [00:00<?, ?it/s]",
      "application/vnd.jupyter.widget-view+json": {
       "version_major": 2,
       "version_minor": 0,
       "model_id": "279d63376a3b4591a918dfff5a121d3f"
      }
     },
     "metadata": {},
     "output_type": "display_data"
    },
    {
     "data": {
      "text/plain": "Groundedness per statement in source:   0%|          | 0/8 [00:00<?, ?it/s]",
      "application/vnd.jupyter.widget-view+json": {
       "version_major": 2,
       "version_minor": 0,
       "model_id": "974214df3628457eac5f2887c43596ce"
      }
     },
     "metadata": {},
     "output_type": "display_data"
    },
    {
     "name": "stderr",
     "output_type": "stream",
     "text": [
      "Feedback Function exception caught: Traceback (most recent call last):\n",
      "  File \"C:\\Users\\wongs\\Desktop\\Project-Deep Learning\\Codes\\.venv\\Lib\\site-packages\\trulens_eval\\feedback\\feedback.py\", line 854, in run\n",
      "    result_and_meta, part_cost = Endpoint.track_all_costs_tally(\n",
      "                                 ^^^^^^^^^^^^^^^^^^^^^^^^^^^^^^^\n",
      "  File \"C:\\Users\\wongs\\Desktop\\Project-Deep Learning\\Codes\\.venv\\Lib\\site-packages\\trulens_eval\\feedback\\provider\\endpoint\\base.py\", line 496, in track_all_costs_tally\n",
      "    result, cbs = Endpoint.track_all_costs(\n",
      "                  ^^^^^^^^^^^^^^^^^^^^^^^^^\n",
      "  File \"C:\\Users\\wongs\\Desktop\\Project-Deep Learning\\Codes\\.venv\\Lib\\site-packages\\trulens_eval\\feedback\\provider\\endpoint\\base.py\", line 477, in track_all_costs\n",
      "    return Endpoint._track_costs(\n",
      "           ^^^^^^^^^^^^^^^^^^^^^^\n",
      "  File \"C:\\Users\\wongs\\Desktop\\Project-Deep Learning\\Codes\\.venv\\Lib\\site-packages\\trulens_eval\\feedback\\provider\\endpoint\\base.py\", line 574, in _track_costs\n",
      "    result: T = __func(*args, **kwargs)\n",
      "                ^^^^^^^^^^^^^^^^^^^^^^^\n",
      "  File \"C:\\Users\\wongs\\Desktop\\Project-Deep Learning\\Codes\\.venv\\Lib\\site-packages\\trulens_eval\\feedback\\provider\\base.py\", line 405, in qs_relevance_with_cot_reasons\n",
      "    return self.context_relevance_with_cot_reasons(question, context)\n",
      "           ^^^^^^^^^^^^^^^^^^^^^^^^^^^^^^^^^^^^^^^^^^^^^^^^^^^^^^^^^^\n",
      "  File \"C:\\Users\\wongs\\Desktop\\Project-Deep Learning\\Codes\\.venv\\Lib\\site-packages\\trulens_eval\\feedback\\provider\\base.py\", line 391, in context_relevance_with_cot_reasons\n",
      "    return self.generate_score_and_reasons(system_prompt, user_prompt)\n",
      "           ^^^^^^^^^^^^^^^^^^^^^^^^^^^^^^^^^^^^^^^^^^^^^^^^^^^^^^^^^^^\n",
      "  File \"C:\\Users\\wongs\\Desktop\\Project-Deep Learning\\Codes\\.venv\\Lib\\site-packages\\trulens_eval\\feedback\\provider\\base.py\", line 253, in generate_score_and_reasons\n",
      "    score = re_0_10_rating(line) / normalize\n",
      "            ^^^^^^^^^^^^^^^^^^^^\n",
      "  File \"C:\\Users\\wongs\\Desktop\\Project-Deep Learning\\Codes\\.venv\\Lib\\site-packages\\trulens_eval\\utils\\generated.py\", line 70, in re_0_10_rating\n",
      "    raise ParseError(\"int or float number\", s, pattern=PATTERN_INTEGER)\n",
      "trulens_eval.utils.generated.ParseError: Tried to find int or float number using pattern ([+-]?[1-9][0-9]*|0) in\n",
      "  Score: \n",
      "\n",
      "The above exception was the direct cause of the following exception:\n",
      "\n",
      "Traceback (most recent call last):\n",
      "  File \"C:\\Users\\wongs\\Desktop\\Project-Deep Learning\\Codes\\.venv\\Lib\\site-packages\\trulens_eval\\feedback\\feedback.py\", line 860, in run\n",
      "    raise RuntimeError(\n",
      "RuntimeError: Evaluation of Context Relevance failed on inputs: \n",
      "{'context': 'This makes literacy in AI-oriented coding \\n'\n",
      "            'even more valuable than traditional coding. It could ena.\n",
      "\n"
     ]
    },
    {
     "data": {
      "text/plain": "Groundedness per statement in source:   0%|          | 0/5 [00:00<?, ?it/s]",
      "application/vnd.jupyter.widget-view+json": {
       "version_major": 2,
       "version_minor": 0,
       "model_id": "e682fc821d394a8ba55972c1a37b493f"
      }
     },
     "metadata": {},
     "output_type": "display_data"
    },
    {
     "data": {
      "text/plain": "Groundedness per statement in source:   0%|          | 0/4 [00:00<?, ?it/s]",
      "application/vnd.jupyter.widget-view+json": {
       "version_major": 2,
       "version_minor": 0,
       "model_id": "a96e3e3f2e764fd4a4248edf2ab7f8c5"
      }
     },
     "metadata": {},
     "output_type": "display_data"
    },
    {
     "data": {
      "text/plain": "Groundedness per statement in source:   0%|          | 0/2 [00:00<?, ?it/s]",
      "application/vnd.jupyter.widget-view+json": {
       "version_major": 2,
       "version_minor": 0,
       "model_id": "a977c000ed9540679b43aaecfa6bec13"
      }
     },
     "metadata": {},
     "output_type": "display_data"
    },
    {
     "data": {
      "text/plain": "Groundedness per statement in source:   0%|          | 0/4 [00:00<?, ?it/s]",
      "application/vnd.jupyter.widget-view+json": {
       "version_major": 2,
       "version_minor": 0,
       "model_id": "adfcd993f16041f99594b0da25092d14"
      }
     },
     "metadata": {},
     "output_type": "display_data"
    },
    {
     "data": {
      "text/plain": "Groundedness per statement in source:   0%|          | 0/6 [00:00<?, ?it/s]",
      "application/vnd.jupyter.widget-view+json": {
       "version_major": 2,
       "version_minor": 0,
       "model_id": "0ed4c345571d4db3b96ffc5142820b61"
      }
     },
     "metadata": {},
     "output_type": "display_data"
    },
    {
     "name": "stdout",
     "output_type": "stream",
     "text": [
      "> Merging 1 nodes into parent node.\n",
      "> Parent node id: 55987f30-2eb0-42fc-989d-4fde15bed212.\n",
      "> Parent node text: PAGE 14Scoping Successful \n",
      "AI ProjectsCHAPTER 4\n",
      "PROJECTS\n",
      "\n",
      "> Merging 1 nodes into parent node.\n",
      "> Parent node id: 22dad440-b987-4fb3-a9f8-a932b4d43a84.\n",
      "> Parent node text: PAGE 14Scoping Successful \n",
      "AI ProjectsCHAPTER 4\n",
      "PROJECTS\n"
     ]
    },
    {
     "data": {
      "text/plain": "Groundedness per statement in source:   0%|          | 0/3 [00:00<?, ?it/s]",
      "application/vnd.jupyter.widget-view+json": {
       "version_major": 2,
       "version_minor": 0,
       "model_id": "3ba004f5d6094aedb6fac005b64bb1e5"
      }
     },
     "metadata": {},
     "output_type": "display_data"
    },
    {
     "data": {
      "text/plain": "Groundedness per statement in source:   0%|          | 0/14 [00:00<?, ?it/s]",
      "application/vnd.jupyter.widget-view+json": {
       "version_major": 2,
       "version_minor": 0,
       "model_id": "2aaa6445453243f89062e48ba92c3cab"
      }
     },
     "metadata": {},
     "output_type": "display_data"
    },
    {
     "name": "stdout",
     "output_type": "stream",
     "text": [
      "> Merging 2 nodes into parent node.\n",
      "> Parent node id: 71daf6c1-b9cc-4a9b-9562-68909ffe786c.\n",
      "> Parent node text: PAGE 3Table of \n",
      "ContentsIntroduction: Coding AI is the New Literacy.\n",
      "Chapter 1: Three Steps to Ca...\n",
      "\n",
      "> Merging 1 nodes into parent node.\n",
      "> Parent node id: 6c590357-8624-46f1-87ff-f9287615115d.\n",
      "> Parent node text: PAGE 3Table of \n",
      "ContentsIntroduction: Coding AI is the New Literacy.\n",
      "Chapter 1: Three Steps to Ca...\n"
     ]
    },
    {
     "data": {
      "text/plain": "Groundedness per statement in source:   0%|          | 0/2 [00:00<?, ?it/s]",
      "application/vnd.jupyter.widget-view+json": {
       "version_major": 2,
       "version_minor": 0,
       "model_id": "745f9011d58647bbaa3af2bb178a8ff0"
      }
     },
     "metadata": {},
     "output_type": "display_data"
    },
    {
     "data": {
      "text/plain": "Groundedness per statement in source:   0%|          | 0/3 [00:00<?, ?it/s]",
      "application/vnd.jupyter.widget-view+json": {
       "version_major": 2,
       "version_minor": 0,
       "model_id": "23f26f2c32ba4f99bc704b280c064300"
      }
     },
     "metadata": {},
     "output_type": "display_data"
    },
    {
     "data": {
      "text/plain": "Groundedness per statement in source:   0%|          | 0/3 [00:00<?, ?it/s]",
      "application/vnd.jupyter.widget-view+json": {
       "version_major": 2,
       "version_minor": 0,
       "model_id": "dc61b136aeb0435788f26ee33b7b7c47"
      }
     },
     "metadata": {},
     "output_type": "display_data"
    },
    {
     "data": {
      "text/plain": "Groundedness per statement in source:   0%|          | 0/3 [00:00<?, ?it/s]",
      "application/vnd.jupyter.widget-view+json": {
       "version_major": 2,
       "version_minor": 0,
       "model_id": "04507b747f7747a687c6f4c338187b64"
      }
     },
     "metadata": {},
     "output_type": "display_data"
    },
    {
     "data": {
      "text/plain": "Groundedness per statement in source:   0%|          | 0/3 [00:00<?, ?it/s]",
      "application/vnd.jupyter.widget-view+json": {
       "version_major": 2,
       "version_minor": 0,
       "model_id": "f344667d4d4944e097429b4ca0b11f95"
      }
     },
     "metadata": {},
     "output_type": "display_data"
    },
    {
     "data": {
      "text/plain": "Groundedness per statement in source:   0%|          | 0/4 [00:00<?, ?it/s]",
      "application/vnd.jupyter.widget-view+json": {
       "version_major": 2,
       "version_minor": 0,
       "model_id": "a164de892c5a49f59655825c36d54015"
      }
     },
     "metadata": {},
     "output_type": "display_data"
    },
    {
     "name": "stdout",
     "output_type": "stream",
     "text": [
      "> Merging 6 nodes into parent node.\n",
      "> Parent node id: 2e79265d-0817-4484-aa21-d674c1cb1876.\n",
      "> Parent node text: PAGE 4Coding AI Is the New Literacy\n",
      "Today we take it for granted that many people know how to rea...\n",
      "\n",
      "> Merging 1 nodes into parent node.\n",
      "> Parent node id: 4e2b1bc5-cc7a-44f6-9113-4f664be711a8.\n",
      "> Parent node text: PAGE 4Coding AI Is the New Literacy\n",
      "Today we take it for granted that many people know how to rea...\n"
     ]
    },
    {
     "data": {
      "text/plain": "Groundedness per statement in source:   0%|          | 0/3 [00:00<?, ?it/s]",
      "application/vnd.jupyter.widget-view+json": {
       "version_major": 2,
       "version_minor": 0,
       "model_id": "968d43347d1f418da9a5676e2ac68f9a"
      }
     },
     "metadata": {},
     "output_type": "display_data"
    },
    {
     "data": {
      "text/plain": "Groundedness per statement in source:   0%|          | 0/2 [00:00<?, ?it/s]",
      "application/vnd.jupyter.widget-view+json": {
       "version_major": 2,
       "version_minor": 0,
       "model_id": "7d704507332e4497a2881bc4aef23aa7"
      }
     },
     "metadata": {},
     "output_type": "display_data"
    },
    {
     "data": {
      "text/plain": "Groundedness per statement in source:   0%|          | 0/4 [00:00<?, ?it/s]",
      "application/vnd.jupyter.widget-view+json": {
       "version_major": 2,
       "version_minor": 0,
       "model_id": "d671c5ac065a4bee813c20ba7d383fe4"
      }
     },
     "metadata": {},
     "output_type": "display_data"
    },
    {
     "data": {
      "text/plain": "Groundedness per statement in source:   0%|          | 0/6 [00:00<?, ?it/s]",
      "application/vnd.jupyter.widget-view+json": {
       "version_major": 2,
       "version_minor": 0,
       "model_id": "76fea95d6fe04c1bb8a775349628aab6"
      }
     },
     "metadata": {},
     "output_type": "display_data"
    },
    {
     "name": "stdout",
     "output_type": "stream",
     "text": [
      "> Merging 3 nodes into parent node.\n",
      "> Parent node id: 56fcc644-5c7f-48a5-8221-7d2b281f150f.\n",
      "> Parent node text: PAGE 6The rapid rise of AI has led to a rapid rise in AI jobs, and many people are building excit...\n",
      "\n",
      "> Merging 2 nodes into parent node.\n",
      "> Parent node id: 71daf6c1-b9cc-4a9b-9562-68909ffe786c.\n",
      "> Parent node text: PAGE 3Table of \n",
      "ContentsIntroduction: Coding AI is the New Literacy.\n",
      "Chapter 1: Three Steps to Ca...\n",
      "\n",
      "> Merging 1 nodes into parent node.\n",
      "> Parent node id: 67fd1d18-4c45-46c6-904b-25fcc5d531a6.\n",
      "> Parent node text: PAGE 12Should You \n",
      "Learn Math to \n",
      "Get a Job in AI? CHAPTER 3\n",
      "LEARNING\n",
      "\n",
      "> Merging 1 nodes into parent node.\n",
      "> Parent node id: fea5c990-e58e-4546-b162-6eb653a060af.\n",
      "> Parent node text: PAGE 5Three Steps to \n",
      "Career GrowthCHAPTER 1\n",
      "\n",
      "> Merging 1 nodes into parent node.\n",
      "> Parent node id: ceaf5d22-4dd4-4399-a9dc-ba1bff09902f.\n",
      "> Parent node text: PAGE 6The rapid rise of AI has led to a rapid rise in AI jobs, and many people are building excit...\n",
      "\n",
      "> Merging 1 nodes into parent node.\n",
      "> Parent node id: 6c590357-8624-46f1-87ff-f9287615115d.\n",
      "> Parent node text: PAGE 3Table of \n",
      "ContentsIntroduction: Coding AI is the New Literacy.\n",
      "Chapter 1: Three Steps to Ca...\n",
      "\n",
      "> Merging 1 nodes into parent node.\n",
      "> Parent node id: 59faffcd-1d70-4d95-8fcc-4e1691bc7f57.\n",
      "> Parent node text: PAGE 12Should You \n",
      "Learn Math to \n",
      "Get a Job in AI? CHAPTER 3\n",
      "LEARNING\n",
      "\n",
      "> Merging 1 nodes into parent node.\n",
      "> Parent node id: 9eb9e423-4f28-4c7f-bda9-9bcf80500186.\n",
      "> Parent node text: PAGE 5Three Steps to \n",
      "Career GrowthCHAPTER 1\n"
     ]
    },
    {
     "data": {
      "text/plain": "Groundedness per statement in source:   0%|          | 0/2 [00:00<?, ?it/s]",
      "application/vnd.jupyter.widget-view+json": {
       "version_major": 2,
       "version_minor": 0,
       "model_id": "7cc1b3d22fb54c1dbada404753168814"
      }
     },
     "metadata": {},
     "output_type": "display_data"
    }
   ],
   "source": [
    "run_evals(eval_questions=eval_questions, tru_recorder=tru_recorder, query_engine=auto_merging_engine_1)\n"
   ],
   "metadata": {
    "collapsed": false,
    "ExecuteTime": {
     "end_time": "2024-04-14T06:41:27.347584Z",
     "start_time": "2024-04-14T06:36:15.480224Z"
    }
   },
   "id": "72e3202364c953a6",
   "execution_count": 21
  },
  {
   "cell_type": "code",
   "outputs": [
    {
     "name": "stdout",
     "output_type": "stream",
     "text": [
      "Starting dashboard ...\n",
      "Config file already exists. Skipping writing process.\n",
      "Credentials file already exists. Skipping writing process.\n"
     ]
    },
    {
     "data": {
      "text/plain": "Accordion(children=(VBox(children=(VBox(children=(Label(value='STDOUT'), Output())), VBox(children=(Label(valu…",
      "application/vnd.jupyter.widget-view+json": {
       "version_major": 2,
       "version_minor": 0,
       "model_id": "f638a6d8e13243ec9f0e678bb7384510"
      }
     },
     "metadata": {},
     "output_type": "display_data"
    },
    {
     "data": {
      "text/plain": "Groundedness per statement in source:   0%|          | 0/4 [00:00<?, ?it/s]",
      "application/vnd.jupyter.widget-view+json": {
       "version_major": 2,
       "version_minor": 0,
       "model_id": "4d3b03478499495b8a234effa189291a"
      }
     },
     "metadata": {},
     "output_type": "display_data"
    },
    {
     "data": {
      "text/plain": "Groundedness per statement in source:   0%|          | 0/3 [00:00<?, ?it/s]",
      "application/vnd.jupyter.widget-view+json": {
       "version_major": 2,
       "version_minor": 0,
       "model_id": "59f928b8116147198f0e0d6a932696a0"
      }
     },
     "metadata": {},
     "output_type": "display_data"
    },
    {
     "name": "stdout",
     "output_type": "stream",
     "text": [
      "Dashboard started at http://10.91.30.3:8501 .\n"
     ]
    },
    {
     "data": {
      "text/plain": "<Popen: returncode: None args: ['streamlit', 'run', '--server.headless=True'...>"
     },
     "execution_count": 22,
     "metadata": {},
     "output_type": "execute_result"
    }
   ],
   "source": [
    "Tru().run_dashboard()"
   ],
   "metadata": {
    "collapsed": false,
    "ExecuteTime": {
     "end_time": "2024-04-14T06:41:40.209Z",
     "start_time": "2024-04-14T06:41:27.349584Z"
    }
   },
   "id": "3e45c7ce1b625983",
   "execution_count": 22
  }
 ],
 "metadata": {
  "kernelspec": {
   "display_name": "Python 3",
   "language": "python",
   "name": "python3"
  },
  "language_info": {
   "codemirror_mode": {
    "name": "ipython",
    "version": 2
   },
   "file_extension": ".py",
   "mimetype": "text/x-python",
   "name": "python",
   "nbconvert_exporter": "python",
   "pygments_lexer": "ipython2",
   "version": "2.7.6"
  }
 },
 "nbformat": 4,
 "nbformat_minor": 5
}
